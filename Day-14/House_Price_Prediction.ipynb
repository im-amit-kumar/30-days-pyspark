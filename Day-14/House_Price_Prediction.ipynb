{
  "nbformat": 4,
  "nbformat_minor": 0,
  "metadata": {
    "colab": {
      "provenance": []
    },
    "kernelspec": {
      "name": "python3",
      "display_name": "Python 3"
    },
    "language_info": {
      "name": "python"
    }
  },
  "cells": [
    {
      "cell_type": "code",
      "execution_count": null,
      "metadata": {
        "colab": {
          "base_uri": "https://localhost:8080/"
        },
        "id": "vmsblGx29ZJZ",
        "outputId": "f29b5ee1-ddc3-49df-9074-267e36f25e5b"
      },
      "outputs": [
        {
          "output_type": "stream",
          "name": "stdout",
          "text": [
            "Mounted at /content/gdrive\n"
          ]
        }
      ],
      "source": [
        "from google.colab import drive\n",
        "drive.mount(\"/content/gdrive\", force_remount=True)"
      ]
    },
    {
      "cell_type": "code",
      "source": [
        "cd /content/gdrive/MyDrive/Pyspark/House_Price"
      ],
      "metadata": {
        "colab": {
          "base_uri": "https://localhost:8080/"
        },
        "id": "qk_7e9qD9k5Q",
        "outputId": "8bb126cc-a088-4c1c-b4f5-1f5685cf06a2"
      },
      "execution_count": null,
      "outputs": [
        {
          "output_type": "stream",
          "name": "stdout",
          "text": [
            "/content/gdrive/MyDrive/Pyspark/House_Price\n"
          ]
        }
      ]
    },
    {
      "cell_type": "code",
      "source": [
        "!pip install pyspark"
      ],
      "metadata": {
        "colab": {
          "base_uri": "https://localhost:8080/"
        },
        "id": "P7hVzcKg-Npf",
        "outputId": "51f4df96-aafa-48c8-fda1-0abf1817fad9"
      },
      "execution_count": null,
      "outputs": [
        {
          "output_type": "stream",
          "name": "stdout",
          "text": [
            "Looking in indexes: https://pypi.org/simple, https://us-python.pkg.dev/colab-wheels/public/simple/\n",
            "Requirement already satisfied: pyspark in /usr/local/lib/python3.7/dist-packages (3.3.0)\n",
            "Requirement already satisfied: py4j==0.10.9.5 in /usr/local/lib/python3.7/dist-packages (from pyspark) (0.10.9.5)\n"
          ]
        }
      ]
    },
    {
      "cell_type": "code",
      "source": [
        "import os\n",
        "import pandas as pd\n",
        "import numpy as np\n",
        "import matplotlib.pyplot as plt\n",
        "import seaborn as sns\n",
        "\n",
        "from pyspark import SparkConf , SparkContext\n",
        "from pyspark.sql import SparkSession , SQLContext\n",
        "\n",
        "\n",
        "from pyspark.sql.types import *\n",
        "import pyspark.sql.functions as f\n",
        "from pyspark.sql.functions import udf , col\n",
        "\n",
        "from pyspark.ml.regression import LinearRegression, DecisionTreeRegressor, GBTRegressor\n",
        "from pyspark.mllib.evaluation import RegressionMetrics\n",
        "\n",
        "from pyspark.ml.tuning import ParamGridBuilder, CrossValidator , CrossValidatorModel\n",
        "from pyspark.ml.feature import VectorAssembler,StringIndexer,OneHotEncoder,StandardScaler\n",
        "from pyspark.ml.evaluation import RegressionEvaluator"
      ],
      "metadata": {
        "id": "gY_ieuhL-RgV"
      },
      "execution_count": null,
      "outputs": []
    },
    {
      "cell_type": "code",
      "source": [
        "spark =SparkSession.builder.getOrCreate()"
      ],
      "metadata": {
        "id": "YAu9K-GF_bNW"
      },
      "execution_count": null,
      "outputs": []
    },
    {
      "cell_type": "code",
      "source": [
        "spark"
      ],
      "metadata": {
        "colab": {
          "base_uri": "https://localhost:8080/",
          "height": 219
        },
        "id": "uGOvHlQsBNrO",
        "outputId": "2f728d59-89d2-4e97-cfec-ff62fd918052"
      },
      "execution_count": null,
      "outputs": [
        {
          "output_type": "execute_result",
          "data": {
            "text/plain": [
              "<pyspark.sql.session.SparkSession at 0x7fd62618d890>"
            ],
            "text/html": [
              "\n",
              "            <div>\n",
              "                <p><b>SparkSession - in-memory</b></p>\n",
              "                \n",
              "        <div>\n",
              "            <p><b>SparkContext</b></p>\n",
              "\n",
              "            <p><a href=\"http://4a74bd719062:4040\">Spark UI</a></p>\n",
              "\n",
              "            <dl>\n",
              "              <dt>Version</dt>\n",
              "                <dd><code>v3.3.0</code></dd>\n",
              "              <dt>Master</dt>\n",
              "                <dd><code>local[*]</code></dd>\n",
              "              <dt>AppName</dt>\n",
              "                <dd><code>pyspark-shell</code></dd>\n",
              "            </dl>\n",
              "        </div>\n",
              "        \n",
              "            </div>\n",
              "        "
            ]
          },
          "metadata": {},
          "execution_count": 6
        }
      ]
    },
    {
      "cell_type": "code",
      "source": [
        "schema = StructType([\n",
        "    StructField(\"long\", FloatType(), nullable=True),\n",
        "    StructField(\"lat\", FloatType(), nullable=True),\n",
        "    StructField(\"medage\", FloatType(), nullable=True),\n",
        "    StructField(\"totrooms\", FloatType(), nullable=True),\n",
        "    StructField(\"totbdrms\", FloatType(), nullable=True),\n",
        "    StructField(\"pop\", FloatType(), nullable=True),\n",
        "    StructField(\"houshlds\", FloatType(), nullable=True),\n",
        "    StructField(\"medinc\", FloatType(), nullable=True),\n",
        "    StructField(\"medhv\", FloatType(), nullable=True)]\n",
        ")"
      ],
      "metadata": {
        "id": "TjMwFiA-BOqq"
      },
      "execution_count": null,
      "outputs": []
    },
    {
      "cell_type": "code",
      "source": [
        "df = spark.read.csv(\"/content/gdrive/MyDrive/Pyspark/House_Price/cal_housing.data\",schema=schema)"
      ],
      "metadata": {
        "id": "s1esWSbzB8Of"
      },
      "execution_count": null,
      "outputs": []
    },
    {
      "cell_type": "code",
      "source": [
        "df.show(5)"
      ],
      "metadata": {
        "colab": {
          "base_uri": "https://localhost:8080/"
        },
        "id": "Zzk7SiYZCKRV",
        "outputId": "9fa29a75-24b2-4112-9376-b2070d39f8b5"
      },
      "execution_count": null,
      "outputs": [
        {
          "output_type": "stream",
          "name": "stdout",
          "text": [
            "+-------+-----+------+--------+--------+------+--------+------+--------+\n",
            "|   long|  lat|medage|totrooms|totbdrms|   pop|houshlds|medinc|   medhv|\n",
            "+-------+-----+------+--------+--------+------+--------+------+--------+\n",
            "|-122.23|37.88|  41.0|   880.0|   129.0| 322.0|   126.0|8.3252|452600.0|\n",
            "|-122.22|37.86|  21.0|  7099.0|  1106.0|2401.0|  1138.0|8.3014|358500.0|\n",
            "|-122.24|37.85|  52.0|  1467.0|   190.0| 496.0|   177.0|7.2574|352100.0|\n",
            "|-122.25|37.85|  52.0|  1274.0|   235.0| 558.0|   219.0|5.6431|341300.0|\n",
            "|-122.25|37.85|  52.0|  1627.0|   280.0| 565.0|   259.0|3.8462|342200.0|\n",
            "+-------+-----+------+--------+--------+------+--------+------+--------+\n",
            "only showing top 5 rows\n",
            "\n"
          ]
        }
      ]
    },
    {
      "cell_type": "code",
      "source": [
        "df.printSchema()"
      ],
      "metadata": {
        "colab": {
          "base_uri": "https://localhost:8080/"
        },
        "id": "K6CtOMt1CNSt",
        "outputId": "201ca2d0-24a6-44d3-b0cb-f09a277e0b98"
      },
      "execution_count": null,
      "outputs": [
        {
          "output_type": "stream",
          "name": "stdout",
          "text": [
            "root\n",
            " |-- long: float (nullable = true)\n",
            " |-- lat: float (nullable = true)\n",
            " |-- medage: float (nullable = true)\n",
            " |-- totrooms: float (nullable = true)\n",
            " |-- totbdrms: float (nullable = true)\n",
            " |-- pop: float (nullable = true)\n",
            " |-- houshlds: float (nullable = true)\n",
            " |-- medinc: float (nullable = true)\n",
            " |-- medhv: float (nullable = true)\n",
            "\n"
          ]
        }
      ]
    },
    {
      "cell_type": "markdown",
      "source": [
        "Checking Missing Values"
      ],
      "metadata": {
        "id": "QzEjOr3HCnrQ"
      }
    },
    {
      "cell_type": "code",
      "source": [
        "df.select([f.count(f.when(f.isnull(column), column )).alias(column) for column in df.columns]).show()"
      ],
      "metadata": {
        "colab": {
          "base_uri": "https://localhost:8080/"
        },
        "id": "va67Cz2YCUmN",
        "outputId": "fa2e8abe-f8db-4091-ab62-936592a8d8ce"
      },
      "execution_count": null,
      "outputs": [
        {
          "output_type": "stream",
          "name": "stdout",
          "text": [
            "+----+---+------+--------+--------+---+--------+------+-----+\n",
            "|long|lat|medage|totrooms|totbdrms|pop|houshlds|medinc|medhv|\n",
            "+----+---+------+--------+--------+---+--------+------+-----+\n",
            "|   0|  0|     0|       0|       0|  0|       0|     0|    0|\n",
            "+----+---+------+--------+--------+---+--------+------+-----+\n",
            "\n"
          ]
        }
      ]
    },
    {
      "cell_type": "markdown",
      "source": [
        "EDA"
      ],
      "metadata": {
        "id": "I8-l5hxLC1dQ"
      }
    },
    {
      "cell_type": "markdown",
      "source": [
        "Distribution of the median age of the people living in the area"
      ],
      "metadata": {
        "id": "KlQTsADjDA0f"
      }
    },
    {
      "cell_type": "code",
      "source": [
        "df.groupBy(\"medage\").count().sort(\"medage\",ascending=False).show()"
      ],
      "metadata": {
        "colab": {
          "base_uri": "https://localhost:8080/"
        },
        "id": "GEEtKMbACkh1",
        "outputId": "7241988f-ee3d-4fff-8c0d-a02776b38404"
      },
      "execution_count": null,
      "outputs": [
        {
          "output_type": "stream",
          "name": "stdout",
          "text": [
            "+------+-----+\n",
            "|medage|count|\n",
            "+------+-----+\n",
            "|  52.0| 1273|\n",
            "|  51.0|   48|\n",
            "|  50.0|  136|\n",
            "|  49.0|  134|\n",
            "|  48.0|  177|\n",
            "|  47.0|  198|\n",
            "|  46.0|  245|\n",
            "|  45.0|  294|\n",
            "|  44.0|  356|\n",
            "|  43.0|  353|\n",
            "|  42.0|  368|\n",
            "|  41.0|  296|\n",
            "|  40.0|  304|\n",
            "|  39.0|  369|\n",
            "|  38.0|  394|\n",
            "|  37.0|  537|\n",
            "|  36.0|  862|\n",
            "|  35.0|  824|\n",
            "|  34.0|  689|\n",
            "|  33.0|  615|\n",
            "+------+-----+\n",
            "only showing top 20 rows\n",
            "\n"
          ]
        }
      ]
    },
    {
      "cell_type": "code",
      "source": [
        "df.groupBy(\"medage\").count().sort(\"medage\",ascending=False).toPandas().plot.bar(x=\"medage\",figsize=(14,8))"
      ],
      "metadata": {
        "colab": {
          "base_uri": "https://localhost:8080/",
          "height": 526
        },
        "id": "THlCnBirDe-A",
        "outputId": "494292b0-1c00-4957-dd37-03ccbd3ae66a"
      },
      "execution_count": null,
      "outputs": [
        {
          "output_type": "execute_result",
          "data": {
            "text/plain": [
              "<matplotlib.axes._subplots.AxesSubplot at 0x7fd62508fb90>"
            ]
          },
          "metadata": {},
          "execution_count": 13
        },
        {
          "output_type": "display_data",
          "data": {
            "text/plain": [
              "<Figure size 1008x576 with 1 Axes>"
            ],
            "image/png": "[encoded data removed]"
          },
          "metadata": {
            "needs_background": "light"
          }
        }
      ]
    },
    {
      "cell_type": "markdown",
      "source": [
        "Most of the People are in Youth or Settle here dusring there Senior Years."
      ],
      "metadata": {
        "id": "iI0GHNxBEr1A"
      }
    },
    {
      "cell_type": "code",
      "source": [
        "df.describe().show()"
      ],
      "metadata": {
        "colab": {
          "base_uri": "https://localhost:8080/"
        },
        "id": "NXSQIb0JDxa-",
        "outputId": "f5225f83-8cdc-4756-fda6-8b960c81bd18"
      },
      "execution_count": null,
      "outputs": [
        {
          "output_type": "stream",
          "name": "stdout",
          "text": [
            "+-------+-------------------+-----------------+------------------+------------------+-----------------+------------------+-----------------+------------------+------------------+\n",
            "|summary|               long|              lat|            medage|          totrooms|         totbdrms|               pop|         houshlds|            medinc|             medhv|\n",
            "+-------+-------------------+-----------------+------------------+------------------+-----------------+------------------+-----------------+------------------+------------------+\n",
            "|  count|              20640|            20640|             20640|             20640|            20640|             20640|            20640|             20640|             20640|\n",
            "|   mean|-119.56970444871473|35.63186143109965|28.639486434108527|2635.7630813953488|537.8980135658915|1425.4767441860465|499.5396802325581|3.8706710030346416|206855.81690891474|\n",
            "| stddev|  2.003531742932898|2.135952380602968| 12.58555761211163|2181.6152515827944| 421.247905943133|  1132.46212176534|382.3297528316098|1.8998217183639696|115395.61587441359|\n",
            "|    min|            -124.35|            32.54|               1.0|               2.0|              1.0|               3.0|              1.0|            0.4999|           14999.0|\n",
            "|    max|            -114.31|            41.95|              52.0|           39320.0|           6445.0|           35682.0|           6082.0|           15.0001|          500001.0|\n",
            "+-------+-------------------+-----------------+------------------+------------------+-----------------+------------------+-----------------+------------------+------------------+\n",
            "\n"
          ]
        }
      ]
    },
    {
      "cell_type": "markdown",
      "source": [
        "we need to Standardize our dataset as multiple columns have widevrange of values between max and min"
      ],
      "metadata": {
        "id": "AyjAIj8sINBI"
      }
    },
    {
      "cell_type": "markdown",
      "source": [
        "Preprocessing the Target Value"
      ],
      "metadata": {
        "id": "Dou6-ZUNIqUH"
      }
    },
    {
      "cell_type": "code",
      "source": [
        "#we will express the house values in units of 100,000. \n",
        "#That means that a target such as 452600.000000 should become 4.526:\n",
        "df = df.withColumn(\"medhv\",col(\"medhv\")/10000)"
      ],
      "metadata": {
        "id": "tScTjWuWIMcQ"
      },
      "execution_count": null,
      "outputs": []
    },
    {
      "cell_type": "code",
      "source": [
        "df.show(5)"
      ],
      "metadata": {
        "colab": {
          "base_uri": "https://localhost:8080/"
        },
        "id": "MTOtKVDrIGbf",
        "outputId": "815afe01-893b-461a-c6b2-06aaf21d1fbe"
      },
      "execution_count": null,
      "outputs": [
        {
          "output_type": "stream",
          "name": "stdout",
          "text": [
            "+-------+-----+------+--------+--------+------+--------+------+-----+\n",
            "|   long|  lat|medage|totrooms|totbdrms|   pop|houshlds|medinc|medhv|\n",
            "+-------+-----+------+--------+--------+------+--------+------+-----+\n",
            "|-122.23|37.88|  41.0|   880.0|   129.0| 322.0|   126.0|8.3252|45.26|\n",
            "|-122.22|37.86|  21.0|  7099.0|  1106.0|2401.0|  1138.0|8.3014|35.85|\n",
            "|-122.24|37.85|  52.0|  1467.0|   190.0| 496.0|   177.0|7.2574|35.21|\n",
            "|-122.25|37.85|  52.0|  1274.0|   235.0| 558.0|   219.0|5.6431|34.13|\n",
            "|-122.25|37.85|  52.0|  1627.0|   280.0| 565.0|   259.0|3.8462|34.22|\n",
            "+-------+-----+------+--------+--------+------+--------+------+-----+\n",
            "only showing top 5 rows\n",
            "\n"
          ]
        }
      ]
    },
    {
      "cell_type": "markdown",
      "source": [
        "feature Engineering\n",
        "\n",
        "We will now add the following Columns\n",
        "\n",
        "1. Rooms per household which refers to the number of rooms in households per block group.\n",
        "\n",
        "2. Population per household, which basically gives us an indication of how many people live in households per block group.\n",
        "\n",
        "3. Bedrooms per room which will give us an idea about how many rooms are bedrooms per block group;"
      ],
      "metadata": {
        "id": "6c6VAUVnJm6L"
      }
    },
    {
      "cell_type": "code",
      "source": [
        "df = (\n",
        "    df.withColumn(\"rmsperhh\",f.round(col(\"totrooms\")/col(\"houshlds\"),2))\n",
        "    .withColumn(\"popperhh\",f.round(col(\"pop\")/col(\"houshlds\"),2))\n",
        "    .withColumn(\"bdrmperrm\",f.round(col(\"totbdrms\")/col(\"totrooms\"),2)))"
      ],
      "metadata": {
        "id": "OWy2KKsQJWfO"
      },
      "execution_count": null,
      "outputs": []
    },
    {
      "cell_type": "code",
      "source": [
        "df.show(5)"
      ],
      "metadata": {
        "colab": {
          "base_uri": "https://localhost:8080/"
        },
        "id": "u87buBl8Nnh3",
        "outputId": "198b1d0e-f920-436b-88ac-462c0b6e936a"
      },
      "execution_count": null,
      "outputs": [
        {
          "output_type": "stream",
          "name": "stdout",
          "text": [
            "+-------+-----+------+--------+--------+------+--------+------+-----+--------+--------+---------+\n",
            "|   long|  lat|medage|totrooms|totbdrms|   pop|houshlds|medinc|medhv|rmsperhh|popperhh|bdrmperrm|\n",
            "+-------+-----+------+--------+--------+------+--------+------+-----+--------+--------+---------+\n",
            "|-122.23|37.88|  41.0|   880.0|   129.0| 322.0|   126.0|8.3252|45.26|    6.98|    2.56|     0.15|\n",
            "|-122.22|37.86|  21.0|  7099.0|  1106.0|2401.0|  1138.0|8.3014|35.85|    6.24|    2.11|     0.16|\n",
            "|-122.24|37.85|  52.0|  1467.0|   190.0| 496.0|   177.0|7.2574|35.21|    8.29|     2.8|     0.13|\n",
            "|-122.25|37.85|  52.0|  1274.0|   235.0| 558.0|   219.0|5.6431|34.13|    5.82|    2.55|     0.18|\n",
            "|-122.25|37.85|  52.0|  1627.0|   280.0| 565.0|   259.0|3.8462|34.22|    6.28|    2.18|     0.17|\n",
            "+-------+-----+------+--------+--------+------+--------+------+-----+--------+--------+---------+\n",
            "only showing top 5 rows\n",
            "\n"
          ]
        }
      ]
    },
    {
      "cell_type": "markdown",
      "source": [
        "so from first row we are able to see there are 6.98 rooms per households , 2.5 people per house hold but the amount of room is very low 0.15\n",
        "\n",
        "Now we will select necessary columns "
      ],
      "metadata": {
        "id": "Wh8r2HssPGiZ"
      }
    },
    {
      "cell_type": "code",
      "source": [
        "df = df.select(\"medhv\",  \"totbdrms\",  \"pop\",  \"houshlds\",  \"medinc\",  \"rmsperhh\", \"popperhh\", \"bdrmperrm\")"
      ],
      "metadata": {
        "id": "_8-Xsn2kPFnJ"
      },
      "execution_count": null,
      "outputs": []
    },
    {
      "cell_type": "markdown",
      "source": [],
      "metadata": {
        "id": "uqR_bp-QPF1x"
      }
    },
    {
      "cell_type": "code",
      "source": [
        "feature_cols =[ \"totbdrms\",  \"pop\",  \"houshlds\",  \"medinc\",  \"rmsperhh\", \"popperhh\", \"bdrmperrm\"]"
      ],
      "metadata": {
        "id": "VjUgEaC7N2Ff"
      },
      "execution_count": null,
      "outputs": []
    },
    {
      "cell_type": "code",
      "source": [
        "#Use a VectorAssembler to put features into a feature vector column:\n",
        "assembler = VectorAssembler(inputCols=feature_cols, outputCol=\"features\") "
      ],
      "metadata": {
        "id": "HMAwu_qYobl1"
      },
      "execution_count": null,
      "outputs": []
    },
    {
      "cell_type": "code",
      "source": [
        "df_vc = assembler.transform(df)"
      ],
      "metadata": {
        "id": "-ZOnccOtpT4K"
      },
      "execution_count": null,
      "outputs": []
    },
    {
      "cell_type": "code",
      "source": [
        "df_vc.show(2)"
      ],
      "metadata": {
        "colab": {
          "base_uri": "https://localhost:8080/"
        },
        "id": "kN_8r8JVp3bW",
        "outputId": "f399beed-6851-49a1-b950-28b714085b21"
      },
      "execution_count": null,
      "outputs": [
        {
          "output_type": "stream",
          "name": "stdout",
          "text": [
            "+-----+--------+------+--------+------+--------+--------+---------+--------------------+\n",
            "|medhv|totbdrms|   pop|houshlds|medinc|rmsperhh|popperhh|bdrmperrm|            features|\n",
            "+-----+--------+------+--------+------+--------+--------+---------+--------------------+\n",
            "|45.26|   129.0| 322.0|   126.0|8.3252|    6.98|    2.56|     0.15|[129.0,322.0,126....|\n",
            "|35.85|  1106.0|2401.0|  1138.0|8.3014|    6.24|    2.11|     0.16|[1106.0,2401.0,11...|\n",
            "+-----+--------+------+--------+------+--------+--------+---------+--------------------+\n",
            "only showing top 2 rows\n",
            "\n"
          ]
        }
      ]
    },
    {
      "cell_type": "markdown",
      "source": [
        "Standardization"
      ],
      "metadata": {
        "id": "jR92YM9tqRAn"
      }
    },
    {
      "cell_type": "code",
      "source": [
        "sc = StandardScaler(inputCol=\"features\", outputCol=\"features_scaled\")"
      ],
      "metadata": {
        "id": "wzqxutzZp6Az"
      },
      "execution_count": null,
      "outputs": []
    },
    {
      "cell_type": "code",
      "source": [
        "# Fit the DataFrame to the scaler\n",
        "scaled_df = sc.fit(df_vc).transform(df_vc)"
      ],
      "metadata": {
        "id": "0fAs7ftxqz-u"
      },
      "execution_count": null,
      "outputs": []
    },
    {
      "cell_type": "code",
      "source": [
        "scaled_df.select('features','features_scaled').show(5)"
      ],
      "metadata": {
        "colab": {
          "base_uri": "https://localhost:8080/"
        },
        "id": "J4hiStnSrGVW",
        "outputId": "eec812c9-5a05-4919-c3b7-a9f89e2d78a8"
      },
      "execution_count": null,
      "outputs": [
        {
          "output_type": "stream",
          "name": "stdout",
          "text": [
            "+--------------------+--------------------+\n",
            "|            features|     features_scaled|\n",
            "+--------------------+--------------------+\n",
            "|[129.0,322.0,126....|[0.30623297630686...|\n",
            "|[1106.0,2401.0,11...|[2.62553233949916...|\n",
            "|[190.0,496.0,177....|[0.45104081781631...|\n",
            "|[235.0,558.0,219....|[0.55786627466754...|\n",
            "|[280.0,565.0,259....|[0.66469173151877...|\n",
            "+--------------------+--------------------+\n",
            "only showing top 5 rows\n",
            "\n"
          ]
        }
      ]
    },
    {
      "cell_type": "code",
      "source": [
        "scaled_df.select(\"features\", \"features_scaled\").show(10, truncate=False)"
      ],
      "metadata": {
        "colab": {
          "base_uri": "https://localhost:8080/"
        },
        "id": "aZNigc9jy-J9",
        "outputId": "3f2d96b5-57dc-432c-81f0-591a3dc2e16f"
      },
      "execution_count": null,
      "outputs": [
        {
          "output_type": "stream",
          "name": "stdout",
          "text": [
            "+-------------------------------------------------------+--------------------------------------------------------------------------------------------------------------------------------------+\n",
            "|features                                               |features_scaled                                                                                                                       |\n",
            "+-------------------------------------------------------+--------------------------------------------------------------------------------------------------------------------------------------+\n",
            "|[129.0,322.0,126.0,8.325200080871582,6.98,2.56,0.15]   |[0.30623297630686513,0.2843362208866199,0.3295584480852433,4.38209543579743,2.8211223886115664,0.24648542140099877,2.5828740130262697]|\n",
            "|[1106.0,2401.0,1138.0,8.301400184631348,6.24,2.11,0.16]|[2.6255323394991694,2.1201592122632746,2.9764882057222772,4.36956799913841,2.522034914747303,0.20315790592035446,2.755065613894688]   |\n",
            "|[190.0,496.0,177.0,7.257400035858154,8.29,2.8,0.13]    |[0.451040817816313,0.4379837439744208,0.4629511532626037,3.820042673324032,3.3505880518037077,0.2695934296573424,2.238490811289434]   |\n",
            "|[235.0,558.0,219.0,5.643099784851074,5.82,2.55,0.18]   |[0.557866274667545,0.4927317119712234,0.5728039692910182,2.970331231769803,2.3522825647162344,0.2455225877236511,3.099448815631524]   |\n",
            "|[280.0,565.0,259.0,3.8461999893188477,6.28,2.18,0.17]  |[0.664691731518777,0.4989129341644108,0.6774256988418891,2.024505748166202,2.538201805226452,0.20989774166178804,2.9272572147631064]  |\n",
            "|[213.0,413.0,193.0,4.036799907684326,4.76,2.14,0.23]   |[0.5056404957624983,0.364692109398056,0.5047998450829521,2.124830908428931,1.9238599670187757,0.20604640695239743,3.960406819973614]  |\n",
            "|[489.0,1094.0,514.0,3.65910005569458,4.93,2.13,0.19]   |[1.1608366311167213,0.9660367256210006,1.344389224728691,1.9260228580003875,1.9925692515551605,0.20508357327504975,3.271640416499942] |\n",
            "|[687.0,1157.0,647.0,3.119999885559082,4.8,1.79,0.22]   |[1.6308686412621423,1.021667725359687,1.6922564754853369,1.6422593001231023,1.9400268574979251,0.1723472282452296,3.788215219105196]  |\n",
            "|[665.0,1206.0,595.0,2.080399990081787,4.29,2.03,0.26]  |[1.5786428623570954,1.0649362807119989,1.5562482270692046,1.0950501144251168,1.7338990038887707,0.19545523650157323,4.476981622578868]|\n",
            "|[707.0,1551.0,714.0,3.691200017929077,4.97,2.17,0.2]   |[1.678346622084912,1.3695822316619488,1.8674978724830456,1.9429191603871925,2.00873614203431,0.20893490798444037,3.44383201736836]    |\n",
            "+-------------------------------------------------------+--------------------------------------------------------------------------------------------------------------------------------------+\n",
            "only showing top 10 rows\n",
            "\n"
          ]
        }
      ]
    },
    {
      "cell_type": "code",
      "source": [],
      "metadata": {
        "id": "QMrMv5pQzUPN"
      },
      "execution_count": null,
      "outputs": []
    },
    {
      "cell_type": "markdown",
      "source": [
        "Train Test Split"
      ],
      "metadata": {
        "id": "vkSnEf9IrgMX"
      }
    },
    {
      "cell_type": "code",
      "source": [
        "train_data, test_data = scaled_df.randomSplit([.8,.2],seed=99)"
      ],
      "metadata": {
        "id": "nsql-MRrrRS_"
      },
      "execution_count": null,
      "outputs": []
    },
    {
      "cell_type": "markdown",
      "source": [
        "Machine Learning"
      ],
      "metadata": {
        "id": "qh4Yp6QysWkJ"
      }
    },
    {
      "cell_type": "markdown",
      "source": [
        "Linear Regression"
      ],
      "metadata": {
        "id": "7ZdLgy1hsatV"
      }
    },
    {
      "cell_type": "code",
      "source": [
        "lr = LinearRegression(featuresCol='features_scaled', labelCol=\"medhv\")"
      ],
      "metadata": {
        "id": "r2BRC07GsfbE"
      },
      "execution_count": null,
      "outputs": []
    },
    {
      "cell_type": "code",
      "source": [
        "# Fit the data to the model\n",
        "linearModel = lr.fit(train_data)"
      ],
      "metadata": {
        "id": "VE_ZtKe6zsu5"
      },
      "execution_count": null,
      "outputs": []
    },
    {
      "cell_type": "code",
      "source": [
        "# Generate predictions\n",
        "predictions = linearModel.transform(test_data)"
      ],
      "metadata": {
        "id": "J-SeRu3rzsyO"
      },
      "execution_count": null,
      "outputs": []
    },
    {
      "cell_type": "code",
      "source": [
        "predictions.show(5)"
      ],
      "metadata": {
        "colab": {
          "base_uri": "https://localhost:8080/"
        },
        "id": "pVF5iuck2N6f",
        "outputId": "8ec8d98d-be16-477c-a962-55695e3ef352"
      },
      "execution_count": null,
      "outputs": [
        {
          "output_type": "stream",
          "name": "stdout",
          "text": [
            "+-----+--------+------+--------+------+--------+--------+---------+--------------------+--------------------+-------------------+\n",
            "|medhv|totbdrms|   pop|houshlds|medinc|rmsperhh|popperhh|bdrmperrm|            features|     features_scaled|         prediction|\n",
            "+-----+--------+------+--------+------+--------+--------+---------+--------------------+--------------------+-------------------+\n",
            "| 1.75|   168.0| 259.0|   138.0|2.3667|    3.57|    1.88|     0.34|[168.0,259.0,138....|[0.39881503891126...|  19.88778202475004|\n",
            "| 2.25|    79.0| 167.0|    53.0|0.7917|    2.02|    3.15|     0.74|[79.0,167.0,53.0,...|[0.18753802424994...| 31.447228456801877|\n",
            "| 2.25|  1743.0|6835.0|  1439.0|2.7138|    6.93|    4.75|     0.17|[1743.0,6835.0,14...|[4.13770602870438...|-1.0778392270174688|\n",
            "|  2.5|    33.0|  64.0|    27.0|0.8571|    1.63|    2.37|     0.75|[33.0,64.0,27.0,0...|[0.07833866835757...|  32.48739765291832|\n",
            "| 2.75|    24.0|  29.0|    15.0|1.2656|    6.47|    1.93|     0.25|[24.0,29.0,15.0,1...|[0.05697357698732...|    9.2106981056392|\n",
            "+-----+--------+------+--------+------+--------+--------+---------+--------------------+--------------------+-------------------+\n",
            "only showing top 5 rows\n",
            "\n"
          ]
        }
      ]
    },
    {
      "cell_type": "code",
      "source": [],
      "metadata": {
        "id": "_KKUl1APzuIE"
      },
      "execution_count": null,
      "outputs": []
    },
    {
      "cell_type": "code",
      "source": [],
      "metadata": {
        "id": "LOvVvUwTzuTJ"
      },
      "execution_count": null,
      "outputs": []
    },
    {
      "cell_type": "markdown",
      "source": [
        "Evaluation"
      ],
      "metadata": {
        "id": "Y4wOly27w23y"
      }
    },
    {
      "cell_type": "code",
      "source": [
        "print(\"RMSE: {0}\".format(linearModel.summary.rootMeanSquaredError))\n",
        "print(\"MAE: {0}\".format(linearModel.summary.meanAbsoluteError))\n",
        "print(\"R2: {0}\".format(linearModel.summary.r2))"
      ],
      "metadata": {
        "colab": {
          "base_uri": "https://localhost:8080/"
        },
        "id": "aYVZroP2vXxB",
        "outputId": "af00f7e3-9d91-44ec-d69a-79eaa9480489"
      },
      "execution_count": null,
      "outputs": [
        {
          "output_type": "stream",
          "name": "stdout",
          "text": [
            "RMSE: 7.6996498740875605\n",
            "MAE: 5.63853707805161\n",
            "R2: 0.5546925151930338\n"
          ]
        }
      ]
    },
    {
      "cell_type": "code",
      "source": [
        "evaluator = RegressionEvaluator(predictionCol=\"prediction\", labelCol='medhv', metricName='rmse')\n",
        "print(\"RMSE: {0}\".format(evaluator.evaluate(predictions)))\n",
        "evaluator = RegressionEvaluator(predictionCol=\"prediction\", labelCol='medhv', metricName='mae')\n",
        "print(\"MAE: {0}\".format(evaluator.evaluate(predictions)))\n",
        "evaluator = RegressionEvaluator(predictionCol=\"prediction\", labelCol='medhv', metricName='r2')\n",
        "print(\"R2: {0}\".format(evaluator.evaluate(predictions)))"
      ],
      "metadata": {
        "colab": {
          "base_uri": "https://localhost:8080/"
        },
        "id": "Wf398bnzvhaz",
        "outputId": "1cae2b82-b2f4-44a5-e635-848546fc27f9"
      },
      "execution_count": null,
      "outputs": [
        {
          "output_type": "stream",
          "name": "stdout",
          "text": [
            "RMSE: 7.8988056987624145\n",
            "MAE: 5.629616206937359\n",
            "R2: 0.5314852546050379\n"
          ]
        }
      ]
    },
    {
      "cell_type": "code",
      "source": [],
      "metadata": {
        "id": "qcs_3-UXvmRJ"
      },
      "execution_count": null,
      "outputs": []
    },
    {
      "cell_type": "markdown",
      "source": [
        "Decision Tree "
      ],
      "metadata": {
        "id": "nbZ8g_Vf0pxb"
      }
    },
    {
      "cell_type": "code",
      "source": [
        "dt = DecisionTreeRegressor(featuresCol='features_scaled', labelCol=\"medhv\")\\\n",
        "# Fit the data to the model\n",
        "dt_model = dt.fit(train_data)\n",
        "# Generate predictions\n",
        "predictions = dt_model.transform(test_data)\n",
        "evaluator = RegressionEvaluator(predictionCol=\"prediction\", labelCol='medhv', metricName='rmse')\n",
        "print(\"RMSE: {0}\".format(evaluator.evaluate(predictions)))\n",
        "evaluator = RegressionEvaluator(predictionCol=\"prediction\", labelCol='medhv', metricName='mae')\n",
        "print(\"MAE: {0}\".format(evaluator.evaluate(predictions)))\n",
        "evaluator = RegressionEvaluator(predictionCol=\"prediction\", labelCol='medhv', metricName='r2')\n",
        "print(\"R2: {0}\".format(evaluator.evaluate(predictions)))"
      ],
      "metadata": {
        "colab": {
          "base_uri": "https://localhost:8080/"
        },
        "id": "_Gd3Cl47ylQf",
        "outputId": "d461c65f-7100-4758-c1cc-b8cc1ff82d23"
      },
      "execution_count": null,
      "outputs": [
        {
          "output_type": "stream",
          "name": "stdout",
          "text": [
            "RMSE: 7.364505578859604\n",
            "MAE: 5.398776934089429\n",
            "R2: 0.5927251492757921\n"
          ]
        }
      ]
    },
    {
      "cell_type": "markdown",
      "source": [
        "Random Forest"
      ],
      "metadata": {
        "id": "bcx33mTH8Lt5"
      }
    },
    {
      "cell_type": "code",
      "source": [
        "from pyspark.ml.regression import RandomForestRegressor"
      ],
      "metadata": {
        "id": "c-uq3R4T7dwr"
      },
      "execution_count": null,
      "outputs": []
    },
    {
      "cell_type": "code",
      "source": [
        "rf = RandomForestRegressor(featuresCol='features_scaled', labelCol=\"medhv\")\\\n",
        "# Fit the data to the model\n",
        "rf_model = rf.fit(train_data)\n",
        "# Generate predictions\n",
        "predictions = rf_model.transform(test_data)\n",
        "evaluator = RegressionEvaluator(predictionCol=\"prediction\", labelCol='medhv', metricName='rmse')\n",
        "print(\"RMSE: {0}\".format(evaluator.evaluate(predictions)))\n",
        "evaluator = RegressionEvaluator(predictionCol=\"prediction\", labelCol='medhv', metricName='mae')\n",
        "print(\"MAE: {0}\".format(evaluator.evaluate(predictions)))\n",
        "evaluator = RegressionEvaluator(predictionCol=\"prediction\", labelCol='medhv', metricName='r2')\n",
        "print(\"R2: {0}\".format(evaluator.evaluate(predictions)))"
      ],
      "metadata": {
        "colab": {
          "base_uri": "https://localhost:8080/"
        },
        "id": "4mkcMH_O7dws",
        "outputId": "f9440a81-233e-4712-f81b-294c45571eed"
      },
      "execution_count": null,
      "outputs": [
        {
          "output_type": "stream",
          "name": "stdout",
          "text": [
            "RMSE: 7.3544787039166435\n",
            "MAE: 5.4812679310681816\n",
            "R2: 0.5938334148475531\n"
          ]
        }
      ]
    },
    {
      "cell_type": "code",
      "source": [],
      "metadata": {
        "id": "kQYE1yY2-Vi-"
      },
      "execution_count": null,
      "outputs": []
    },
    {
      "cell_type": "code",
      "source": [
        "gb = GBTRegressor(featuresCol='features_scaled', labelCol=\"medhv\")\\\n",
        "# Fit the data to the model\n",
        "gb_model = gb.fit(train_data)\n",
        "# Generate predictions\n",
        "predictions = gb_model.transform(test_data)\n",
        "evaluator = RegressionEvaluator(predictionCol=\"prediction\", labelCol='medhv', metricName='rmse')\n",
        "print(\"RMSE: {0}\".format(evaluator.evaluate(predictions)))\n",
        "evaluator = RegressionEvaluator(predictionCol=\"prediction\", labelCol='medhv', metricName='mae')\n",
        "print(\"MAE: {0}\".format(evaluator.evaluate(predictions)))\n",
        "evaluator = RegressionEvaluator(predictionCol=\"prediction\", labelCol='medhv', metricName='r2')\n",
        "print(\"R2: {0}\".format(evaluator.evaluate(predictions)))"
      ],
      "metadata": {
        "colab": {
          "base_uri": "https://localhost:8080/"
        },
        "id": "9-3plt_Zyotd",
        "outputId": "9d746362-fe50-43bc-c06c-3ba92a58f714"
      },
      "execution_count": null,
      "outputs": [
        {
          "output_type": "stream",
          "name": "stdout",
          "text": [
            "RMSE: 7.067834581526645\n",
            "MAE: 5.073268243700367\n",
            "R2: 0.6248774644297763\n"
          ]
        }
      ]
    },
    {
      "cell_type": "markdown",
      "source": [
        "From all the Machine Learning Models Gradient Boosting is giving us the best Result with RMSE: 7.06,\n",
        "MAE: 5.07 and *R2*: 0.62"
      ],
      "metadata": {
        "id": "yXpRUE7YAAEs"
      }
    },
    {
      "cell_type": "code",
      "source": [],
      "metadata": {
        "id": "KoueKPr7_-u_"
      },
      "execution_count": null,
      "outputs": []
    }
  ]
}