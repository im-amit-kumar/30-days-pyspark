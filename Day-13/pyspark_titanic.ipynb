{
  "nbformat": 4,
  "nbformat_minor": 0,
  "metadata": {
    "colab": {
      "provenance": [],
      "collapsed_sections": []
    },
    "kernelspec": {
      "name": "python3",
      "display_name": "Python 3"
    },
    "language_info": {
      "name": "python"
    }
  },
  "cells": [
    {
      "cell_type": "code",
      "execution_count": 1,
      "metadata": {
        "colab": {
          "base_uri": "https://localhost:8080/"
        },
        "id": "SQ9o1_fRwbp1",
        "outputId": "ab3af9bc-a8a5-45b3-dafd-dfa7b7b5124d"
      },
      "outputs": [
        {
          "output_type": "stream",
          "name": "stdout",
          "text": [
            "Mounted at /content/gdrive\n"
          ]
        }
      ],
      "source": [
        "from google.colab import drive\n",
        "drive.mount(\"/content/gdrive\", force_remount=True)"
      ]
    },
    {
      "cell_type": "code",
      "source": [
        "cd /content/gdrive/MyDrive/pyspark/Titanic"
      ],
      "metadata": {
        "colab": {
          "base_uri": "https://localhost:8080/"
        },
        "id": "gqd1uU0xxq-c",
        "outputId": "43e5cbd2-fa0e-408b-9c25-dc9981940388"
      },
      "execution_count": 2,
      "outputs": [
        {
          "output_type": "stream",
          "name": "stdout",
          "text": [
            "/content/gdrive/MyDrive/pyspark/Titanic\n"
          ]
        }
      ]
    },
    {
      "cell_type": "code",
      "source": [
        "!pip install pyspark"
      ],
      "metadata": {
        "colab": {
          "base_uri": "https://localhost:8080/"
        },
        "id": "JaedVqkxyQNs",
        "outputId": "b8df63cc-08bf-4f14-93f1-246aac101feb"
      },
      "execution_count": 3,
      "outputs": [
        {
          "output_type": "stream",
          "name": "stdout",
          "text": [
            "Looking in indexes: https://pypi.org/simple, https://us-python.pkg.dev/colab-wheels/public/simple/\n",
            "Requirement already satisfied: pyspark in /usr/local/lib/python3.7/dist-packages (3.3.0)\n",
            "Requirement already satisfied: py4j==0.10.9.5 in /usr/local/lib/python3.7/dist-packages (from pyspark) (0.10.9.5)\n"
          ]
        }
      ]
    },
    {
      "cell_type": "code",
      "source": [
        "from pyspark.sql import SparkSession\n",
        "import pyspark.sql as sparksql\n",
        "import pyspark.sql.functions as f\n",
        "from pyspark.sql.window import Window\n",
        "import matplotlib.pyplot as plt\n",
        "import seaborn as sns\n",
        "import numpy as np\n",
        "import pandas as pd\n",
        "from pyspark.ml.feature import StringIndexer, OneHotEncoder, VectorAssembler"
      ],
      "metadata": {
        "id": "N7cC02gsySsb"
      },
      "execution_count": 4,
      "outputs": []
    },
    {
      "cell_type": "code",
      "source": [
        "spark = SparkSession.builder.getOrCreate()"
      ],
      "metadata": {
        "id": "phjkQOSw1H8k"
      },
      "execution_count": 5,
      "outputs": []
    },
    {
      "cell_type": "code",
      "source": [
        "df = spark.read.csv(\"/content/gdrive/MyDrive/pyspark/Titanic/titanic.csv\",header=True)"
      ],
      "metadata": {
        "id": "0mWB_k4V1NWY"
      },
      "execution_count": 6,
      "outputs": []
    },
    {
      "cell_type": "code",
      "source": [
        "df.show(5)"
      ],
      "metadata": {
        "colab": {
          "base_uri": "https://localhost:8080/"
        },
        "id": "unSvwOjr1U5D",
        "outputId": "0edfc4f5-9674-4c4e-f898-03a9f97f8200"
      },
      "execution_count": 7,
      "outputs": [
        {
          "output_type": "stream",
          "name": "stdout",
          "text": [
            "+-----------+--------+------+--------------------+------+---+-----+-----+----------------+-------+-----+--------+\n",
            "|PassengerId|Survived|Pclass|                Name|   Sex|Age|SibSp|Parch|          Ticket|   Fare|Cabin|Embarked|\n",
            "+-----------+--------+------+--------------------+------+---+-----+-----+----------------+-------+-----+--------+\n",
            "|          1|       0|     3|Braund, Mr. Owen ...|  male| 22|    1|    0|       A/5 21171|   7.25| null|       S|\n",
            "|          2|       1|     1|Cumings, Mrs. Joh...|female| 38|    1|    0|        PC 17599|71.2833|  C85|       C|\n",
            "|          3|       1|     3|Heikkinen, Miss. ...|female| 26|    0|    0|STON/O2. 3101282|  7.925| null|       S|\n",
            "|          4|       1|     1|Futrelle, Mrs. Ja...|female| 35|    1|    0|          113803|   53.1| C123|       S|\n",
            "|          5|       0|     3|Allen, Mr. Willia...|  male| 35|    0|    0|          373450|   8.05| null|       S|\n",
            "+-----------+--------+------+--------------------+------+---+-----+-----+----------------+-------+-----+--------+\n",
            "only showing top 5 rows\n",
            "\n"
          ]
        }
      ]
    },
    {
      "cell_type": "code",
      "source": [
        "df.count()"
      ],
      "metadata": {
        "colab": {
          "base_uri": "https://localhost:8080/"
        },
        "id": "f7T91mN41an7",
        "outputId": "4ea04248-a224-447a-e33a-067a03d5e7cd"
      },
      "execution_count": 8,
      "outputs": [
        {
          "output_type": "execute_result",
          "data": {
            "text/plain": [
              "891"
            ]
          },
          "metadata": {},
          "execution_count": 8
        }
      ]
    },
    {
      "cell_type": "code",
      "source": [
        "# casting\n",
        "df = df.withColumn(\"Survived\",df.Survived.cast(\"int\"))\n",
        "df = df.withColumn(\"Age\",df.Age.cast(\"int\"))\n",
        "\n",
        "df = df.withColumn(\"Parch\",df.Parch.cast(\"int\"))\n",
        "df = df.withColumn(\"SibSp\",df.SibSp.cast(\"float\"))\n",
        "\n",
        "df = df.withColumn(\"Fare\",df.Fare.cast(\"int\"))\n"
      ],
      "metadata": {
        "id": "H0y1_B081gty"
      },
      "execution_count": 9,
      "outputs": []
    },
    {
      "cell_type": "code",
      "source": [
        "df.printSchema()"
      ],
      "metadata": {
        "colab": {
          "base_uri": "https://localhost:8080/"
        },
        "id": "VNSCWVLh1mMb",
        "outputId": "0a1e5eb5-05da-457b-fde6-1dcfed178d66"
      },
      "execution_count": 10,
      "outputs": [
        {
          "output_type": "stream",
          "name": "stdout",
          "text": [
            "root\n",
            " |-- PassengerId: string (nullable = true)\n",
            " |-- Survived: integer (nullable = true)\n",
            " |-- Pclass: string (nullable = true)\n",
            " |-- Name: string (nullable = true)\n",
            " |-- Sex: string (nullable = true)\n",
            " |-- Age: integer (nullable = true)\n",
            " |-- SibSp: float (nullable = true)\n",
            " |-- Parch: integer (nullable = true)\n",
            " |-- Ticket: string (nullable = true)\n",
            " |-- Fare: integer (nullable = true)\n",
            " |-- Cabin: string (nullable = true)\n",
            " |-- Embarked: string (nullable = true)\n",
            "\n"
          ]
        }
      ]
    },
    {
      "cell_type": "code",
      "source": [
        "df.groupby('Survived').agg(\n",
        "    (f.count('Survived')).alias('count'),\n",
        "    (f.count('Survived') / df.count()).alias('percentage')*100\n",
        ").show()"
      ],
      "metadata": {
        "colab": {
          "base_uri": "https://localhost:8080/"
        },
        "id": "ABsIGsvQBci6",
        "outputId": "c0fb6521-08c2-4a72-ef99-90c8fe74c605"
      },
      "execution_count": 11,
      "outputs": [
        {
          "output_type": "stream",
          "name": "stdout",
          "text": [
            "+--------+-----+---------------------------------------------+\n",
            "|Survived|count|((count(Survived) / 891) AS percentage * 100)|\n",
            "+--------+-----+---------------------------------------------+\n",
            "|       1|  342|                            38.38383838383838|\n",
            "|       0|  549|                            61.61616161616161|\n",
            "+--------+-----+---------------------------------------------+\n",
            "\n"
          ]
        }
      ]
    },
    {
      "cell_type": "code",
      "source": [
        "df.describe().show()"
      ],
      "metadata": {
        "colab": {
          "base_uri": "https://localhost:8080/"
        },
        "id": "E1sH4pGU15iL",
        "outputId": "7319c0d4-f68a-4462-c061-b1aa7ed2b854"
      },
      "execution_count": 12,
      "outputs": [
        {
          "output_type": "stream",
          "name": "stdout",
          "text": [
            "+-------+-----------------+-------------------+------------------+--------------------+------+------------------+------------------+-------------------+------------------+-----------------+-----+--------+\n",
            "|summary|      PassengerId|           Survived|            Pclass|                Name|   Sex|               Age|             SibSp|              Parch|            Ticket|             Fare|Cabin|Embarked|\n",
            "+-------+-----------------+-------------------+------------------+--------------------+------+------------------+------------------+-------------------+------------------+-----------------+-----+--------+\n",
            "|  count|              891|                891|               891|                 891|   891|               714|               891|                891|               891|              891|  204|     889|\n",
            "|   mean|            446.0| 0.3838383838383838| 2.308641975308642|                null|  null|29.679271708683473|0.5230078563411896|0.38159371492704824|260318.54916792738|31.78563411896745| null|    null|\n",
            "| stddev|257.3538420152301|0.48659245426485753|0.8360712409770491|                null|  null|14.536482769437564|1.1027434322934315| 0.8060572211299488|471609.26868834975|49.70372961066204| null|    null|\n",
            "|    min|                1|                  0|                 1|\"Andersson, Mr. A...|female|                 0|               0.0|                  0|            110152|                0|  A10|       C|\n",
            "|    max|               99|                  1|                 3|van Melkebeke, Mr...|  male|                80|               8.0|                  6|         WE/P 5735|              512|    T|       S|\n",
            "+-------+-----------------+-------------------+------------------+--------------------+------+------------------+------------------+-------------------+------------------+-----------------+-----+--------+\n",
            "\n"
          ]
        }
      ]
    },
    {
      "cell_type": "code",
      "source": [
        "#finding the count of missing values"
      ],
      "metadata": {
        "id": "eRmcTxw718Yr"
      },
      "execution_count": 13,
      "outputs": []
    },
    {
      "cell_type": "code",
      "source": [
        "df.select([f.count(f.when(f.isnull(column), column )).alias(column) for column in df.columns]).show()"
      ],
      "metadata": {
        "colab": {
          "base_uri": "https://localhost:8080/"
        },
        "id": "VouFbIQG2Rqi",
        "outputId": "9e733ac6-5a1f-4715-99c1-c1cd275b146d"
      },
      "execution_count": 14,
      "outputs": [
        {
          "output_type": "stream",
          "name": "stdout",
          "text": [
            "+-----------+--------+------+----+---+---+-----+-----+------+----+-----+--------+\n",
            "|PassengerId|Survived|Pclass|Name|Sex|Age|SibSp|Parch|Ticket|Fare|Cabin|Embarked|\n",
            "+-----------+--------+------+----+---+---+-----+-----+------+----+-----+--------+\n",
            "|          0|       0|     0|   0|  0|177|    0|    0|     0|   0|  687|       2|\n",
            "+-----------+--------+------+----+---+---+-----+-----+------+----+-----+--------+\n",
            "\n"
          ]
        }
      ]
    },
    {
      "cell_type": "markdown",
      "source": [
        "Age , Cabin and Embarked contains null values"
      ],
      "metadata": {
        "id": "1zyWbDiD38Zn"
      }
    },
    {
      "cell_type": "code",
      "source": [
        "# filtering not null age                                        "
      ],
      "metadata": {
        "id": "9oLxnMaB3sOr"
      },
      "execution_count": 15,
      "outputs": []
    },
    {
      "cell_type": "code",
      "source": [
        "df.filter('Age is not Null').show(5)"
      ],
      "metadata": {
        "colab": {
          "base_uri": "https://localhost:8080/"
        },
        "id": "kHRfQMTb5_17",
        "outputId": "1790d46b-541c-46f1-e0ca-d302f84e73a7"
      },
      "execution_count": 16,
      "outputs": [
        {
          "output_type": "stream",
          "name": "stdout",
          "text": [
            "+-----------+--------+------+--------------------+------+---+-----+-----+----------------+----+-----+--------+\n",
            "|PassengerId|Survived|Pclass|                Name|   Sex|Age|SibSp|Parch|          Ticket|Fare|Cabin|Embarked|\n",
            "+-----------+--------+------+--------------------+------+---+-----+-----+----------------+----+-----+--------+\n",
            "|          1|       0|     3|Braund, Mr. Owen ...|  male| 22|  1.0|    0|       A/5 21171|   7| null|       S|\n",
            "|          2|       1|     1|Cumings, Mrs. Joh...|female| 38|  1.0|    0|        PC 17599|  71|  C85|       C|\n",
            "|          3|       1|     3|Heikkinen, Miss. ...|female| 26|  0.0|    0|STON/O2. 3101282|   7| null|       S|\n",
            "|          4|       1|     1|Futrelle, Mrs. Ja...|female| 35|  1.0|    0|          113803|  53| C123|       S|\n",
            "|          5|       0|     3|Allen, Mr. Willia...|  male| 35|  0.0|    0|          373450|   8| null|       S|\n",
            "+-----------+--------+------+--------------------+------+---+-----+-----+----------------+----+-----+--------+\n",
            "only showing top 5 rows\n",
            "\n"
          ]
        }
      ]
    },
    {
      "cell_type": "markdown",
      "source": [
        "filtering null values"
      ],
      "metadata": {
        "id": "qG3qGS8a8l3I"
      }
    },
    {
      "cell_type": "code",
      "source": [
        "df.filter('Age is null').show(5)"
      ],
      "metadata": {
        "colab": {
          "base_uri": "https://localhost:8080/"
        },
        "id": "8zFzVT-F6-D6",
        "outputId": "1b8c18d9-7240-4774-d95e-bbd8652c1c1e"
      },
      "execution_count": 17,
      "outputs": [
        {
          "output_type": "stream",
          "name": "stdout",
          "text": [
            "+-----------+--------+------+--------------------+------+----+-----+-----+------+----+-----+--------+\n",
            "|PassengerId|Survived|Pclass|                Name|   Sex| Age|SibSp|Parch|Ticket|Fare|Cabin|Embarked|\n",
            "+-----------+--------+------+--------------------+------+----+-----+-----+------+----+-----+--------+\n",
            "|          6|       0|     3|    Moran, Mr. James|  male|null|  0.0|    0|330877|   8| null|       Q|\n",
            "|         18|       1|     2|Williams, Mr. Cha...|  male|null|  0.0|    0|244373|  13| null|       S|\n",
            "|         20|       1|     3|Masselmani, Mrs. ...|female|null|  0.0|    0|  2649|   7| null|       C|\n",
            "|         27|       0|     3|Emir, Mr. Farred ...|  male|null|  0.0|    0|  2631|   7| null|       C|\n",
            "|         29|       1|     3|\"O'Dwyer, Miss. E...|female|null|  0.0|    0|330959|   7| null|       Q|\n",
            "+-----------+--------+------+--------------------+------+----+-----+-----+------+----+-----+--------+\n",
            "only showing top 5 rows\n",
            "\n"
          ]
        }
      ]
    },
    {
      "cell_type": "code",
      "source": [
        "# filling missing values"
      ],
      "metadata": {
        "id": "eATH5Jmc8QLy"
      },
      "execution_count": 18,
      "outputs": []
    },
    {
      "cell_type": "code",
      "source": [
        "mean_Age=df.select(f.mean(f.col('Age'))).take(1)[0][0]"
      ],
      "metadata": {
        "id": "ER7nr__f82YL"
      },
      "execution_count": 19,
      "outputs": []
    },
    {
      "cell_type": "code",
      "source": [
        "df = df.fillna({'Age':mean_Age})"
      ],
      "metadata": {
        "id": "q8v6L0g09IZr"
      },
      "execution_count": 20,
      "outputs": []
    },
    {
      "cell_type": "code",
      "source": [
        "(687/891)*100"
      ],
      "metadata": {
        "colab": {
          "base_uri": "https://localhost:8080/"
        },
        "id": "9K5L-OqdDt_F",
        "outputId": "cab85336-d428-418c-af9d-16ce9aaea893"
      },
      "execution_count": 21,
      "outputs": [
        {
          "output_type": "execute_result",
          "data": {
            "text/plain": [
              "77.10437710437711"
            ]
          },
          "metadata": {},
          "execution_count": 21
        }
      ]
    },
    {
      "cell_type": "markdown",
      "source": [
        "we are going to drop cabin as it contains missing values around 77 %"
      ],
      "metadata": {
        "id": "xyekCGOTDRr4"
      }
    },
    {
      "cell_type": "code",
      "source": [
        "df = df.drop('Cabin')\n",
        "df=df.drop('PassengerId')"
      ],
      "metadata": {
        "id": "2k6rtQf4CQQi"
      },
      "execution_count": 22,
      "outputs": []
    },
    {
      "cell_type": "code",
      "source": [
        "#filling embarked by mode\n",
        "Embarked_mode=df.groupby(\"Embarked\").count().orderBy(\"count\", ascending=False).first()[0]\n",
        "Embarked_mode"
      ],
      "metadata": {
        "colab": {
          "base_uri": "https://localhost:8080/",
          "height": 35
        },
        "id": "FHLJvMK1TOW6",
        "outputId": "fffb31d8-3628-48ad-f0fe-3fd2d8c965a9"
      },
      "execution_count": 23,
      "outputs": [
        {
          "output_type": "execute_result",
          "data": {
            "text/plain": [
              "'S'"
            ],
            "application/vnd.google.colaboratory.intrinsic+json": {
              "type": "string"
            }
          },
          "metadata": {},
          "execution_count": 23
        }
      ]
    },
    {
      "cell_type": "code",
      "source": [
        "df=df.na.fill(value=Embarked_mode,subset=[\"Embarked\"])"
      ],
      "metadata": {
        "id": "xynFkdiZVDJX"
      },
      "execution_count": 24,
      "outputs": []
    },
    {
      "cell_type": "code",
      "source": [
        "df.show(5)"
      ],
      "metadata": {
        "colab": {
          "base_uri": "https://localhost:8080/"
        },
        "id": "e5uTr8ZEEw46",
        "outputId": "d4ab26a0-d58f-4796-e82c-c9cad2833f53"
      },
      "execution_count": 25,
      "outputs": [
        {
          "output_type": "stream",
          "name": "stdout",
          "text": [
            "+--------+------+--------------------+------+---+-----+-----+----------------+----+--------+\n",
            "|Survived|Pclass|                Name|   Sex|Age|SibSp|Parch|          Ticket|Fare|Embarked|\n",
            "+--------+------+--------------------+------+---+-----+-----+----------------+----+--------+\n",
            "|       0|     3|Braund, Mr. Owen ...|  male| 22|  1.0|    0|       A/5 21171|   7|       S|\n",
            "|       1|     1|Cumings, Mrs. Joh...|female| 38|  1.0|    0|        PC 17599|  71|       C|\n",
            "|       1|     3|Heikkinen, Miss. ...|female| 26|  0.0|    0|STON/O2. 3101282|   7|       S|\n",
            "|       1|     1|Futrelle, Mrs. Ja...|female| 35|  1.0|    0|          113803|  53|       S|\n",
            "|       0|     3|Allen, Mr. Willia...|  male| 35|  0.0|    0|          373450|   8|       S|\n",
            "+--------+------+--------------------+------+---+-----+-----+----------------+----+--------+\n",
            "only showing top 5 rows\n",
            "\n"
          ]
        }
      ]
    },
    {
      "cell_type": "code",
      "source": [
        "df.groupby('Sex').agg(f.mean('Fare')).show()"
      ],
      "metadata": {
        "colab": {
          "base_uri": "https://localhost:8080/"
        },
        "id": "Qjd5lo7fEyda",
        "outputId": "74366adf-5695-49aa-802e-08cbd883f609"
      },
      "execution_count": 26,
      "outputs": [
        {
          "output_type": "stream",
          "name": "stdout",
          "text": [
            "+------+------------------+\n",
            "|   Sex|         avg(Fare)|\n",
            "+------+------------------+\n",
            "|female| 44.06369426751592|\n",
            "|  male|25.103986135181977|\n",
            "+------+------------------+\n",
            "\n"
          ]
        }
      ]
    },
    {
      "cell_type": "markdown",
      "source": [
        "from here we came to know that avg fare paid by woman is higher"
      ],
      "metadata": {
        "id": "Af09ILzBGc6e"
      }
    },
    {
      "cell_type": "code",
      "source": [
        "df.groupby('Sex').agg(f.mean('AGE')).show()"
      ],
      "metadata": {
        "colab": {
          "base_uri": "https://localhost:8080/"
        },
        "id": "PBzwUWtuFwkr",
        "outputId": "9acd868a-cf5a-4b61-ed86-5bbbf5a3d159"
      },
      "execution_count": 27,
      "outputs": [
        {
          "output_type": "stream",
          "name": "stdout",
          "text": [
            "+------+------------------+\n",
            "|   Sex|          avg(AGE)|\n",
            "+------+------------------+\n",
            "|female|28.089171974522294|\n",
            "|  male|30.336221837088388|\n",
            "+------+------------------+\n",
            "\n"
          ]
        }
      ]
    },
    {
      "cell_type": "code",
      "source": [
        "df.groupby('Survived').count().show()"
      ],
      "metadata": {
        "colab": {
          "base_uri": "https://localhost:8080/"
        },
        "id": "HVVDXTujGXRS",
        "outputId": "6b6a6356-4b6f-4a61-83ed-83daf0abf31d"
      },
      "execution_count": 28,
      "outputs": [
        {
          "output_type": "stream",
          "name": "stdout",
          "text": [
            "+--------+-----+\n",
            "|Survived|count|\n",
            "+--------+-----+\n",
            "|       1|  342|\n",
            "|       0|  549|\n",
            "+--------+-----+\n",
            "\n"
          ]
        }
      ]
    },
    {
      "cell_type": "code",
      "source": [
        "df.groupby('Survived','Sex').count().show()"
      ],
      "metadata": {
        "colab": {
          "base_uri": "https://localhost:8080/"
        },
        "id": "-sykqppvGwnx",
        "outputId": "c1e0136d-0657-4ddc-b883-5ce7773ff5fe"
      },
      "execution_count": 29,
      "outputs": [
        {
          "output_type": "stream",
          "name": "stdout",
          "text": [
            "+--------+------+-----+\n",
            "|Survived|   Sex|count|\n",
            "+--------+------+-----+\n",
            "|       0|female|   81|\n",
            "|       1|  male|  109|\n",
            "|       1|female|  233|\n",
            "|       0|  male|  468|\n",
            "+--------+------+-----+\n",
            "\n"
          ]
        }
      ]
    },
    {
      "cell_type": "code",
      "source": [],
      "metadata": {
        "id": "nfB1RJMFMkQJ"
      },
      "execution_count": 29,
      "outputs": []
    },
    {
      "cell_type": "code",
      "execution_count": 29,
      "metadata": {
        "id": "NdUtOsxy6M5b"
      },
      "outputs": [],
      "source": []
    },
    {
      "cell_type": "markdown",
      "source": [
        "from here we can see feamles survive more than men"
      ],
      "metadata": {
        "id": "sahlTPxOI_rV"
      }
    },
    {
      "cell_type": "markdown",
      "source": [],
      "metadata": {
        "id": "Y7SmQR5XMmfd"
      }
    },
    {
      "cell_type": "code",
      "source": [],
      "metadata": {
        "id": "ByuUZ5smMmxu"
      },
      "execution_count": 29,
      "outputs": []
    },
    {
      "cell_type": "code",
      "execution_count": 30,
      "metadata": {
        "id": "CtBYp742MnHt"
      },
      "outputs": [],
      "source": [
        "df.createOrReplaceTempView(\"data\")"
      ]
    },
    {
      "cell_type": "code",
      "source": [
        "spark.sql('''select Survived ,Pclass , count(*) from\n",
        " data group by Survived,Pclass order by Survived''').show()"
      ],
      "metadata": {
        "colab": {
          "base_uri": "https://localhost:8080/"
        },
        "id": "YwTKbKpBHS0S",
        "outputId": "b547333a-1ab1-4882-91f1-e915b466ce1c"
      },
      "execution_count": 31,
      "outputs": [
        {
          "output_type": "stream",
          "name": "stdout",
          "text": [
            "+--------+------+--------+\n",
            "|Survived|Pclass|count(1)|\n",
            "+--------+------+--------+\n",
            "|       0|     2|      97|\n",
            "|       0|     1|      80|\n",
            "|       0|     3|     372|\n",
            "|       1|     3|     119|\n",
            "|       1|     1|     136|\n",
            "|       1|     2|      87|\n",
            "+--------+------+--------+\n",
            "\n"
          ]
        }
      ]
    },
    {
      "cell_type": "markdown",
      "source": [
        "from here we can see people from passenger class 1 survive more where as People from Pclass 3 died more"
      ],
      "metadata": {
        "id": "_LlOyv_WOqe8"
      }
    },
    {
      "cell_type": "code",
      "source": [
        "df.show(5)"
      ],
      "metadata": {
        "colab": {
          "base_uri": "https://localhost:8080/"
        },
        "id": "LTg0NaP5IkWG",
        "outputId": "750820d0-493b-4572-ab04-c5569dd8e792"
      },
      "execution_count": 32,
      "outputs": [
        {
          "output_type": "stream",
          "name": "stdout",
          "text": [
            "+--------+------+--------------------+------+---+-----+-----+----------------+----+--------+\n",
            "|Survived|Pclass|                Name|   Sex|Age|SibSp|Parch|          Ticket|Fare|Embarked|\n",
            "+--------+------+--------------------+------+---+-----+-----+----------------+----+--------+\n",
            "|       0|     3|Braund, Mr. Owen ...|  male| 22|  1.0|    0|       A/5 21171|   7|       S|\n",
            "|       1|     1|Cumings, Mrs. Joh...|female| 38|  1.0|    0|        PC 17599|  71|       C|\n",
            "|       1|     3|Heikkinen, Miss. ...|female| 26|  0.0|    0|STON/O2. 3101282|   7|       S|\n",
            "|       1|     1|Futrelle, Mrs. Ja...|female| 35|  1.0|    0|          113803|  53|       S|\n",
            "|       0|     3|Allen, Mr. Willia...|  male| 35|  0.0|    0|          373450|   8|       S|\n",
            "+--------+------+--------------------+------+---+-----+-----+----------------+----+--------+\n",
            "only showing top 5 rows\n",
            "\n"
          ]
        }
      ]
    },
    {
      "cell_type": "code",
      "source": [
        "df = df \\\n",
        "      .withColumnRenamed(\"Pclass\",\"PassengerClass\") \\\n",
        "      .withColumnRenamed(\"SibSp\",\"SiblingsSpouses\") \\\n",
        "      .withColumnRenamed(\"Parch\",\"ParentsChildren\") \\"
      ],
      "metadata": {
        "id": "MaXPK5OMHdhS"
      },
      "execution_count": 33,
      "outputs": []
    },
    {
      "cell_type": "code",
      "source": [
        "df.printSchema()"
      ],
      "metadata": {
        "colab": {
          "base_uri": "https://localhost:8080/"
        },
        "id": "TxvFhJ9IIyDC",
        "outputId": "dc152321-02ac-48da-c8d0-a98dee03bbd9"
      },
      "execution_count": 34,
      "outputs": [
        {
          "output_type": "stream",
          "name": "stdout",
          "text": [
            "root\n",
            " |-- Survived: integer (nullable = true)\n",
            " |-- PassengerClass: string (nullable = true)\n",
            " |-- Name: string (nullable = true)\n",
            " |-- Sex: string (nullable = true)\n",
            " |-- Age: integer (nullable = true)\n",
            " |-- SiblingsSpouses: float (nullable = true)\n",
            " |-- ParentsChildren: integer (nullable = true)\n",
            " |-- Ticket: string (nullable = true)\n",
            " |-- Fare: integer (nullable = true)\n",
            " |-- Embarked: string (nullable = false)\n",
            "\n"
          ]
        }
      ]
    },
    {
      "cell_type": "code",
      "source": [
        "df = df \\\n",
        "        .drop(\"Name\") \\\n",
        "        .drop(\"Ticket\") \\\n",
        "        .drop(\"Cabin\")"
      ],
      "metadata": {
        "id": "NpMRhWtOSTka"
      },
      "execution_count": 35,
      "outputs": []
    },
    {
      "cell_type": "code",
      "source": [
        "df.show(5)"
      ],
      "metadata": {
        "colab": {
          "base_uri": "https://localhost:8080/"
        },
        "id": "4n9AVh-6SmhC",
        "outputId": "64f18b90-988d-49e8-ca24-b6bb0d4f4777"
      },
      "execution_count": 36,
      "outputs": [
        {
          "output_type": "stream",
          "name": "stdout",
          "text": [
            "+--------+--------------+------+---+---------------+---------------+----+--------+\n",
            "|Survived|PassengerClass|   Sex|Age|SiblingsSpouses|ParentsChildren|Fare|Embarked|\n",
            "+--------+--------------+------+---+---------------+---------------+----+--------+\n",
            "|       0|             3|  male| 22|            1.0|              0|   7|       S|\n",
            "|       1|             1|female| 38|            1.0|              0|  71|       C|\n",
            "|       1|             3|female| 26|            0.0|              0|   7|       S|\n",
            "|       1|             1|female| 35|            1.0|              0|  53|       S|\n",
            "|       0|             3|  male| 35|            0.0|              0|   8|       S|\n",
            "+--------+--------------+------+---+---------------+---------------+----+--------+\n",
            "only showing top 5 rows\n",
            "\n"
          ]
        }
      ]
    },
    {
      "cell_type": "code",
      "source": [
        "df.select([f.count(f.when(f.isnull(column), column )).alias(column) for column in df.columns]).show()"
      ],
      "metadata": {
        "colab": {
          "base_uri": "https://localhost:8080/"
        },
        "id": "AsRbzN5cSoUh",
        "outputId": "69cd546d-b911-407c-e622-d783e068a880"
      },
      "execution_count": 37,
      "outputs": [
        {
          "output_type": "stream",
          "name": "stdout",
          "text": [
            "+--------+--------------+---+---+---------------+---------------+----+--------+\n",
            "|Survived|PassengerClass|Sex|Age|SiblingsSpouses|ParentsChildren|Fare|Embarked|\n",
            "+--------+--------------+---+---+---------------+---------------+----+--------+\n",
            "|       0|             0|  0|  0|              0|              0|   0|       0|\n",
            "+--------+--------------+---+---+---------------+---------------+----+--------+\n",
            "\n"
          ]
        }
      ]
    },
    {
      "cell_type": "code",
      "source": [
        "from pyspark.ml import Pipeline"
      ],
      "metadata": {
        "id": "YZhQ3SBBYxcF"
      },
      "execution_count": 38,
      "outputs": []
    },
    {
      "cell_type": "code",
      "source": [
        "cols= df.columns"
      ],
      "metadata": {
        "id": "rQKWxbzHZqqv"
      },
      "execution_count": 39,
      "outputs": []
    },
    {
      "cell_type": "code",
      "source": [
        "stages=[]\n",
        "categoricalColumns = [\"Sex\",\"Embarked\",\"PassengerClass\"]\n",
        "for categoricalCol in categoricalColumns:\n",
        "    stringIndexer = StringIndexer(inputCol = categoricalCol, outputCol = categoricalCol + 'Index')\n",
        "    encoder = OneHotEncoder(inputCols=[stringIndexer.getOutputCol()],outputCols=[categoricalCol + \"classVec\"])\n",
        "    stages += [stringIndexer, encoder]\n",
        "numericCols = [ \"Age\",\"SiblingsSpouses\",\"ParentsChildren\",\"Fare\"]\n",
        "assemblerInputs= [c + \"classVec\" for c in categoricalColumns] + numericCols \n",
        "assembler = VectorAssembler(inputCols = assemblerInputs,outputCol=\"features\")\n",
        "stages += [assembler]\n",
        "pipeline = Pipeline(stages = stages)\n",
        "pipelineModel = pipeline.fit(df)\n",
        "df_encoded = pipelineModel.transform(df)\n",
        "selectCols = ['features'] + cols\n",
        "df_encoded = df_encoded.select(selectCols)"
      ],
      "metadata": {
        "id": "s9YUOVN8TFMy"
      },
      "execution_count": 40,
      "outputs": []
    },
    {
      "cell_type": "code",
      "source": [
        "df_encoded.show(2)"
      ],
      "metadata": {
        "colab": {
          "base_uri": "https://localhost:8080/"
        },
        "id": "uSBMqi28Ys6S",
        "outputId": "b59abcac-e667-4758-dce6-f1594e4dcfd3"
      },
      "execution_count": 41,
      "outputs": [
        {
          "output_type": "stream",
          "name": "stdout",
          "text": [
            "+--------------------+--------+--------------+------+---+---------------+---------------+----+--------+\n",
            "|            features|Survived|PassengerClass|   Sex|Age|SiblingsSpouses|ParentsChildren|Fare|Embarked|\n",
            "+--------------------+--------+--------------+------+---+---------------+---------------+----+--------+\n",
            "|[1.0,1.0,0.0,1.0,...|       0|             3|  male| 22|            1.0|              0|   7|       S|\n",
            "|[0.0,0.0,1.0,0.0,...|       1|             1|female| 38|            1.0|              0|  71|       C|\n",
            "+--------------------+--------+--------------+------+---+---------------+---------------+----+--------+\n",
            "only showing top 2 rows\n",
            "\n"
          ]
        }
      ]
    },
    {
      "cell_type": "code",
      "source": [
        "# Train Test Split"
      ],
      "metadata": {
        "id": "SAHPyIDoZ1bZ"
      },
      "execution_count": 42,
      "outputs": []
    },
    {
      "cell_type": "code",
      "source": [
        "train , test = df_encoded.randomSplit([0.80,0.30],seed=99)\n",
        "print(\"There are %d training examples and %d test examples\"%(train.count(), test.count()))"
      ],
      "metadata": {
        "colab": {
          "base_uri": "https://localhost:8080/"
        },
        "id": "_ImM94i_bkqx",
        "outputId": "d11040fc-68a5-4710-a96b-47ae84ae3b73"
      },
      "execution_count": 43,
      "outputs": [
        {
          "output_type": "stream",
          "name": "stdout",
          "text": [
            "There are 638 training examples and 253 test examples\n"
          ]
        }
      ]
    },
    {
      "cell_type": "markdown",
      "source": [
        "# Machine Learning\n",
        "# Logistic Regression"
      ],
      "metadata": {
        "id": "emxFRQRAbvL-"
      }
    },
    {
      "cell_type": "code",
      "source": [],
      "metadata": {
        "id": "5QFLjrEddC6B"
      },
      "execution_count": 43,
      "outputs": []
    },
    {
      "cell_type": "code",
      "source": [
        "from pyspark.ml.classification import LogisticRegression\n",
        "lr = LogisticRegression(featuresCol='features',labelCol='Survived')\n",
        "model_lr= lr.fit(train)\n",
        "lr_pred = model_lr.transform(test)\n"
      ],
      "metadata": {
        "id": "1U1Wg7v1bnva"
      },
      "execution_count": 44,
      "outputs": []
    },
    {
      "cell_type": "code",
      "source": [
        "from pyspark.ml.evaluation import MulticlassClassificationEvaluator\n",
        "# Select (prediction, true label) and compute test error\n",
        "acc_evaluator = MulticlassClassificationEvaluator(labelCol=\"Survived\", predictionCol=\"prediction\", metricName=\"accuracy\")\n",
        "f1_eval= MulticlassClassificationEvaluator(labelCol=\"Survived\", predictionCol=\"prediction\", metricName=\"f1\")\n",
        "prec_eval= MulticlassClassificationEvaluator(labelCol=\"Survived\", predictionCol=\"prediction\", metricName=\"weightedPrecision\")\n",
        "recall_eval= MulticlassClassificationEvaluator(labelCol=\"Survived\", predictionCol=\"prediction\", metricName=\"weightedRecall\")\n"
      ],
      "metadata": {
        "id": "Dbuj2Kpbb13c"
      },
      "execution_count": 45,
      "outputs": []
    },
    {
      "cell_type": "code",
      "source": [
        "# Logistric Regression Evaluaion\n",
        "lr_acc = acc_evaluator.evaluate(lr_pred)\n",
        "lr_f1= f1_eval.evaluate(lr_pred)\n",
        "lr_prec = prec_eval.evaluate(lr_pred)\n",
        "lr_recall=recall_eval.evaluate(lr_pred)\n",
        "\n",
        "\n",
        "print('Logistic Regression Accuracy: {0:2.2f}%'.format(lr_acc*100))\n",
        "print('Logistic Regression F1 score of: {}'.format(lr_f1))\n",
        "print('Logistic Regression Precision score : {}'.format(lr_prec))\n",
        "print('Logistic Regression Recall score of: {}'.format(lr_recall))"
      ],
      "metadata": {
        "colab": {
          "base_uri": "https://localhost:8080/"
        },
        "id": "2r1WtrWHcI6p",
        "outputId": "603aa99b-1bd2-4948-87d3-8c00cd0d2b44"
      },
      "execution_count": 46,
      "outputs": [
        {
          "output_type": "stream",
          "name": "stdout",
          "text": [
            "Logistic Regression Accuracy: 80.24%\n",
            "Logistic Regression F1 score of: 0.7974544053498442\n",
            "Logistic Regression Precision score : 0.8035424615595512\n",
            "Logistic Regression Recall score of: 0.8023715415019763\n"
          ]
        }
      ]
    },
    {
      "cell_type": "code",
      "source": [
        "from pyspark.ml.classification import DecisionTreeClassifier\n",
        "\n",
        "dt = DecisionTreeClassifier(featuresCol = 'features', labelCol = 'Survived')\n",
        "dtModel = dt.fit(train)\n",
        "dtPreds = dtModel.transform(test)\n",
        "dtc_predictions = dtModel.transform(test)\n",
        "# Logistric Regression Evaluaion\n",
        "dt_acc = acc_evaluator.evaluate(dtc_predictions)\n",
        "dt_f1= f1_eval.evaluate(dtc_predictions)\n",
        "dt_prec = prec_eval.evaluate(dtc_predictions)\n",
        "dt_recall=recall_eval.evaluate(dtc_predictions)\n",
        "\n",
        "\n",
        "print('Decision Tree Accuracy: {0:2.2f}%'.format(dt_acc*100))\n",
        "print('Decision Tree F1 score of: {}'.format(dt_f1))\n",
        "print('Decision Tree Precision score : {}'.format(dt_prec))\n",
        "print('Decision Tree Recall score of: {}'.format(dt_recall))"
      ],
      "metadata": {
        "colab": {
          "base_uri": "https://localhost:8080/"
        },
        "id": "Zk0mGPQbcacZ",
        "outputId": "541c189f-337a-455b-ec5c-2305128ebccd"
      },
      "execution_count": 47,
      "outputs": [
        {
          "output_type": "stream",
          "name": "stdout",
          "text": [
            "Decision Tree Accuracy: 80.24%\n",
            "Decision Tree F1 score of: 0.7967863305448348\n",
            "Decision Tree Precision score : 0.8046521594347681\n",
            "Decision Tree Recall score of: 0.8023715415019763\n"
          ]
        }
      ]
    },
    {
      "cell_type": "markdown",
      "source": [
        "# Random Forest"
      ],
      "metadata": {
        "id": "-ki0LfgmeMdf"
      }
    },
    {
      "cell_type": "code",
      "source": [
        "from pyspark.ml.classification import RandomForestClassifier\n",
        "rf = RandomForestClassifier(featuresCol = 'features', labelCol = 'Survived')\n",
        "rfModel = rf.fit(train)\n",
        "rfPreds = rfModel.transform(test)\n",
        "rf_acc = acc_evaluator.evaluate(rfPreds)\n",
        "rf_f1= f1_eval.evaluate(rfPreds)\n",
        "rf_prec = prec_eval.evaluate(rfPreds)\n",
        "rf_recall=recall_eval.evaluate(rfPreds)\n",
        "\n",
        "\n",
        "print('Random Forest Accuracy: {0:2.2f}%'.format(rf_acc*100))\n",
        "print('Random Forest F1 score of: {}'.format(rf_f1))\n",
        "print('Random Forest Precision score : {}'.format(rf_prec))\n",
        "print('Random Forest Recall score of: {}'.format(rf_recall))"
      ],
      "metadata": {
        "colab": {
          "base_uri": "https://localhost:8080/"
        },
        "id": "ak5YAL9udc2J",
        "outputId": "41be1a17-3fad-4f5a-a371-b4d902f5ce41"
      },
      "execution_count": 48,
      "outputs": [
        {
          "output_type": "stream",
          "name": "stdout",
          "text": [
            "Random Forest Accuracy: 77.47%\n",
            "Random Forest F1 score of: 0.7653511100623366\n",
            "Random Forest Precision score : 0.779183156096812\n",
            "Random Forest Recall score of: 0.7747035573122529\n"
          ]
        }
      ]
    },
    {
      "cell_type": "markdown",
      "source": [
        "# Gradient Boosting"
      ],
      "metadata": {
        "id": "lqHF2oxrefY0"
      }
    },
    {
      "cell_type": "code",
      "source": [
        "from pyspark.ml.classification import GBTClassifier\n",
        "gb = GBTClassifier(featuresCol = 'features', labelCol = 'Survived')\n",
        "gbModel = gb.fit(train)\n",
        "gbPreds = gbModel.transform(test)\n",
        "gb_acc = acc_evaluator.evaluate(gbPreds)\n",
        "gb_f1= f1_eval.evaluate(gbPreds)\n",
        "gb_prec = prec_eval.evaluate(gbPreds)\n",
        "gb_recall=recall_eval.evaluate(gbPreds)\n",
        "\n",
        "\n",
        "print('Gradient Boosting Accuracy: {0:2.2f}%'.format(gb_acc*100))\n",
        "print('Gradient Boosting F1 score of: {}'.format(gb_f1))\n",
        "print('Gradient Boosting Precision score : {}'.format(gb_prec))\n",
        "print('Gradient Recall score of: {}'.format(gb_recall))"
      ],
      "metadata": {
        "colab": {
          "base_uri": "https://localhost:8080/"
        },
        "id": "A2XpC5bHeSAK",
        "outputId": "704d28e4-0fb4-4fce-ba37-3343f710581b"
      },
      "execution_count": 49,
      "outputs": [
        {
          "output_type": "stream",
          "name": "stdout",
          "text": [
            "Gradient Boosting Accuracy: 83.00%\n",
            "Gradient Boosting F1 score of: 0.8249377636479973\n",
            "Gradient Boosting Precision score : 0.8352786047944151\n",
            "Gradient Recall score of: 0.8300395256916996\n"
          ]
        }
      ]
    },
    {
      "cell_type": "markdown",
      "source": [
        "# Linear SVC"
      ],
      "metadata": {
        "id": "tBjhn-jbeyrc"
      }
    },
    {
      "cell_type": "code",
      "execution_count": 50,
      "metadata": {
        "id": "0Ei4MB82KWPu",
        "colab": {
          "base_uri": "https://localhost:8080/"
        },
        "outputId": "a68ab8e3-af20-4077-8383-b965a7ba8bdf"
      },
      "outputs": [
        {
          "output_type": "stream",
          "name": "stdout",
          "text": [
            "Linear SVC Accuracy: 79.05%\n",
            "Linear SVC  F1 score of: 0.7875007561848635\n",
            "Linear SVC  Precision score : 0.7889163304437594\n",
            "Linear SVC Recall score of: 0.7905138339920948\n"
          ]
        }
      ],
      "source": [
        "from pyspark.ml.classification import LinearSVC\n",
        "svc = LinearSVC(featuresCol = 'features', labelCol = 'Survived')\n",
        "svcModel = svc.fit(train)\n",
        "svcPreds = svcModel.transform(test)\n",
        "svc_acc = acc_evaluator.evaluate(svcPreds)\n",
        "svc_f1= f1_eval.evaluate(svcPreds)\n",
        "svc_prec = prec_eval.evaluate(svcPreds)\n",
        "svc_recall=recall_eval.evaluate(svcPreds)\n",
        "\n",
        "\n",
        "print('Linear SVC Accuracy: {0:2.2f}%'.format(svc_acc*100))\n",
        "print('Linear SVC  F1 score of: {}'.format(svc_f1))\n",
        "print('Linear SVC  Precision score : {}'.format(svc_prec))\n",
        "print('Linear SVC Recall score of: {}'.format(svc_recall))"
      ]
    },
    {
      "cell_type": "markdown",
      "source": [
        "we have applied 5 baseline machine algorithms and evaluated them and come to a conclusion that Gradient Boosting Classification  works best with accuracy score: 83.00% , F1 score of: 0.8249 , Precision score : 0.8352 ,Recall score of: 0.8300"
      ],
      "metadata": {
        "id": "8VGigm98zBDd"
      }
    },
    {
      "cell_type": "code",
      "source": [],
      "metadata": {
        "id": "u1Qy1TWfz8tJ"
      },
      "execution_count": null,
      "outputs": []
    }
  ]
}