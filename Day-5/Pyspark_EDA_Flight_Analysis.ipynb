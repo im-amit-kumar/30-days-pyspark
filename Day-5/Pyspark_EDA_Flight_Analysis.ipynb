{
  "nbformat": 4,
  "nbformat_minor": 0,
  "metadata": {
    "colab": {
      "provenance": [],
      "collapsed_sections": []
    },
    "kernelspec": {
      "name": "python3",
      "display_name": "Python 3"
    },
    "language_info": {
      "name": "python"
    }
  },
  "cells": [
    {
      "cell_type": "code",
      "execution_count": 1,
      "metadata": {
        "id": "6eyEHIt-ibe8"
      },
      "outputs": [],
      "source": [
        "#pip install pyspark"
      ]
    },
    {
      "cell_type": "code",
      "source": [
        "# mounting google colab"
      ],
      "metadata": {
        "id": "iVJIxQ00kQf3"
      },
      "execution_count": 2,
      "outputs": []
    },
    {
      "cell_type": "code",
      "source": [
        "from google.colab import drive\n",
        "drive.mount(\"/content/gdrive\", force_remount=True)\n"
      ],
      "metadata": {
        "colab": {
          "base_uri": "https://localhost:8080/"
        },
        "id": "OR6SZoPsYQ8c",
        "outputId": "01bd9082-e436-466c-e16d-e9f6e4570203"
      },
      "execution_count": 3,
      "outputs": [
        {
          "output_type": "stream",
          "name": "stdout",
          "text": [
            "Mounted at /content/gdrive\n"
          ]
        }
      ]
    },
    {
      "cell_type": "code",
      "source": [
        "cd /content/gdrive/MyDrive/pyspark/kaggle"
      ],
      "metadata": {
        "colab": {
          "base_uri": "https://localhost:8080/"
        },
        "id": "Z3AvAWyKa7Rc",
        "outputId": "073159eb-2115-4615-a20a-b3dfdd2e88e7"
      },
      "execution_count": 4,
      "outputs": [
        {
          "output_type": "stream",
          "name": "stdout",
          "text": [
            "/content/gdrive/MyDrive/pyspark/kaggle\n"
          ]
        }
      ]
    },
    {
      "cell_type": "code",
      "source": [
        "# pip install kaggle"
      ],
      "metadata": {
        "id": "v-5hmFWkbWAg"
      },
      "execution_count": 5,
      "outputs": []
    },
    {
      "cell_type": "code",
      "source": [
        "cp /root/kaggle/kaggle.json  /root/.kaggle"
      ],
      "metadata": {
        "id": "_Xvr6VT0bVuR"
      },
      "execution_count": 6,
      "outputs": []
    },
    {
      "cell_type": "code",
      "source": [
        "# ! kaggle datasets download usdot/flight-delays"
      ],
      "metadata": {
        "id": "J7HP1QcJbmp3"
      },
      "execution_count": 7,
      "outputs": []
    },
    {
      "cell_type": "code",
      "source": [],
      "metadata": {
        "id": "BaOnY-7iZ50E"
      },
      "execution_count": 7,
      "outputs": []
    },
    {
      "cell_type": "code",
      "source": [
        "# ! unzip /content/gdrive/MyDrive/pyspark/kaggle/flight-delays.zip"
      ],
      "metadata": {
        "id": "bXbCfls5m34D"
      },
      "execution_count": 8,
      "outputs": []
    },
    {
      "cell_type": "code",
      "source": [
        "# importing library"
      ],
      "metadata": {
        "id": "0PSkYP3a_Ln5"
      },
      "execution_count": 9,
      "outputs": []
    },
    {
      "cell_type": "code",
      "source": [
        "from pyspark.sql import SparkSession\n",
        "import pyspark.sql.functions as F\n",
        "import time\n",
        "\n",
        "from pyspark.sql.functions import monotonically_increasing_id,broadcast"
      ],
      "metadata": {
        "id": "B0I7LDWCkfa1"
      },
      "execution_count": 10,
      "outputs": []
    },
    {
      "cell_type": "code",
      "source": [
        "#creating spark session\n",
        "my_spark = SparkSession.builder.getOrCreate()\n",
        "my_spark"
      ],
      "metadata": {
        "colab": {
          "base_uri": "https://localhost:8080/",
          "height": 219
        },
        "id": "RrDw1ZXzmMM_",
        "outputId": "f62e7a58-4780-4c58-81ec-23cf0925e1e6"
      },
      "execution_count": 11,
      "outputs": [
        {
          "output_type": "execute_result",
          "data": {
            "text/plain": [
              "<pyspark.sql.session.SparkSession at 0x7f140259bad0>"
            ],
            "text/html": [
              "\n",
              "            <div>\n",
              "                <p><b>SparkSession - in-memory</b></p>\n",
              "                \n",
              "        <div>\n",
              "            <p><b>SparkContext</b></p>\n",
              "\n",
              "            <p><a href=\"http://c65873b5a70d:4040\">Spark UI</a></p>\n",
              "\n",
              "            <dl>\n",
              "              <dt>Version</dt>\n",
              "                <dd><code>v3.3.0</code></dd>\n",
              "              <dt>Master</dt>\n",
              "                <dd><code>local[*]</code></dd>\n",
              "              <dt>AppName</dt>\n",
              "                <dd><code>pyspark-shell</code></dd>\n",
              "            </dl>\n",
              "        </div>\n",
              "        \n",
              "            </div>\n",
              "        "
            ]
          },
          "metadata": {},
          "execution_count": 11
        }
      ]
    },
    {
      "cell_type": "code",
      "source": [
        "#importing files\n",
        "flights = my_spark.read.csv(\"/content/gdrive/MyDrive/pyspark/kaggle/flights.csv\",header=True)\n",
        "airports = my_spark.read.csv(\"/content/gdrive/MyDrive/pyspark/kaggle/airports.csv\",header=True)\n",
        "airlines = my_spark.read.csv(\"/content/gdrive/MyDrive/pyspark/kaggle/airlines.csv\",header=True)"
      ],
      "metadata": {
        "id": "ctPaZ5fMmicE"
      },
      "execution_count": 12,
      "outputs": []
    },
    {
      "cell_type": "code",
      "source": [
        "# printing the schema"
      ],
      "metadata": {
        "id": "7YXA2v12_2SG"
      },
      "execution_count": 13,
      "outputs": []
    },
    {
      "cell_type": "code",
      "source": [
        "flights.printSchema()"
      ],
      "metadata": {
        "colab": {
          "base_uri": "https://localhost:8080/"
        },
        "id": "rzDvH7xRn-NJ",
        "outputId": "3aa34e40-4ea0-455e-d358-754c6f23d5ef"
      },
      "execution_count": 14,
      "outputs": [
        {
          "output_type": "stream",
          "name": "stdout",
          "text": [
            "root\n",
            " |-- YEAR: string (nullable = true)\n",
            " |-- MONTH: string (nullable = true)\n",
            " |-- DAY: string (nullable = true)\n",
            " |-- DAY_OF_WEEK: string (nullable = true)\n",
            " |-- AIRLINE: string (nullable = true)\n",
            " |-- FLIGHT_NUMBER: string (nullable = true)\n",
            " |-- TAIL_NUMBER: string (nullable = true)\n",
            " |-- ORIGIN_AIRPORT: string (nullable = true)\n",
            " |-- DESTINATION_AIRPORT: string (nullable = true)\n",
            " |-- SCHEDULED_DEPARTURE: string (nullable = true)\n",
            " |-- DEPARTURE_TIME: string (nullable = true)\n",
            " |-- DEPARTURE_DELAY: string (nullable = true)\n",
            " |-- TAXI_OUT: string (nullable = true)\n",
            " |-- WHEELS_OFF: string (nullable = true)\n",
            " |-- SCHEDULED_TIME: string (nullable = true)\n",
            " |-- ELAPSED_TIME: string (nullable = true)\n",
            " |-- AIR_TIME: string (nullable = true)\n",
            " |-- DISTANCE: string (nullable = true)\n",
            " |-- WHEELS_ON: string (nullable = true)\n",
            " |-- TAXI_IN: string (nullable = true)\n",
            " |-- SCHEDULED_ARRIVAL: string (nullable = true)\n",
            " |-- ARRIVAL_TIME: string (nullable = true)\n",
            " |-- ARRIVAL_DELAY: string (nullable = true)\n",
            " |-- DIVERTED: string (nullable = true)\n",
            " |-- CANCELLED: string (nullable = true)\n",
            " |-- CANCELLATION_REASON: string (nullable = true)\n",
            " |-- AIR_SYSTEM_DELAY: string (nullable = true)\n",
            " |-- SECURITY_DELAY: string (nullable = true)\n",
            " |-- AIRLINE_DELAY: string (nullable = true)\n",
            " |-- LATE_AIRCRAFT_DELAY: string (nullable = true)\n",
            " |-- WEATHER_DELAY: string (nullable = true)\n",
            "\n"
          ]
        }
      ]
    },
    {
      "cell_type": "code",
      "source": [
        "# checking class \n",
        "type(flights)"
      ],
      "metadata": {
        "colab": {
          "base_uri": "https://localhost:8080/"
        },
        "id": "iUE4zh1poMrZ",
        "outputId": "6d446b0f-eda6-40e0-d1f6-4d303d192a71"
      },
      "execution_count": 15,
      "outputs": [
        {
          "output_type": "execute_result",
          "data": {
            "text/plain": [
              "pyspark.sql.dataframe.DataFrame"
            ]
          },
          "metadata": {},
          "execution_count": 15
        }
      ]
    },
    {
      "cell_type": "code",
      "source": [
        "# checking Distance Data Type\n",
        "flights.select('Distance').dtypes"
      ],
      "metadata": {
        "colab": {
          "base_uri": "https://localhost:8080/"
        },
        "id": "LeKlXvrAoSDU",
        "outputId": "8dd38d3a-331d-4fbd-f8b0-230b026bce08"
      },
      "execution_count": 16,
      "outputs": [
        {
          "output_type": "execute_result",
          "data": {
            "text/plain": [
              "[('Distance', 'string')]"
            ]
          },
          "metadata": {},
          "execution_count": 16
        }
      ]
    },
    {
      "cell_type": "code",
      "source": [
        "# casting string to integer\n",
        "flights = flights.withColumn(\"Distance\",flights['Distance'].cast('integer'))\n",
        "flights.select('Distance').dtypes"
      ],
      "metadata": {
        "colab": {
          "base_uri": "https://localhost:8080/"
        },
        "id": "ET0n5-froa-k",
        "outputId": "52084e57-55fb-4da9-d8c8-1ad7bf4346ea"
      },
      "execution_count": 17,
      "outputs": [
        {
          "output_type": "execute_result",
          "data": {
            "text/plain": [
              "[('Distance', 'int')]"
            ]
          },
          "metadata": {},
          "execution_count": 17
        }
      ]
    },
    {
      "cell_type": "code",
      "source": [
        "# top 5 \n",
        "flights.show(5)"
      ],
      "metadata": {
        "colab": {
          "base_uri": "https://localhost:8080/"
        },
        "id": "upoW3f7Gv1qw",
        "outputId": "7ff36607-adda-4ca3-8551-560e5ea2c7ff"
      },
      "execution_count": 18,
      "outputs": [
        {
          "output_type": "stream",
          "name": "stdout",
          "text": [
            "+----+-----+---+-----------+-------+-------------+-----------+--------------+-------------------+-------------------+--------------+---------------+--------+----------+--------------+------------+--------+--------+---------+-------+-----------------+------------+-------------+--------+---------+-------------------+----------------+--------------+-------------+-------------------+-------------+\n",
            "|YEAR|MONTH|DAY|DAY_OF_WEEK|AIRLINE|FLIGHT_NUMBER|TAIL_NUMBER|ORIGIN_AIRPORT|DESTINATION_AIRPORT|SCHEDULED_DEPARTURE|DEPARTURE_TIME|DEPARTURE_DELAY|TAXI_OUT|WHEELS_OFF|SCHEDULED_TIME|ELAPSED_TIME|AIR_TIME|Distance|WHEELS_ON|TAXI_IN|SCHEDULED_ARRIVAL|ARRIVAL_TIME|ARRIVAL_DELAY|DIVERTED|CANCELLED|CANCELLATION_REASON|AIR_SYSTEM_DELAY|SECURITY_DELAY|AIRLINE_DELAY|LATE_AIRCRAFT_DELAY|WEATHER_DELAY|\n",
            "+----+-----+---+-----------+-------+-------------+-----------+--------------+-------------------+-------------------+--------------+---------------+--------+----------+--------------+------------+--------+--------+---------+-------+-----------------+------------+-------------+--------+---------+-------------------+----------------+--------------+-------------+-------------------+-------------+\n",
            "|2015|    1|  1|          4|     AS|           98|     N407AS|           ANC|                SEA|               0005|          2354|            -11|      21|      0015|           205|         194|     169|    1448|     0404|      4|             0430|        0408|          -22|       0|        0|               null|            null|          null|         null|               null|         null|\n",
            "|2015|    1|  1|          4|     AA|         2336|     N3KUAA|           LAX|                PBI|               0010|          0002|             -8|      12|      0014|           280|         279|     263|    2330|     0737|      4|             0750|        0741|           -9|       0|        0|               null|            null|          null|         null|               null|         null|\n",
            "|2015|    1|  1|          4|     US|          840|     N171US|           SFO|                CLT|               0020|          0018|             -2|      16|      0034|           286|         293|     266|    2296|     0800|     11|             0806|        0811|            5|       0|        0|               null|            null|          null|         null|               null|         null|\n",
            "|2015|    1|  1|          4|     AA|          258|     N3HYAA|           LAX|                MIA|               0020|          0015|             -5|      15|      0030|           285|         281|     258|    2342|     0748|      8|             0805|        0756|           -9|       0|        0|               null|            null|          null|         null|               null|         null|\n",
            "|2015|    1|  1|          4|     AS|          135|     N527AS|           SEA|                ANC|               0025|          0024|             -1|      11|      0035|           235|         215|     199|    1448|     0254|      5|             0320|        0259|          -21|       0|        0|               null|            null|          null|         null|               null|         null|\n",
            "+----+-----+---+-----------+-------+-------------+-----------+--------------+-------------------+-------------------+--------------+---------------+--------+----------+--------------+------------+--------+--------+---------+-------+-----------------+------------+-------------+--------+---------+-------------------+----------------+--------------+-------------+-------------------+-------------+\n",
            "only showing top 5 rows\n",
            "\n"
          ]
        }
      ]
    },
    {
      "cell_type": "code",
      "source": [
        "airports.show(5)"
      ],
      "metadata": {
        "colab": {
          "base_uri": "https://localhost:8080/"
        },
        "id": "YsCla9lfv_n0",
        "outputId": "554adf7c-2813-4733-9e84-1070e3027f55"
      },
      "execution_count": 19,
      "outputs": [
        {
          "output_type": "stream",
          "name": "stdout",
          "text": [
            "+---------+--------------------+-----------+-----+-------+--------+----------+\n",
            "|IATA_CODE|             AIRPORT|       CITY|STATE|COUNTRY|LATITUDE| LONGITUDE|\n",
            "+---------+--------------------+-----------+-----+-------+--------+----------+\n",
            "|      ABE|Lehigh Valley Int...|  Allentown|   PA|    USA|40.65236| -75.44040|\n",
            "|      ABI|Abilene Regional ...|    Abilene|   TX|    USA|32.41132| -99.68190|\n",
            "|      ABQ|Albuquerque Inter...|Albuquerque|   NM|    USA|35.04022|-106.60919|\n",
            "|      ABR|Aberdeen Regional...|   Aberdeen|   SD|    USA|45.44906| -98.42183|\n",
            "|      ABY|Southwest Georgia...|     Albany|   GA|    USA|31.53552| -84.19447|\n",
            "+---------+--------------------+-----------+-----+-------+--------+----------+\n",
            "only showing top 5 rows\n",
            "\n"
          ]
        }
      ]
    },
    {
      "cell_type": "code",
      "source": [
        "airlines.show(5)"
      ],
      "metadata": {
        "colab": {
          "base_uri": "https://localhost:8080/"
        },
        "id": "AkxojOEqwX6T",
        "outputId": "267df4a8-7ead-4849-feb9-961d78541c2c"
      },
      "execution_count": 20,
      "outputs": [
        {
          "output_type": "stream",
          "name": "stdout",
          "text": [
            "+---------+--------------------+\n",
            "|IATA_CODE|             AIRLINE|\n",
            "+---------+--------------------+\n",
            "|       UA|United Air Lines ...|\n",
            "|       AA|American Airlines...|\n",
            "|       US|     US Airways Inc.|\n",
            "|       F9|Frontier Airlines...|\n",
            "|       B6|     JetBlue Airways|\n",
            "+---------+--------------------+\n",
            "only showing top 5 rows\n",
            "\n"
          ]
        }
      ]
    },
    {
      "cell_type": "code",
      "source": [
        "# creating column duration_hrs\n",
        "flights= flights.withColumn('duration_hrs',flights.AIR_TIME/60)\n",
        "flights.show(5)"
      ],
      "metadata": {
        "colab": {
          "base_uri": "https://localhost:8080/"
        },
        "id": "PZVTN9bzwfdi",
        "outputId": "48afebe8-dfed-4690-eecf-059213b5d267"
      },
      "execution_count": 21,
      "outputs": [
        {
          "output_type": "stream",
          "name": "stdout",
          "text": [
            "+----+-----+---+-----------+-------+-------------+-----------+--------------+-------------------+-------------------+--------------+---------------+--------+----------+--------------+------------+--------+--------+---------+-------+-----------------+------------+-------------+--------+---------+-------------------+----------------+--------------+-------------+-------------------+-------------+-----------------+\n",
            "|YEAR|MONTH|DAY|DAY_OF_WEEK|AIRLINE|FLIGHT_NUMBER|TAIL_NUMBER|ORIGIN_AIRPORT|DESTINATION_AIRPORT|SCHEDULED_DEPARTURE|DEPARTURE_TIME|DEPARTURE_DELAY|TAXI_OUT|WHEELS_OFF|SCHEDULED_TIME|ELAPSED_TIME|AIR_TIME|Distance|WHEELS_ON|TAXI_IN|SCHEDULED_ARRIVAL|ARRIVAL_TIME|ARRIVAL_DELAY|DIVERTED|CANCELLED|CANCELLATION_REASON|AIR_SYSTEM_DELAY|SECURITY_DELAY|AIRLINE_DELAY|LATE_AIRCRAFT_DELAY|WEATHER_DELAY|     duration_hrs|\n",
            "+----+-----+---+-----------+-------+-------------+-----------+--------------+-------------------+-------------------+--------------+---------------+--------+----------+--------------+------------+--------+--------+---------+-------+-----------------+------------+-------------+--------+---------+-------------------+----------------+--------------+-------------+-------------------+-------------+-----------------+\n",
            "|2015|    1|  1|          4|     AS|           98|     N407AS|           ANC|                SEA|               0005|          2354|            -11|      21|      0015|           205|         194|     169|    1448|     0404|      4|             0430|        0408|          -22|       0|        0|               null|            null|          null|         null|               null|         null|2.816666666666667|\n",
            "|2015|    1|  1|          4|     AA|         2336|     N3KUAA|           LAX|                PBI|               0010|          0002|             -8|      12|      0014|           280|         279|     263|    2330|     0737|      4|             0750|        0741|           -9|       0|        0|               null|            null|          null|         null|               null|         null|4.383333333333334|\n",
            "|2015|    1|  1|          4|     US|          840|     N171US|           SFO|                CLT|               0020|          0018|             -2|      16|      0034|           286|         293|     266|    2296|     0800|     11|             0806|        0811|            5|       0|        0|               null|            null|          null|         null|               null|         null|4.433333333333334|\n",
            "|2015|    1|  1|          4|     AA|          258|     N3HYAA|           LAX|                MIA|               0020|          0015|             -5|      15|      0030|           285|         281|     258|    2342|     0748|      8|             0805|        0756|           -9|       0|        0|               null|            null|          null|         null|               null|         null|              4.3|\n",
            "|2015|    1|  1|          4|     AS|          135|     N527AS|           SEA|                ANC|               0025|          0024|             -1|      11|      0035|           235|         215|     199|    1448|     0254|      5|             0320|        0259|          -21|       0|        0|               null|            null|          null|         null|               null|         null|3.316666666666667|\n",
            "+----+-----+---+-----------+-------+-------------+-----------+--------------+-------------------+-------------------+--------------+---------------+--------+----------+--------------+------------+--------+--------+---------+-------+-----------------+------------+-------------+--------+---------+-------------------+----------------+--------------+-------------+-------------------+-------------+-----------------+\n",
            "only showing top 5 rows\n",
            "\n"
          ]
        }
      ]
    },
    {
      "cell_type": "code",
      "source": [
        "# Filter"
      ],
      "metadata": {
        "id": "p-UV0jJNBru7"
      },
      "execution_count": 22,
      "outputs": []
    },
    {
      "cell_type": "code",
      "source": [
        "# filter Distance > 1000\n",
        "dist_flights = flights.filter('DISTANCE>1000')\n",
        "dist_flights.show(1)"
      ],
      "metadata": {
        "colab": {
          "base_uri": "https://localhost:8080/"
        },
        "id": "CQEB_ErPw1kg",
        "outputId": "fc190e12-4e16-4fc3-f918-504d5fa1078c"
      },
      "execution_count": 23,
      "outputs": [
        {
          "output_type": "stream",
          "name": "stdout",
          "text": [
            "+----+-----+---+-----------+-------+-------------+-----------+--------------+-------------------+-------------------+--------------+---------------+--------+----------+--------------+------------+--------+--------+---------+-------+-----------------+------------+-------------+--------+---------+-------------------+----------------+--------------+-------------+-------------------+-------------+-----------------+\n",
            "|YEAR|MONTH|DAY|DAY_OF_WEEK|AIRLINE|FLIGHT_NUMBER|TAIL_NUMBER|ORIGIN_AIRPORT|DESTINATION_AIRPORT|SCHEDULED_DEPARTURE|DEPARTURE_TIME|DEPARTURE_DELAY|TAXI_OUT|WHEELS_OFF|SCHEDULED_TIME|ELAPSED_TIME|AIR_TIME|Distance|WHEELS_ON|TAXI_IN|SCHEDULED_ARRIVAL|ARRIVAL_TIME|ARRIVAL_DELAY|DIVERTED|CANCELLED|CANCELLATION_REASON|AIR_SYSTEM_DELAY|SECURITY_DELAY|AIRLINE_DELAY|LATE_AIRCRAFT_DELAY|WEATHER_DELAY|     duration_hrs|\n",
            "+----+-----+---+-----------+-------+-------------+-----------+--------------+-------------------+-------------------+--------------+---------------+--------+----------+--------------+------------+--------+--------+---------+-------+-----------------+------------+-------------+--------+---------+-------------------+----------------+--------------+-------------+-------------------+-------------+-----------------+\n",
            "|2015|    1|  1|          4|     AS|           98|     N407AS|           ANC|                SEA|               0005|          2354|            -11|      21|      0015|           205|         194|     169|    1448|     0404|      4|             0430|        0408|          -22|       0|        0|               null|            null|          null|         null|               null|         null|2.816666666666667|\n",
            "+----+-----+---+-----------+-------+-------------+-----------+--------------+-------------------+-------------------+--------------+---------------+--------+----------+--------------+------------+--------+--------+---------+-------+-----------------+------------+-------------+--------+---------+-------------------+----------------+--------------+-------------+-------------------+-------------+-----------------+\n",
            "only showing top 1 row\n",
            "\n"
          ]
        }
      ]
    },
    {
      "cell_type": "code",
      "source": [
        "# selecting specific columns\n",
        "dist_col = dist_flights.select('YEAR','MONTH','FLIGHT_NUMBER','TAIL_NUMBER','ORIGIN_AIRPORT','DESTINATION_AIRPORT','AIR_TIME','DISTANCE')\n",
        "dist_col.show(5)"
      ],
      "metadata": {
        "colab": {
          "base_uri": "https://localhost:8080/"
        },
        "id": "FPhsAwHHxe8L",
        "outputId": "7eb1fee8-2dc2-48de-a54b-0f0f29e81ff4"
      },
      "execution_count": 24,
      "outputs": [
        {
          "output_type": "stream",
          "name": "stdout",
          "text": [
            "+----+-----+-------------+-----------+--------------+-------------------+--------+--------+\n",
            "|YEAR|MONTH|FLIGHT_NUMBER|TAIL_NUMBER|ORIGIN_AIRPORT|DESTINATION_AIRPORT|AIR_TIME|DISTANCE|\n",
            "+----+-----+-------------+-----------+--------------+-------------------+--------+--------+\n",
            "|2015|    1|           98|     N407AS|           ANC|                SEA|     169|    1448|\n",
            "|2015|    1|         2336|     N3KUAA|           LAX|                PBI|     263|    2330|\n",
            "|2015|    1|          840|     N171US|           SFO|                CLT|     266|    2296|\n",
            "|2015|    1|          258|     N3HYAA|           LAX|                MIA|     258|    2342|\n",
            "|2015|    1|          135|     N527AS|           SEA|                ANC|     199|    1448|\n",
            "+----+-----+-------------+-----------+--------------+-------------------+--------+--------+\n",
            "only showing top 5 rows\n",
            "\n"
          ]
        }
      ]
    },
    {
      "cell_type": "code",
      "source": [
        "# Filtering Column based where Destination Airport == PBI\n",
        "dist_col.filter(dist_col.DESTINATION_AIRPORT=='PBI').show(5)"
      ],
      "metadata": {
        "colab": {
          "base_uri": "https://localhost:8080/"
        },
        "id": "mCpPC_-fyipp",
        "outputId": "7c71aa6b-b9f9-4aa8-ce3f-9aa758261747"
      },
      "execution_count": 25,
      "outputs": [
        {
          "output_type": "stream",
          "name": "stdout",
          "text": [
            "+----+-----+-------------+-----------+--------------+-------------------+--------+--------+\n",
            "|YEAR|MONTH|FLIGHT_NUMBER|TAIL_NUMBER|ORIGIN_AIRPORT|DESTINATION_AIRPORT|AIR_TIME|DISTANCE|\n",
            "+----+-----+-------------+-----------+--------------+-------------------+--------+--------+\n",
            "|2015|    1|         2336|     N3KUAA|           LAX|                PBI|     263|    2330|\n",
            "|2015|    1|          721|     N623JB|           BOS|                PBI|     170|    1197|\n",
            "|2015|    1|          353|     N570JB|           JFK|                PBI|     142|    1028|\n",
            "|2015|    1|         1467|     N216JB|           HPN|                PBI|     146|    1056|\n",
            "|2015|    1|          453|     N652JB|           JFK|                PBI|     143|    1028|\n",
            "+----+-----+-------------+-----------+--------------+-------------------+--------+--------+\n",
            "only showing top 5 rows\n",
            "\n"
          ]
        }
      ]
    },
    {
      "cell_type": "code",
      "source": [
        "# filter based on Multiple Columns\n",
        "dist_col.filter(dist_col.ORIGIN_AIRPORT=='JFK').filter(dist_col.DESTINATION_AIRPORT=='PBI').show(5)"
      ],
      "metadata": {
        "colab": {
          "base_uri": "https://localhost:8080/"
        },
        "id": "ynIcWk5rzH2u",
        "outputId": "f0b4dc7b-8a16-4c35-988e-8ceeb0d6c2fc"
      },
      "execution_count": 26,
      "outputs": [
        {
          "output_type": "stream",
          "name": "stdout",
          "text": [
            "+----+-----+-------------+-----------+--------------+-------------------+--------+--------+\n",
            "|YEAR|MONTH|FLIGHT_NUMBER|TAIL_NUMBER|ORIGIN_AIRPORT|DESTINATION_AIRPORT|AIR_TIME|DISTANCE|\n",
            "+----+-----+-------------+-----------+--------------+-------------------+--------+--------+\n",
            "|2015|    1|          353|     N570JB|           JFK|                PBI|     142|    1028|\n",
            "|2015|    1|          453|     N652JB|           JFK|                PBI|     143|    1028|\n",
            "|2015|    1|         2012|     N954DL|           JFK|                PBI|     147|    1028|\n",
            "|2015|    1|          653|     N554JB|           JFK|                PBI|     144|    1028|\n",
            "|2015|    1|           53|     N534JB|           JFK|                PBI|     141|    1028|\n",
            "+----+-----+-------------+-----------+--------------+-------------------+--------+--------+\n",
            "only showing top 5 rows\n",
            "\n"
          ]
        }
      ]
    },
    {
      "cell_type": "markdown",
      "source": [
        "select() method is useful when you simply need to select a subset of columns from a particular Spark DataFrame. On the other hand, selectExpr() comes in handy when you need to select particular columns while at the same time you also need to apply some sort of transformation over particular column(s).\n",
        "\n"
      ],
      "metadata": {
        "id": "kwSEuH6aD5AZ"
      }
    },
    {
      "cell_type": "code",
      "source": [
        "# selecting columns based on Select Expr\n",
        "dist_col.selectExpr('YEAR','MONTH','FLIGHT_NUMBER','TAIL_NUMBER','ORIGIN_AIRPORT','DESTINATION_AIRPORT','AIR_TIME','DISTANCE','DISTANCE/(AIR_TIME / 60)AS Average_Speed').show(5)"
      ],
      "metadata": {
        "colab": {
          "base_uri": "https://localhost:8080/"
        },
        "id": "0sqKnCtr31PL",
        "outputId": "23b8a99d-9ebc-4143-e665-b9bcc2723aee"
      },
      "execution_count": 27,
      "outputs": [
        {
          "output_type": "stream",
          "name": "stdout",
          "text": [
            "+----+-----+-------------+-----------+--------------+-------------------+--------+--------+-----------------+\n",
            "|YEAR|MONTH|FLIGHT_NUMBER|TAIL_NUMBER|ORIGIN_AIRPORT|DESTINATION_AIRPORT|AIR_TIME|DISTANCE|    Average_Speed|\n",
            "+----+-----+-------------+-----------+--------------+-------------------+--------+--------+-----------------+\n",
            "|2015|    1|           98|     N407AS|           ANC|                SEA|     169|    1448|514.0828402366864|\n",
            "|2015|    1|         2336|     N3KUAA|           LAX|                PBI|     263|    2330|531.5589353612166|\n",
            "|2015|    1|          840|     N171US|           SFO|                CLT|     266|    2296|517.8947368421052|\n",
            "|2015|    1|          258|     N3HYAA|           LAX|                MIA|     258|    2342|544.6511627906978|\n",
            "|2015|    1|          135|     N527AS|           SEA|                ANC|     199|    1448|436.5829145728643|\n",
            "+----+-----+-------------+-----------+--------------+-------------------+--------+--------+-----------------+\n",
            "only showing top 5 rows\n",
            "\n"
          ]
        }
      ]
    },
    {
      "cell_type": "code",
      "source": [
        "dist_col.count()"
      ],
      "metadata": {
        "colab": {
          "base_uri": "https://localhost:8080/"
        },
        "id": "D1TJx0dd41Fq",
        "outputId": "1ed41e0d-d4e3-45d6-b0fa-739685cca4f4"
      },
      "execution_count": 28,
      "outputs": [
        {
          "output_type": "execute_result",
          "data": {
            "text/plain": [
              "1646627"
            ]
          },
          "metadata": {},
          "execution_count": 28
        }
      ]
    },
    {
      "cell_type": "code",
      "source": [
        "# grouping columns based on Origin Airport = USA and doing count\n",
        "dist_col.filter(dist_col.ORIGIN_AIRPORT=='SEA').groupby('ORIGIN_AIRPORT').count().show()"
      ],
      "metadata": {
        "colab": {
          "base_uri": "https://localhost:8080/"
        },
        "id": "YzKqdqhQ5J5n",
        "outputId": "48d04991-26c9-4c04-9f3b-1f5f0d96e567"
      },
      "execution_count": 29,
      "outputs": [
        {
          "output_type": "stream",
          "name": "stdout",
          "text": [
            "+--------------+-----+\n",
            "|ORIGIN_AIRPORT|count|\n",
            "+--------------+-----+\n",
            "|           SEA|59873|\n",
            "+--------------+-----+\n",
            "\n"
          ]
        }
      ]
    },
    {
      "cell_type": "code",
      "source": [
        "dist_col = dist_col.withColumn('AIR_TIME',dist_col['AIR_TIME'].cast('integer'))\n",
        "dist_col"
      ],
      "metadata": {
        "id": "8KIxgbpJ5zAt",
        "colab": {
          "base_uri": "https://localhost:8080/"
        },
        "outputId": "20e65702-f8aa-42d4-8f44-8949a3fe537e"
      },
      "execution_count": 30,
      "outputs": [
        {
          "output_type": "execute_result",
          "data": {
            "text/plain": [
              "DataFrame[YEAR: string, MONTH: string, FLIGHT_NUMBER: string, TAIL_NUMBER: string, ORIGIN_AIRPORT: string, DESTINATION_AIRPORT: string, AIR_TIME: int, DISTANCE: int]"
            ]
          },
          "metadata": {},
          "execution_count": 30
        }
      ]
    },
    {
      "cell_type": "markdown",
      "source": [
        "Aggregate Columns with :-\n",
        "Minimum\n",
        "Maximum\n",
        "Average\n",
        "Sum"
      ],
      "metadata": {
        "id": "FsQ9tKeTHG65"
      }
    },
    {
      "cell_type": "code",
      "source": [
        "dist_col.select('DISTANCE').groupby().max().show()"
      ],
      "metadata": {
        "colab": {
          "base_uri": "https://localhost:8080/"
        },
        "id": "173mU5EpktO7",
        "outputId": "2515dbab-ef32-47c7-94bc-63cc1c8705e4"
      },
      "execution_count": 31,
      "outputs": [
        {
          "output_type": "stream",
          "name": "stdout",
          "text": [
            "+-------------+\n",
            "|max(DISTANCE)|\n",
            "+-------------+\n",
            "|         4983|\n",
            "+-------------+\n",
            "\n"
          ]
        }
      ]
    },
    {
      "cell_type": "code",
      "source": [
        "dist_col.select('DISTANCE').groupby().min().show()"
      ],
      "metadata": {
        "colab": {
          "base_uri": "https://localhost:8080/"
        },
        "id": "2N6q3iIhlBIR",
        "outputId": "d2ac23ed-7dc2-45dd-b7aa-e274c2427dfd"
      },
      "execution_count": 32,
      "outputs": [
        {
          "output_type": "stream",
          "name": "stdout",
          "text": [
            "+-------------+\n",
            "|min(DISTANCE)|\n",
            "+-------------+\n",
            "|         1004|\n",
            "+-------------+\n",
            "\n"
          ]
        }
      ]
    },
    {
      "cell_type": "code",
      "source": [
        "dist_col.select('DISTANCE').groupby().avg().show()"
      ],
      "metadata": {
        "colab": {
          "base_uri": "https://localhost:8080/"
        },
        "id": "m5PqDZ0LlI4K",
        "outputId": "30593057-39d5-40c0-c443-3534566d43df"
      },
      "execution_count": 33,
      "outputs": [
        {
          "output_type": "stream",
          "name": "stdout",
          "text": [
            "+------------------+\n",
            "|     avg(DISTANCE)|\n",
            "+------------------+\n",
            "|1605.6454473296017|\n",
            "+------------------+\n",
            "\n"
          ]
        }
      ]
    },
    {
      "cell_type": "code",
      "source": [
        "dist_col.groupby().sum('DISTANCE').collect()[0][0]"
      ],
      "metadata": {
        "colab": {
          "base_uri": "https://localhost:8080/"
        },
        "id": "V9Jc1BrEleQt",
        "outputId": "547a62cc-c654-446f-b20d-112938124afd"
      },
      "execution_count": 34,
      "outputs": [
        {
          "output_type": "execute_result",
          "data": {
            "text/plain": [
              "2643899146"
            ]
          },
          "metadata": {},
          "execution_count": 34
        }
      ]
    },
    {
      "cell_type": "code",
      "source": [
        "# filter where Origin Airport = SEA grouping by Destination Airport and Count\n",
        "dist_col.filter(dist_col.ORIGIN_AIRPORT=='SEA').groupby('DESTINATION_AIRPORT').count().show(5)"
      ],
      "metadata": {
        "colab": {
          "base_uri": "https://localhost:8080/"
        },
        "id": "SbFpBIW_mAm-",
        "outputId": "95396d35-f269-4a09-afe6-3e62180b9f95"
      },
      "execution_count": 35,
      "outputs": [
        {
          "output_type": "stream",
          "name": "stdout",
          "text": [
            "+-------------------+-----+\n",
            "|DESTINATION_AIRPORT|count|\n",
            "+-------------------+-----+\n",
            "|                MSY|  334|\n",
            "|                DCA|  657|\n",
            "|                LIH|  562|\n",
            "|                IAH| 2204|\n",
            "|                HNL| 1744|\n",
            "+-------------------+-----+\n",
            "only showing top 5 rows\n",
            "\n"
          ]
        }
      ]
    },
    {
      "cell_type": "code",
      "source": [
        "month_df = dist_col.groupby('MONTH','ORIGIN_AIRPORT')"
      ],
      "metadata": {
        "id": "6P0JA8Pwmm31"
      },
      "execution_count": 36,
      "outputs": []
    },
    {
      "cell_type": "code",
      "source": [
        "month_df.avg('DISTANCE').show(5)"
      ],
      "metadata": {
        "colab": {
          "base_uri": "https://localhost:8080/"
        },
        "id": "0D7SNWWknhFS",
        "outputId": "ad5abb23-685e-4094-a06c-c523da2134dc"
      },
      "execution_count": 37,
      "outputs": [
        {
          "output_type": "stream",
          "name": "stdout",
          "text": [
            "+-----+--------------+------------------+\n",
            "|MONTH|ORIGIN_AIRPORT|     avg(DISTANCE)|\n",
            "+-----+--------------+------------------+\n",
            "|    1|           BNA|1423.3386773547095|\n",
            "|    2|           LIT|            1176.0|\n",
            "|    3|           BDL| 1243.851485148515|\n",
            "|    1|           PDX|1759.3812654067378|\n",
            "|    1|           BUR|            2465.0|\n",
            "+-----+--------------+------------------+\n",
            "only showing top 5 rows\n",
            "\n"
          ]
        }
      ]
    },
    {
      "cell_type": "code",
      "source": [
        "# aggregate function\n",
        "month_df.agg(F.mean('DISTANCE')).show(5)"
      ],
      "metadata": {
        "colab": {
          "base_uri": "https://localhost:8080/"
        },
        "id": "uj5AVLsBnpA6",
        "outputId": "7f0dc0c7-5637-4b47-a1a4-81fcc383e438"
      },
      "execution_count": 38,
      "outputs": [
        {
          "output_type": "stream",
          "name": "stdout",
          "text": [
            "+-----+--------------+------------------+\n",
            "|MONTH|ORIGIN_AIRPORT|     avg(DISTANCE)|\n",
            "+-----+--------------+------------------+\n",
            "|    1|           BNA|1423.3386773547095|\n",
            "|    2|           LIT|            1176.0|\n",
            "|    3|           BDL| 1243.851485148515|\n",
            "|    1|           PDX|1759.3812654067378|\n",
            "|    1|           BUR|            2465.0|\n",
            "+-----+--------------+------------------+\n",
            "only showing top 5 rows\n",
            "\n"
          ]
        }
      ]
    },
    {
      "cell_type": "code",
      "source": [
        "# checking number of partitions for the dataframe\n",
        "flights.rdd.getNumPartitions()"
      ],
      "metadata": {
        "colab": {
          "base_uri": "https://localhost:8080/"
        },
        "id": "fZ7ZfQLDoJC9",
        "outputId": "8544e2e1-b5fa-4d9c-bf24-74bad0ed4517"
      },
      "execution_count": 39,
      "outputs": [
        {
          "output_type": "execute_result",
          "data": {
            "text/plain": [
              "5"
            ]
          },
          "metadata": {},
          "execution_count": 39
        }
      ]
    },
    {
      "cell_type": "code",
      "source": [
        "#filtering distinct columns\n",
        "airports.select(airports['AIRPORT']).distinct().show(5)"
      ],
      "metadata": {
        "colab": {
          "base_uri": "https://localhost:8080/"
        },
        "id": "-2n5DIzTo25J",
        "outputId": "e4c18b48-bd7a-4c92-8cea-f152dac6dbb0"
      },
      "execution_count": 40,
      "outputs": [
        {
          "output_type": "stream",
          "name": "stdout",
          "text": [
            "+--------------------+\n",
            "|             AIRPORT|\n",
            "+--------------------+\n",
            "|Melbourne Interna...|\n",
            "|     Eppley Airfield|\n",
            "|San Diego Interna...|\n",
            "|     Kahului Airport|\n",
            "|Austin-Bergstrom ...|\n",
            "+--------------------+\n",
            "only showing top 5 rows\n",
            "\n"
          ]
        }
      ]
    },
    {
      "cell_type": "code",
      "source": [
        "# filtering based on length\n",
        "airports.filter('length(AIRPORT)<15').show()"
      ],
      "metadata": {
        "colab": {
          "base_uri": "https://localhost:8080/"
        },
        "id": "_iSnSrcYpfAX",
        "outputId": "50f516ea-1abf-4b7c-8add-ae58c9b6390f"
      },
      "execution_count": 41,
      "outputs": [
        {
          "output_type": "stream",
          "name": "stdout",
          "text": [
            "+---------+--------------+--------------------+-----+-------+--------+----------+\n",
            "|IATA_CODE|       AIRPORT|                CITY|STATE|COUNTRY|LATITUDE| LONGITUDE|\n",
            "+---------+--------------+--------------------+-----+-------+--------+----------+\n",
            "|      ACV|Arcata Airport|       Arcata/Eureka|   CA|    USA|40.97812|-124.10862|\n",
            "|      ADK|  Adak Airport|                Adak|   AK|    USA|51.87796|-176.64603|\n",
            "|      ADQ|Kodiak Airport|              Kodiak|   AK|    USA|57.74997|-152.49386|\n",
            "|      BET|Bethel Airport|              Bethel|   AK|    USA|60.77978|-161.83800|\n",
            "|      BFL| Meadows Field|         Bakersfield|   CA|    USA|35.43360|-119.05677|\n",
            "|      CRW|Yeager Airport|          Charleston|   WV|    USA|38.37315| -81.59319|\n",
            "|      IMT|  Ford Airport|Iron Mountain/Kin...|   MI|    USA|45.81835| -88.11454|\n",
            "|      LIH| Lihue Airport|               Lihue|   HI|    USA|21.97598|-159.33896|\n",
            "|      OME|  Nome Airport|                Nome|   AK|    USA|64.51220|-165.44525|\n",
            "|      VEL|Valdez Airport|              Vernal|   UT|    USA|40.44090|-109.50992|\n",
            "+---------+--------------+--------------------+-----+-------+--------+----------+\n",
            "\n"
          ]
        }
      ]
    },
    {
      "cell_type": "code",
      "source": [
        "# filtering such that Airport column will not contain\n",
        "airports.filter(~F.column('AIRPORT').contains('AIRPORT')).show()"
      ],
      "metadata": {
        "colab": {
          "base_uri": "https://localhost:8080/"
        },
        "id": "l9ciAkQXpvV2",
        "outputId": "92ea0944-f53c-43aa-e0fa-905382996a37"
      },
      "execution_count": 42,
      "outputs": [
        {
          "output_type": "stream",
          "name": "stdout",
          "text": [
            "+---------+--------------------+-------------+-----+-------+--------+----------+\n",
            "|IATA_CODE|             AIRPORT|         CITY|STATE|COUNTRY|LATITUDE| LONGITUDE|\n",
            "+---------+--------------------+-------------+-----+-------+--------+----------+\n",
            "|      ABE|Lehigh Valley Int...|    Allentown|   PA|    USA|40.65236| -75.44040|\n",
            "|      ABI|Abilene Regional ...|      Abilene|   TX|    USA|32.41132| -99.68190|\n",
            "|      ABQ|Albuquerque Inter...|  Albuquerque|   NM|    USA|35.04022|-106.60919|\n",
            "|      ABR|Aberdeen Regional...|     Aberdeen|   SD|    USA|45.44906| -98.42183|\n",
            "|      ABY|Southwest Georgia...|       Albany|   GA|    USA|31.53552| -84.19447|\n",
            "|      ACK|Nantucket Memoria...|    Nantucket|   MA|    USA|41.25305| -70.06018|\n",
            "|      ACT|Waco Regional Air...|         Waco|   TX|    USA|31.61129| -97.23052|\n",
            "|      ACV|      Arcata Airport|Arcata/Eureka|   CA|    USA|40.97812|-124.10862|\n",
            "|      ACY|Atlantic City Int...|Atlantic City|   NJ|    USA|39.45758| -74.57717|\n",
            "|      ADK|        Adak Airport|         Adak|   AK|    USA|51.87796|-176.64603|\n",
            "|      ADQ|      Kodiak Airport|       Kodiak|   AK|    USA|57.74997|-152.49386|\n",
            "|      AEX|Alexandria Intern...|   Alexandria|   LA|    USA|31.32737| -92.54856|\n",
            "|      AGS|Augusta Regional ...|      Augusta|   GA|    USA|33.36996| -81.96450|\n",
            "|      AKN| King Salmon Airport|  King Salmon|   AK|    USA|58.67680|-156.64922|\n",
            "|      ALB|Albany Internatio...|       Albany|   NY|    USA|42.74812| -73.80298|\n",
            "|      ALO|Waterloo Regional...|     Waterloo|   IA|    USA|42.55708| -92.40034|\n",
            "|      AMA|Rick Husband Amar...|     Amarillo|   TX|    USA|35.21937|-101.70593|\n",
            "|      ANC|Ted Stevens Ancho...|    Anchorage|   AK|    USA|61.17432|-149.99619|\n",
            "|      APN|Alpena County Reg...|       Alpena|   MI|    USA|45.07807| -83.56029|\n",
            "|      ASE|Aspen-Pitkin Coun...|        Aspen|   CO|    USA|39.22316|-106.86885|\n",
            "+---------+--------------------+-------------+-----+-------+--------+----------+\n",
            "only showing top 20 rows\n",
            "\n"
          ]
        }
      ]
    },
    {
      "cell_type": "markdown",
      "source": [
        "Conditional Statement Execution"
      ],
      "metadata": {
        "id": "---NxLWZSZXx"
      }
    },
    {
      "cell_type": "code",
      "source": [
        "airports.withColumn('State Name',F.when(airports.STATE=='TX','TEXAS')).show(5)"
      ],
      "metadata": {
        "colab": {
          "base_uri": "https://localhost:8080/"
        },
        "id": "8LzvH0GJqUyO",
        "outputId": "687aba0e-1cb9-458c-9adb-ebf49854b582"
      },
      "execution_count": 43,
      "outputs": [
        {
          "output_type": "stream",
          "name": "stdout",
          "text": [
            "+---------+--------------------+-----------+-----+-------+--------+----------+----------+\n",
            "|IATA_CODE|             AIRPORT|       CITY|STATE|COUNTRY|LATITUDE| LONGITUDE|State Name|\n",
            "+---------+--------------------+-----------+-----+-------+--------+----------+----------+\n",
            "|      ABE|Lehigh Valley Int...|  Allentown|   PA|    USA|40.65236| -75.44040|      null|\n",
            "|      ABI|Abilene Regional ...|    Abilene|   TX|    USA|32.41132| -99.68190|     TEXAS|\n",
            "|      ABQ|Albuquerque Inter...|Albuquerque|   NM|    USA|35.04022|-106.60919|      null|\n",
            "|      ABR|Aberdeen Regional...|   Aberdeen|   SD|    USA|45.44906| -98.42183|      null|\n",
            "|      ABY|Southwest Georgia...|     Albany|   GA|    USA|31.53552| -84.19447|      null|\n",
            "+---------+--------------------+-----------+-----+-------+--------+----------+----------+\n",
            "only showing top 5 rows\n",
            "\n"
          ]
        }
      ]
    },
    {
      "cell_type": "code",
      "source": [
        "airports.withColumn('Flag',F.when(airports.STATE == 'TX','TEXAS').when(airports.STATE=='GA','Georgio').otherwise('N/A')).show(5)"
      ],
      "metadata": {
        "colab": {
          "base_uri": "https://localhost:8080/"
        },
        "id": "HsBsXlhTq1ro",
        "outputId": "492e8151-63dc-4b8d-aaf5-58c85cb9428d"
      },
      "execution_count": 44,
      "outputs": [
        {
          "output_type": "stream",
          "name": "stdout",
          "text": [
            "+---------+--------------------+-----------+-----+-------+--------+----------+-------+\n",
            "|IATA_CODE|             AIRPORT|       CITY|STATE|COUNTRY|LATITUDE| LONGITUDE|   Flag|\n",
            "+---------+--------------------+-----------+-----+-------+--------+----------+-------+\n",
            "|      ABE|Lehigh Valley Int...|  Allentown|   PA|    USA|40.65236| -75.44040|    N/A|\n",
            "|      ABI|Abilene Regional ...|    Abilene|   TX|    USA|32.41132| -99.68190|  TEXAS|\n",
            "|      ABQ|Albuquerque Inter...|Albuquerque|   NM|    USA|35.04022|-106.60919|    N/A|\n",
            "|      ABR|Aberdeen Regional...|   Aberdeen|   SD|    USA|45.44906| -98.42183|    N/A|\n",
            "|      ABY|Southwest Georgia...|     Albany|   GA|    USA|31.53552| -84.19447|Georgio|\n",
            "+---------+--------------------+-----------+-----+-------+--------+----------+-------+\n",
            "only showing top 5 rows\n",
            "\n"
          ]
        }
      ]
    },
    {
      "cell_type": "code",
      "source": [
        "#monotonically increasing id\n",
        "airports.withColumn('ID',monotonically_increasing_id()).show()"
      ],
      "metadata": {
        "colab": {
          "base_uri": "https://localhost:8080/"
        },
        "id": "Y4_kq3KAr8pX",
        "outputId": "cacdbc29-9fb0-4f72-e104-eeb3e6a0bf7a"
      },
      "execution_count": 45,
      "outputs": [
        {
          "output_type": "stream",
          "name": "stdout",
          "text": [
            "+---------+--------------------+-------------+-----+-------+--------+----------+---+\n",
            "|IATA_CODE|             AIRPORT|         CITY|STATE|COUNTRY|LATITUDE| LONGITUDE| ID|\n",
            "+---------+--------------------+-------------+-----+-------+--------+----------+---+\n",
            "|      ABE|Lehigh Valley Int...|    Allentown|   PA|    USA|40.65236| -75.44040|  0|\n",
            "|      ABI|Abilene Regional ...|      Abilene|   TX|    USA|32.41132| -99.68190|  1|\n",
            "|      ABQ|Albuquerque Inter...|  Albuquerque|   NM|    USA|35.04022|-106.60919|  2|\n",
            "|      ABR|Aberdeen Regional...|     Aberdeen|   SD|    USA|45.44906| -98.42183|  3|\n",
            "|      ABY|Southwest Georgia...|       Albany|   GA|    USA|31.53552| -84.19447|  4|\n",
            "|      ACK|Nantucket Memoria...|    Nantucket|   MA|    USA|41.25305| -70.06018|  5|\n",
            "|      ACT|Waco Regional Air...|         Waco|   TX|    USA|31.61129| -97.23052|  6|\n",
            "|      ACV|      Arcata Airport|Arcata/Eureka|   CA|    USA|40.97812|-124.10862|  7|\n",
            "|      ACY|Atlantic City Int...|Atlantic City|   NJ|    USA|39.45758| -74.57717|  8|\n",
            "|      ADK|        Adak Airport|         Adak|   AK|    USA|51.87796|-176.64603|  9|\n",
            "|      ADQ|      Kodiak Airport|       Kodiak|   AK|    USA|57.74997|-152.49386| 10|\n",
            "|      AEX|Alexandria Intern...|   Alexandria|   LA|    USA|31.32737| -92.54856| 11|\n",
            "|      AGS|Augusta Regional ...|      Augusta|   GA|    USA|33.36996| -81.96450| 12|\n",
            "|      AKN| King Salmon Airport|  King Salmon|   AK|    USA|58.67680|-156.64922| 13|\n",
            "|      ALB|Albany Internatio...|       Albany|   NY|    USA|42.74812| -73.80298| 14|\n",
            "|      ALO|Waterloo Regional...|     Waterloo|   IA|    USA|42.55708| -92.40034| 15|\n",
            "|      AMA|Rick Husband Amar...|     Amarillo|   TX|    USA|35.21937|-101.70593| 16|\n",
            "|      ANC|Ted Stevens Ancho...|    Anchorage|   AK|    USA|61.17432|-149.99619| 17|\n",
            "|      APN|Alpena County Reg...|       Alpena|   MI|    USA|45.07807| -83.56029| 18|\n",
            "|      ASE|Aspen-Pitkin Coun...|        Aspen|   CO|    USA|39.22316|-106.86885| 19|\n",
            "+---------+--------------------+-------------+-----+-------+--------+----------+---+\n",
            "only showing top 20 rows\n",
            "\n"
          ]
        }
      ]
    },
    {
      "cell_type": "code",
      "source": [
        "# cache in pyspark\n",
        "start_time = time.time()\n",
        "\n",
        "dest_cache = flights.select('Destination_AIRPORT').cache()\n",
        "print('First Call to cache ',dest_cache, time.time()- start_time)\n",
        "second_time = time.time()\n",
        "print('Second Call to the Dataframe',dest_cache,time.time()-second_time)"
      ],
      "metadata": {
        "colab": {
          "base_uri": "https://localhost:8080/"
        },
        "id": "yWFAD0_Bz-mY",
        "outputId": "15acc687-c9ac-4f40-a7f0-2846a23840ad"
      },
      "execution_count": 46,
      "outputs": [
        {
          "output_type": "stream",
          "name": "stdout",
          "text": [
            "First Call to cache  DataFrame[Destination_AIRPORT: string] 0.0643320083618164\n",
            "Second Call to the Dataframe DataFrame[Destination_AIRPORT: string] 7.987022399902344e-05\n"
          ]
        }
      ]
    },
    {
      "cell_type": "code",
      "source": [
        "# clearing cache\n",
        "print('Is the dataframe Cached?',dest_cache.is_cached)\n",
        "dest_cache.unpersist()\n",
        "print('Is the dataframe Cached?',dest_cache.is_cached)"
      ],
      "metadata": {
        "colab": {
          "base_uri": "https://localhost:8080/"
        },
        "id": "FV-5Pvnv1Be7",
        "outputId": "91d9c2c0-e540-43ff-e44f-f8c926e98ef1"
      },
      "execution_count": 47,
      "outputs": [
        {
          "output_type": "stream",
          "name": "stdout",
          "text": [
            "Is the dataframe Cached? True\n",
            "Is the dataframe Cached? False\n"
          ]
        }
      ]
    },
    {
      "cell_type": "markdown",
      "source": [
        "Joining Dataframes in Pyspark"
      ],
      "metadata": {
        "id": "D2HiU4dOTNS4"
      }
    },
    {
      "cell_type": "code",
      "source": [
        "df= airports.join(flights,airports['IATA_CODE']==flights['ORIGIN_AIRPORT'])"
      ],
      "metadata": {
        "id": "FB301dSy1onU"
      },
      "execution_count": 48,
      "outputs": []
    },
    {
      "cell_type": "markdown",
      "source": [
        "Explain :- Prints the (logical and physical) plans to the console for debugging purpose.\n"
      ],
      "metadata": {
        "id": "57DfV7EOThke"
      }
    },
    {
      "cell_type": "code",
      "source": [
        "df.explain()"
      ],
      "metadata": {
        "colab": {
          "base_uri": "https://localhost:8080/"
        },
        "id": "4hlWdP882C8_",
        "outputId": "4f936c38-61ae-4410-da2d-2a73c7bb30a0"
      },
      "execution_count": 49,
      "outputs": [
        {
          "output_type": "stream",
          "name": "stdout",
          "text": [
            "== Physical Plan ==\n",
            "AdaptiveSparkPlan isFinalPlan=false\n",
            "+- BroadcastHashJoin [IATA_CODE#96], [ORIGIN_AIRPORT#24], Inner, BuildLeft, false\n",
            "   :- BroadcastExchange HashedRelationBroadcastMode(List(input[0, string, false]),false), [id=#783]\n",
            "   :  +- Filter isnotnull(IATA_CODE#96)\n",
            "   :     +- FileScan csv [IATA_CODE#96,AIRPORT#97,CITY#98,STATE#99,COUNTRY#100,LATITUDE#101,LONGITUDE#102] Batched: false, DataFilters: [isnotnull(IATA_CODE#96)], Format: CSV, Location: InMemoryFileIndex(1 paths)[file:/content/gdrive/MyDrive/pyspark/kaggle/airports.csv], PartitionFilters: [], PushedFilters: [IsNotNull(IATA_CODE)], ReadSchema: struct<IATA_CODE:string,AIRPORT:string,CITY:string,STATE:string,COUNTRY:string,LATITUDE:string,LO...\n",
            "   +- Project [YEAR#17, MONTH#18, DAY#19, DAY_OF_WEEK#20, AIRLINE#21, FLIGHT_NUMBER#22, TAIL_NUMBER#23, ORIGIN_AIRPORT#24, DESTINATION_AIRPORT#25, SCHEDULED_DEPARTURE#26, DEPARTURE_TIME#27, DEPARTURE_DELAY#28, TAXI_OUT#29, WHEELS_OFF#30, SCHEDULED_TIME#31, ELAPSED_TIME#32, AIR_TIME#33, cast(Distance#34 as int) AS Distance#133, WHEELS_ON#35, TAXI_IN#36, SCHEDULED_ARRIVAL#37, ARRIVAL_TIME#38, ARRIVAL_DELAY#39, DIVERTED#40, ... 8 more fields]\n",
            "      +- Filter isnotnull(ORIGIN_AIRPORT#24)\n",
            "         +- FileScan csv [YEAR#17,MONTH#18,DAY#19,DAY_OF_WEEK#20,AIRLINE#21,FLIGHT_NUMBER#22,TAIL_NUMBER#23,ORIGIN_AIRPORT#24,DESTINATION_AIRPORT#25,SCHEDULED_DEPARTURE#26,DEPARTURE_TIME#27,DEPARTURE_DELAY#28,TAXI_OUT#29,WHEELS_OFF#30,SCHEDULED_TIME#31,ELAPSED_TIME#32,AIR_TIME#33,DISTANCE#34,WHEELS_ON#35,TAXI_IN#36,SCHEDULED_ARRIVAL#37,ARRIVAL_TIME#38,ARRIVAL_DELAY#39,DIVERTED#40,... 7 more fields] Batched: false, DataFilters: [isnotnull(ORIGIN_AIRPORT#24)], Format: CSV, Location: InMemoryFileIndex(1 paths)[file:/content/gdrive/MyDrive/pyspark/kaggle/flights.csv], PartitionFilters: [], PushedFilters: [IsNotNull(ORIGIN_AIRPORT)], ReadSchema: struct<YEAR:string,MONTH:string,DAY:string,DAY_OF_WEEK:string,AIRLINE:string,FLIGHT_NUMBER:string...\n",
            "\n",
            "\n"
          ]
        }
      ]
    },
    {
      "cell_type": "code",
      "source": [
        "df_broadcast = airports.join(broadcast(flights),airports['IATA_CODE']==flights['ORIGIN_AIRPORT'])"
      ],
      "metadata": {
        "id": "CM7eiAhD2PER"
      },
      "execution_count": 50,
      "outputs": []
    },
    {
      "cell_type": "code",
      "source": [
        "df_broadcast.explain()"
      ],
      "metadata": {
        "colab": {
          "base_uri": "https://localhost:8080/"
        },
        "id": "wD-rmeKR2yMZ",
        "outputId": "45ebc6a1-f8a1-4b7d-e4f5-f11b6928557e"
      },
      "execution_count": 51,
      "outputs": [
        {
          "output_type": "stream",
          "name": "stdout",
          "text": [
            "== Physical Plan ==\n",
            "AdaptiveSparkPlan isFinalPlan=false\n",
            "+- BroadcastHashJoin [IATA_CODE#96], [ORIGIN_AIRPORT#24], Inner, BuildRight, false\n",
            "   :- Filter isnotnull(IATA_CODE#96)\n",
            "   :  +- FileScan csv [IATA_CODE#96,AIRPORT#97,CITY#98,STATE#99,COUNTRY#100,LATITUDE#101,LONGITUDE#102] Batched: false, DataFilters: [isnotnull(IATA_CODE#96)], Format: CSV, Location: InMemoryFileIndex(1 paths)[file:/content/gdrive/MyDrive/pyspark/kaggle/airports.csv], PartitionFilters: [], PushedFilters: [IsNotNull(IATA_CODE)], ReadSchema: struct<IATA_CODE:string,AIRPORT:string,CITY:string,STATE:string,COUNTRY:string,LATITUDE:string,LO...\n",
            "   +- BroadcastExchange HashedRelationBroadcastMode(List(input[7, string, true]),false), [id=#806]\n",
            "      +- Project [YEAR#17, MONTH#18, DAY#19, DAY_OF_WEEK#20, AIRLINE#21, FLIGHT_NUMBER#22, TAIL_NUMBER#23, ORIGIN_AIRPORT#24, DESTINATION_AIRPORT#25, SCHEDULED_DEPARTURE#26, DEPARTURE_TIME#27, DEPARTURE_DELAY#28, TAXI_OUT#29, WHEELS_OFF#30, SCHEDULED_TIME#31, ELAPSED_TIME#32, AIR_TIME#33, cast(Distance#34 as int) AS Distance#133, WHEELS_ON#35, TAXI_IN#36, SCHEDULED_ARRIVAL#37, ARRIVAL_TIME#38, ARRIVAL_DELAY#39, DIVERTED#40, ... 8 more fields]\n",
            "         +- Filter isnotnull(ORIGIN_AIRPORT#24)\n",
            "            +- FileScan csv [YEAR#17,MONTH#18,DAY#19,DAY_OF_WEEK#20,AIRLINE#21,FLIGHT_NUMBER#22,TAIL_NUMBER#23,ORIGIN_AIRPORT#24,DESTINATION_AIRPORT#25,SCHEDULED_DEPARTURE#26,DEPARTURE_TIME#27,DEPARTURE_DELAY#28,TAXI_OUT#29,WHEELS_OFF#30,SCHEDULED_TIME#31,ELAPSED_TIME#32,AIR_TIME#33,DISTANCE#34,WHEELS_ON#35,TAXI_IN#36,SCHEDULED_ARRIVAL#37,ARRIVAL_TIME#38,ARRIVAL_DELAY#39,DIVERTED#40,... 7 more fields] Batched: false, DataFilters: [isnotnull(ORIGIN_AIRPORT#24)], Format: CSV, Location: InMemoryFileIndex(1 paths)[file:/content/gdrive/MyDrive/pyspark/kaggle/flights.csv], PartitionFilters: [], PushedFilters: [IsNotNull(ORIGIN_AIRPORT)], ReadSchema: struct<YEAR:string,MONTH:string,DAY:string,DAY_OF_WEEK:string,AIRLINE:string,FLIGHT_NUMBER:string...\n",
            "\n",
            "\n"
          ]
        }
      ]
    },
    {
      "cell_type": "markdown",
      "source": [
        "creating Temporary Table in Pyspark"
      ],
      "metadata": {
        "id": "NmlaOIOfTrd_"
      }
    },
    {
      "cell_type": "code",
      "source": [
        "airports.createOrReplaceTempView('Airports_tbl')\n",
        "my_spark.sql('Select * from Airports_tbl').show()"
      ],
      "metadata": {
        "colab": {
          "base_uri": "https://localhost:8080/"
        },
        "id": "01H4BvWz3E46",
        "outputId": "ec71d993-dfc1-42fc-baf3-3e271575e04c"
      },
      "execution_count": 52,
      "outputs": [
        {
          "output_type": "stream",
          "name": "stdout",
          "text": [
            "+---------+--------------------+-------------+-----+-------+--------+----------+\n",
            "|IATA_CODE|             AIRPORT|         CITY|STATE|COUNTRY|LATITUDE| LONGITUDE|\n",
            "+---------+--------------------+-------------+-----+-------+--------+----------+\n",
            "|      ABE|Lehigh Valley Int...|    Allentown|   PA|    USA|40.65236| -75.44040|\n",
            "|      ABI|Abilene Regional ...|      Abilene|   TX|    USA|32.41132| -99.68190|\n",
            "|      ABQ|Albuquerque Inter...|  Albuquerque|   NM|    USA|35.04022|-106.60919|\n",
            "|      ABR|Aberdeen Regional...|     Aberdeen|   SD|    USA|45.44906| -98.42183|\n",
            "|      ABY|Southwest Georgia...|       Albany|   GA|    USA|31.53552| -84.19447|\n",
            "|      ACK|Nantucket Memoria...|    Nantucket|   MA|    USA|41.25305| -70.06018|\n",
            "|      ACT|Waco Regional Air...|         Waco|   TX|    USA|31.61129| -97.23052|\n",
            "|      ACV|      Arcata Airport|Arcata/Eureka|   CA|    USA|40.97812|-124.10862|\n",
            "|      ACY|Atlantic City Int...|Atlantic City|   NJ|    USA|39.45758| -74.57717|\n",
            "|      ADK|        Adak Airport|         Adak|   AK|    USA|51.87796|-176.64603|\n",
            "|      ADQ|      Kodiak Airport|       Kodiak|   AK|    USA|57.74997|-152.49386|\n",
            "|      AEX|Alexandria Intern...|   Alexandria|   LA|    USA|31.32737| -92.54856|\n",
            "|      AGS|Augusta Regional ...|      Augusta|   GA|    USA|33.36996| -81.96450|\n",
            "|      AKN| King Salmon Airport|  King Salmon|   AK|    USA|58.67680|-156.64922|\n",
            "|      ALB|Albany Internatio...|       Albany|   NY|    USA|42.74812| -73.80298|\n",
            "|      ALO|Waterloo Regional...|     Waterloo|   IA|    USA|42.55708| -92.40034|\n",
            "|      AMA|Rick Husband Amar...|     Amarillo|   TX|    USA|35.21937|-101.70593|\n",
            "|      ANC|Ted Stevens Ancho...|    Anchorage|   AK|    USA|61.17432|-149.99619|\n",
            "|      APN|Alpena County Reg...|       Alpena|   MI|    USA|45.07807| -83.56029|\n",
            "|      ASE|Aspen-Pitkin Coun...|        Aspen|   CO|    USA|39.22316|-106.86885|\n",
            "+---------+--------------------+-------------+-----+-------+--------+----------+\n",
            "only showing top 20 rows\n",
            "\n"
          ]
        }
      ]
    },
    {
      "cell_type": "code",
      "source": [
        "my_spark.sql('select * from airports_tbl where state =\"PA\"').show()"
      ],
      "metadata": {
        "colab": {
          "base_uri": "https://localhost:8080/"
        },
        "id": "3KYtQdrT34kv",
        "outputId": "d74d4a60-05a4-4a4f-989f-3046567d72d6"
      },
      "execution_count": 53,
      "outputs": [
        {
          "output_type": "stream",
          "name": "stdout",
          "text": [
            "+---------+--------------------+--------------------+-----+-------+--------+---------+\n",
            "|IATA_CODE|             AIRPORT|                CITY|STATE|COUNTRY|LATITUDE|LONGITUDE|\n",
            "+---------+--------------------+--------------------+-----+-------+--------+---------+\n",
            "|      ABE|Lehigh Valley Int...|           Allentown|   PA|    USA|40.65236|-75.44040|\n",
            "|      AVP|Wilkes-Barre/Scra...|Wilkes-Barre/Scra...|   PA|    USA|41.33815|-75.72427|\n",
            "|      ERI|Erie Internationa...|                Erie|   PA|    USA|42.08202|-80.17622|\n",
            "|      LBE|Arnold Palmer Reg...|             Latrobe|   PA|    USA|40.27594|-79.40480|\n",
            "|      MDT|Harrisburg Intern...|          Harrisburg|   PA|    USA|40.19350|-76.76340|\n",
            "|      PHL|Philadelphia Inte...|        Philadelphia|   PA|    USA|39.87195|-75.24114|\n",
            "|      PIT|Pittsburgh Intern...|          Pittsburgh|   PA|    USA|40.49147|-80.23287|\n",
            "|      SCE|University Park A...|       State College|   PA|    USA|40.85121|-77.84630|\n",
            "+---------+--------------------+--------------------+-----+-------+--------+---------+\n",
            "\n"
          ]
        }
      ]
    },
    {
      "cell_type": "code",
      "source": [],
      "metadata": {
        "id": "99HYL5yr4WL1"
      },
      "execution_count": 53,
      "outputs": []
    },
    {
      "cell_type": "code",
      "source": [],
      "metadata": {
        "id": "GPHI4ZYR-tBY"
      },
      "execution_count": 53,
      "outputs": []
    }
  ]
}