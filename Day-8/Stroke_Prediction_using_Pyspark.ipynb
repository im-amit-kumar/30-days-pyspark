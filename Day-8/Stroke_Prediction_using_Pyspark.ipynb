{
  "nbformat": 4,
  "nbformat_minor": 0,
  "metadata": {
    "colab": {
      "provenance": [],
      "collapsed_sections": []
    },
    "kernelspec": {
      "name": "python3",
      "display_name": "Python 3"
    },
    "language_info": {
      "name": "python"
    }
  },
  "cells": [
    {
      "cell_type": "code",
      "execution_count": 1,
      "metadata": {
        "colab": {
          "base_uri": "https://localhost:8080/"
        },
        "id": "3SZQLkRVqA4Y",
        "outputId": "131d76ca-5675-4db4-ab30-3b83dbb849f1"
      },
      "outputs": [
        {
          "output_type": "stream",
          "name": "stdout",
          "text": [
            "Mounted at /content/gdrive\n"
          ]
        }
      ],
      "source": [
        "from google.colab import drive\n",
        "drive.mount(\"/content/gdrive\", force_remount=True)"
      ]
    },
    {
      "cell_type": "code",
      "source": [
        "cd /content/gdrive/MyDrive/pyspark/Stroke_Prediction"
      ],
      "metadata": {
        "colab": {
          "base_uri": "https://localhost:8080/"
        },
        "id": "MklP2D56vbsd",
        "outputId": "8b3291b4-654d-4bc2-ba24-a1062b0eabd8"
      },
      "execution_count": 2,
      "outputs": [
        {
          "output_type": "stream",
          "name": "stdout",
          "text": [
            "/content/gdrive/MyDrive/pyspark/Stroke_Prediction\n"
          ]
        }
      ]
    },
    {
      "cell_type": "code",
      "source": [
        "!pip install pyspark"
      ],
      "metadata": {
        "colab": {
          "base_uri": "https://localhost:8080/"
        },
        "id": "au1-YdQdyUx2",
        "outputId": "ceec9819-74da-4556-c979-c4aea8b26257"
      },
      "execution_count": 3,
      "outputs": [
        {
          "output_type": "stream",
          "name": "stdout",
          "text": [
            "Looking in indexes: https://pypi.org/simple, https://us-python.pkg.dev/colab-wheels/public/simple/\n",
            "Requirement already satisfied: pyspark in /usr/local/lib/python3.7/dist-packages (3.3.0)\n",
            "Requirement already satisfied: py4j==0.10.9.5 in /usr/local/lib/python3.7/dist-packages (from pyspark) (0.10.9.5)\n"
          ]
        }
      ]
    },
    {
      "cell_type": "code",
      "source": [
        "from pyspark.sql import SparkSession\n",
        "import pyspark.sql as sparksql\n",
        "import pyspark.sql.functions as f\n",
        "from pyspark.sql.window import Window\n",
        "import matplotlib.pyplot as plt\n",
        "import seaborn as sns\n",
        "import numpy as np\n",
        "import pandas as pd\n",
        "from pyspark.ml.feature import StringIndexer\n",
        "from pyspark.ml.feature import OneHotEncoder\n",
        "from pyspark.ml.feature import VectorAssembler"
      ],
      "metadata": {
        "id": "vpnGqpmHwkLG"
      },
      "execution_count": 4,
      "outputs": []
    },
    {
      "cell_type": "code",
      "source": [
        "spark = SparkSession.builder.getOrCreate()"
      ],
      "metadata": {
        "id": "Ab-oVUk4y4xO"
      },
      "execution_count": 5,
      "outputs": []
    },
    {
      "cell_type": "code",
      "source": [
        "df = spark.read.csv(\"/content/gdrive/MyDrive/pyspark/Stroke_Prediction/healthcare-dataset-stroke-data.csv\",header=True)"
      ],
      "metadata": {
        "id": "iFiDSjQ7yTTk"
      },
      "execution_count": 6,
      "outputs": []
    },
    {
      "cell_type": "markdown",
      "source": [
        "# Eda"
      ],
      "metadata": {
        "id": "ZThWMF6azgH2"
      }
    },
    {
      "cell_type": "code",
      "source": [
        "df.show()"
      ],
      "metadata": {
        "colab": {
          "base_uri": "https://localhost:8080/"
        },
        "id": "SVGFQE75y2rj",
        "outputId": "3de221ad-85a8-4b03-e401-857cb30faa86"
      },
      "execution_count": 7,
      "outputs": [
        {
          "output_type": "stream",
          "name": "stdout",
          "text": [
            "+-----+------+---+------------+-------------+------------+-------------+--------------+-----------------+----+---------------+------+\n",
            "|   id|gender|age|hypertension|heart_disease|ever_married|    work_type|Residence_type|avg_glucose_level| bmi| smoking_status|stroke|\n",
            "+-----+------+---+------------+-------------+------------+-------------+--------------+-----------------+----+---------------+------+\n",
            "| 9046|  Male| 67|           0|            1|         Yes|      Private|         Urban|           228.69|36.6|formerly smoked|     1|\n",
            "|51676|Female| 61|           0|            0|         Yes|Self-employed|         Rural|           202.21| N/A|   never smoked|     1|\n",
            "|31112|  Male| 80|           0|            1|         Yes|      Private|         Rural|           105.92|32.5|   never smoked|     1|\n",
            "|60182|Female| 49|           0|            0|         Yes|      Private|         Urban|           171.23|34.4|         smokes|     1|\n",
            "| 1665|Female| 79|           1|            0|         Yes|Self-employed|         Rural|           174.12|  24|   never smoked|     1|\n",
            "|56669|  Male| 81|           0|            0|         Yes|      Private|         Urban|           186.21|  29|formerly smoked|     1|\n",
            "|53882|  Male| 74|           1|            1|         Yes|      Private|         Rural|            70.09|27.4|   never smoked|     1|\n",
            "|10434|Female| 69|           0|            0|          No|      Private|         Urban|            94.39|22.8|   never smoked|     1|\n",
            "|27419|Female| 59|           0|            0|         Yes|      Private|         Rural|            76.15| N/A|        Unknown|     1|\n",
            "|60491|Female| 78|           0|            0|         Yes|      Private|         Urban|            58.57|24.2|        Unknown|     1|\n",
            "|12109|Female| 81|           1|            0|         Yes|      Private|         Rural|            80.43|29.7|   never smoked|     1|\n",
            "|12095|Female| 61|           0|            1|         Yes|     Govt_job|         Rural|           120.46|36.8|         smokes|     1|\n",
            "|12175|Female| 54|           0|            0|         Yes|      Private|         Urban|           104.51|27.3|         smokes|     1|\n",
            "| 8213|  Male| 78|           0|            1|         Yes|      Private|         Urban|           219.84| N/A|        Unknown|     1|\n",
            "| 5317|Female| 79|           0|            1|         Yes|      Private|         Urban|           214.09|28.2|   never smoked|     1|\n",
            "|58202|Female| 50|           1|            0|         Yes|Self-employed|         Rural|           167.41|30.9|   never smoked|     1|\n",
            "|56112|  Male| 64|           0|            1|         Yes|      Private|         Urban|           191.61|37.5|         smokes|     1|\n",
            "|34120|  Male| 75|           1|            0|         Yes|      Private|         Urban|           221.29|25.8|         smokes|     1|\n",
            "|27458|Female| 60|           0|            0|          No|      Private|         Urban|            89.22|37.8|   never smoked|     1|\n",
            "|25226|  Male| 57|           0|            1|          No|     Govt_job|         Urban|           217.08| N/A|        Unknown|     1|\n",
            "+-----+------+---+------------+-------------+------------+-------------+--------------+-----------------+----+---------------+------+\n",
            "only showing top 20 rows\n",
            "\n"
          ]
        }
      ]
    },
    {
      "cell_type": "code",
      "source": [
        "cat_col=[\"gender\",\"ever_married\",\"work_type\",\"Residence_type\",\"smoking_status\"]\n",
        "num_col=[\"age\",\"hypertension\",\"heart_disease\",\"avg_glucose_level\",\"bmi\"]"
      ],
      "metadata": {
        "id": "v-pL87x23Z2c"
      },
      "execution_count": 8,
      "outputs": []
    },
    {
      "cell_type": "code",
      "source": [
        "df.printSchema()"
      ],
      "metadata": {
        "colab": {
          "base_uri": "https://localhost:8080/"
        },
        "id": "XLagHTn4zkEz",
        "outputId": "42d0321e-2a1f-4bde-d7bc-48e64f4f3e52"
      },
      "execution_count": 9,
      "outputs": [
        {
          "output_type": "stream",
          "name": "stdout",
          "text": [
            "root\n",
            " |-- id: string (nullable = true)\n",
            " |-- gender: string (nullable = true)\n",
            " |-- age: string (nullable = true)\n",
            " |-- hypertension: string (nullable = true)\n",
            " |-- heart_disease: string (nullable = true)\n",
            " |-- ever_married: string (nullable = true)\n",
            " |-- work_type: string (nullable = true)\n",
            " |-- Residence_type: string (nullable = true)\n",
            " |-- avg_glucose_level: string (nullable = true)\n",
            " |-- bmi: string (nullable = true)\n",
            " |-- smoking_status: string (nullable = true)\n",
            " |-- stroke: string (nullable = true)\n",
            "\n"
          ]
        }
      ]
    },
    {
      "cell_type": "code",
      "source": [
        "df.dtypes"
      ],
      "metadata": {
        "colab": {
          "base_uri": "https://localhost:8080/"
        },
        "id": "Lc02MS1W0wpT",
        "outputId": "725caddb-4252-4e2d-fcc0-2117a2e40e37"
      },
      "execution_count": 10,
      "outputs": [
        {
          "output_type": "execute_result",
          "data": {
            "text/plain": [
              "[('id', 'string'),\n",
              " ('gender', 'string'),\n",
              " ('age', 'string'),\n",
              " ('hypertension', 'string'),\n",
              " ('heart_disease', 'string'),\n",
              " ('ever_married', 'string'),\n",
              " ('work_type', 'string'),\n",
              " ('Residence_type', 'string'),\n",
              " ('avg_glucose_level', 'string'),\n",
              " ('bmi', 'string'),\n",
              " ('smoking_status', 'string'),\n",
              " ('stroke', 'string')]"
            ]
          },
          "metadata": {},
          "execution_count": 10
        }
      ]
    },
    {
      "cell_type": "code",
      "source": [
        "# casting\n",
        "df = df.withColumn(\"age\",df.age.cast(\"int\"))\n",
        "df = df.withColumn(\"hypertension\",df.hypertension.cast(\"int\"))\n",
        "\n",
        "df = df.withColumn(\"heart_disease\",df.age.cast(\"int\"))\n",
        "df = df.withColumn(\"avg_glucose_level\",df.hypertension.cast(\"float\"))\n",
        "\n",
        "df = df.withColumn(\"bmi\",df.age.cast(\"int\"))\n",
        "df = df.withColumn(\"stroke\",df.stroke.cast(\"int\"))"
      ],
      "metadata": {
        "id": "X5GKlrJynkt1"
      },
      "execution_count": 11,
      "outputs": []
    },
    {
      "cell_type": "code",
      "source": [
        "df.toPandas().head(5)"
      ],
      "metadata": {
        "colab": {
          "base_uri": "https://localhost:8080/",
          "height": 250
        },
        "id": "kmtEeUs902Vq",
        "outputId": "17b1de4b-980a-4f20-d312-ee73f4e7166c"
      },
      "execution_count": 12,
      "outputs": [
        {
          "output_type": "execute_result",
          "data": {
            "text/plain": [
              "      id  gender  age  hypertension  heart_disease ever_married  \\\n",
              "0   9046    Male   67             0             67          Yes   \n",
              "1  51676  Female   61             0             61          Yes   \n",
              "2  31112    Male   80             0             80          Yes   \n",
              "3  60182  Female   49             0             49          Yes   \n",
              "4   1665  Female   79             1             79          Yes   \n",
              "\n",
              "       work_type Residence_type  avg_glucose_level  bmi   smoking_status  \\\n",
              "0        Private          Urban                0.0   67  formerly smoked   \n",
              "1  Self-employed          Rural                0.0   61     never smoked   \n",
              "2        Private          Rural                0.0   80     never smoked   \n",
              "3        Private          Urban                0.0   49           smokes   \n",
              "4  Self-employed          Rural                1.0   79     never smoked   \n",
              "\n",
              "   stroke  \n",
              "0       1  \n",
              "1       1  \n",
              "2       1  \n",
              "3       1  \n",
              "4       1  "
            ],
            "text/html": [
              "\n",
              "  <div id=\"df-222823b9-8984-415f-8aa0-502a4b2f8409\">\n",
              "    <div class=\"colab-df-container\">\n",
              "      <div>\n",
              "<style scoped>\n",
              "    .dataframe tbody tr th:only-of-type {\n",
              "        vertical-align: middle;\n",
              "    }\n",
              "\n",
              "    .dataframe tbody tr th {\n",
              "        vertical-align: top;\n",
              "    }\n",
              "\n",
              "    .dataframe thead th {\n",
              "        text-align: right;\n",
              "    }\n",
              "</style>\n",
              "<table border=\"1\" class=\"dataframe\">\n",
              "  <thead>\n",
              "    <tr style=\"text-align: right;\">\n",
              "      <th></th>\n",
              "      <th>id</th>\n",
              "      <th>gender</th>\n",
              "      <th>age</th>\n",
              "      <th>hypertension</th>\n",
              "      <th>heart_disease</th>\n",
              "      <th>ever_married</th>\n",
              "      <th>work_type</th>\n",
              "      <th>Residence_type</th>\n",
              "      <th>avg_glucose_level</th>\n",
              "      <th>bmi</th>\n",
              "      <th>smoking_status</th>\n",
              "      <th>stroke</th>\n",
              "    </tr>\n",
              "  </thead>\n",
              "  <tbody>\n",
              "    <tr>\n",
              "      <th>0</th>\n",
              "      <td>9046</td>\n",
              "      <td>Male</td>\n",
              "      <td>67</td>\n",
              "      <td>0</td>\n",
              "      <td>67</td>\n",
              "      <td>Yes</td>\n",
              "      <td>Private</td>\n",
              "      <td>Urban</td>\n",
              "      <td>0.0</td>\n",
              "      <td>67</td>\n",
              "      <td>formerly smoked</td>\n",
              "      <td>1</td>\n",
              "    </tr>\n",
              "    <tr>\n",
              "      <th>1</th>\n",
              "      <td>51676</td>\n",
              "      <td>Female</td>\n",
              "      <td>61</td>\n",
              "      <td>0</td>\n",
              "      <td>61</td>\n",
              "      <td>Yes</td>\n",
              "      <td>Self-employed</td>\n",
              "      <td>Rural</td>\n",
              "      <td>0.0</td>\n",
              "      <td>61</td>\n",
              "      <td>never smoked</td>\n",
              "      <td>1</td>\n",
              "    </tr>\n",
              "    <tr>\n",
              "      <th>2</th>\n",
              "      <td>31112</td>\n",
              "      <td>Male</td>\n",
              "      <td>80</td>\n",
              "      <td>0</td>\n",
              "      <td>80</td>\n",
              "      <td>Yes</td>\n",
              "      <td>Private</td>\n",
              "      <td>Rural</td>\n",
              "      <td>0.0</td>\n",
              "      <td>80</td>\n",
              "      <td>never smoked</td>\n",
              "      <td>1</td>\n",
              "    </tr>\n",
              "    <tr>\n",
              "      <th>3</th>\n",
              "      <td>60182</td>\n",
              "      <td>Female</td>\n",
              "      <td>49</td>\n",
              "      <td>0</td>\n",
              "      <td>49</td>\n",
              "      <td>Yes</td>\n",
              "      <td>Private</td>\n",
              "      <td>Urban</td>\n",
              "      <td>0.0</td>\n",
              "      <td>49</td>\n",
              "      <td>smokes</td>\n",
              "      <td>1</td>\n",
              "    </tr>\n",
              "    <tr>\n",
              "      <th>4</th>\n",
              "      <td>1665</td>\n",
              "      <td>Female</td>\n",
              "      <td>79</td>\n",
              "      <td>1</td>\n",
              "      <td>79</td>\n",
              "      <td>Yes</td>\n",
              "      <td>Self-employed</td>\n",
              "      <td>Rural</td>\n",
              "      <td>1.0</td>\n",
              "      <td>79</td>\n",
              "      <td>never smoked</td>\n",
              "      <td>1</td>\n",
              "    </tr>\n",
              "  </tbody>\n",
              "</table>\n",
              "</div>\n",
              "      <button class=\"colab-df-convert\" onclick=\"convertToInteractive('df-222823b9-8984-415f-8aa0-502a4b2f8409')\"\n",
              "              title=\"Convert this dataframe to an interactive table.\"\n",
              "              style=\"display:none;\">\n",
              "        \n",
              "  <svg xmlns=\"http://www.w3.org/2000/svg\" height=\"24px\"viewBox=\"0 0 24 24\"\n",
              "       width=\"24px\">\n",
              "    <path d=\"M0 0h24v24H0V0z\" fill=\"none\"/>\n",
              "    <path d=\"M18.56 5.44l.94 2.06.94-2.06 2.06-.94-2.06-.94-.94-2.06-.94 2.06-2.06.94zm-11 1L8.5 8.5l.94-2.06 2.06-.94-2.06-.94L8.5 2.5l-.94 2.06-2.06.94zm10 10l.94 2.06.94-2.06 2.06-.94-2.06-.94-.94-2.06-.94 2.06-2.06.94z\"/><path d=\"M17.41 7.96l-1.37-1.37c-.4-.4-.92-.59-1.43-.59-.52 0-1.04.2-1.43.59L10.3 9.45l-7.72 7.72c-.78.78-.78 2.05 0 2.83L4 21.41c.39.39.9.59 1.41.59.51 0 1.02-.2 1.41-.59l7.78-7.78 2.81-2.81c.8-.78.8-2.07 0-2.86zM5.41 20L4 18.59l7.72-7.72 1.47 1.35L5.41 20z\"/>\n",
              "  </svg>\n",
              "      </button>\n",
              "      \n",
              "  <style>\n",
              "    .colab-df-container {\n",
              "      display:flex;\n",
              "      flex-wrap:wrap;\n",
              "      gap: 12px;\n",
              "    }\n",
              "\n",
              "    .colab-df-convert {\n",
              "      background-color: #E8F0FE;\n",
              "      border: none;\n",
              "      border-radius: 50%;\n",
              "      cursor: pointer;\n",
              "      display: none;\n",
              "      fill: #1967D2;\n",
              "      height: 32px;\n",
              "      padding: 0 0 0 0;\n",
              "      width: 32px;\n",
              "    }\n",
              "\n",
              "    .colab-df-convert:hover {\n",
              "      background-color: #E2EBFA;\n",
              "      box-shadow: 0px 1px 2px rgba(60, 64, 67, 0.3), 0px 1px 3px 1px rgba(60, 64, 67, 0.15);\n",
              "      fill: #174EA6;\n",
              "    }\n",
              "\n",
              "    [theme=dark] .colab-df-convert {\n",
              "      background-color: #3B4455;\n",
              "      fill: #D2E3FC;\n",
              "    }\n",
              "\n",
              "    [theme=dark] .colab-df-convert:hover {\n",
              "      background-color: #434B5C;\n",
              "      box-shadow: 0px 1px 3px 1px rgba(0, 0, 0, 0.15);\n",
              "      filter: drop-shadow(0px 1px 2px rgba(0, 0, 0, 0.3));\n",
              "      fill: #FFFFFF;\n",
              "    }\n",
              "  </style>\n",
              "\n",
              "      <script>\n",
              "        const buttonEl =\n",
              "          document.querySelector('#df-222823b9-8984-415f-8aa0-502a4b2f8409 button.colab-df-convert');\n",
              "        buttonEl.style.display =\n",
              "          google.colab.kernel.accessAllowed ? 'block' : 'none';\n",
              "\n",
              "        async function convertToInteractive(key) {\n",
              "          const element = document.querySelector('#df-222823b9-8984-415f-8aa0-502a4b2f8409');\n",
              "          const dataTable =\n",
              "            await google.colab.kernel.invokeFunction('convertToInteractive',\n",
              "                                                     [key], {});\n",
              "          if (!dataTable) return;\n",
              "\n",
              "          const docLinkHtml = 'Like what you see? Visit the ' +\n",
              "            '<a target=\"_blank\" href=https://colab.research.google.com/notebooks/data_table.ipynb>data table notebook</a>'\n",
              "            + ' to learn more about interactive tables.';\n",
              "          element.innerHTML = '';\n",
              "          dataTable['output_type'] = 'display_data';\n",
              "          await google.colab.output.renderOutput(dataTable, element);\n",
              "          const docLink = document.createElement('div');\n",
              "          docLink.innerHTML = docLinkHtml;\n",
              "          element.appendChild(docLink);\n",
              "        }\n",
              "      </script>\n",
              "    </div>\n",
              "  </div>\n",
              "  "
            ]
          },
          "metadata": {},
          "execution_count": 12
        }
      ]
    },
    {
      "cell_type": "code",
      "source": [
        "df.describe().show()"
      ],
      "metadata": {
        "colab": {
          "base_uri": "https://localhost:8080/"
        },
        "id": "iXCuj8kw046S",
        "outputId": "89fabfd8-d6c0-4469-ff59-06e95cf811d1"
      },
      "execution_count": 13,
      "outputs": [
        {
          "output_type": "stream",
          "name": "stdout",
          "text": [
            "+-------+-----------------+------+------------------+------------------+------------------+------------+---------+--------------+------------------+------------------+--------------+-------------------+\n",
            "|summary|               id|gender|               age|      hypertension|     heart_disease|ever_married|work_type|Residence_type| avg_glucose_level|               bmi|smoking_status|             stroke|\n",
            "+-------+-----------------+------+------------------+------------------+------------------+------------+---------+--------------+------------------+------------------+--------------+-------------------+\n",
            "|  count|             5110|  5110|              5110|              5110|              5110|        5110|     5110|          5110|              5110|              5110|          5110|               5110|\n",
            "|   mean|36517.82935420744|  null| 43.21526418786693|0.0974559686888454| 43.21526418786693|        null|     null|          null|0.0974559686888454| 43.21526418786693|          null| 0.0487279843444227|\n",
            "| stddev|21161.72162482715|  null|22.633865752854746| 0.296606674233791|22.633865752854746|        null|     null|          null| 0.296606674233791|22.633865752854746|          null|0.21531985698023753|\n",
            "|    min|            10018|Female|                 0|                 0|                 0|          No| Govt_job|         Rural|               0.0|                 0|       Unknown|                  0|\n",
            "|    max|             9995| Other|                82|                 1|                82|         Yes| children|         Urban|               1.0|                82|        smokes|                  1|\n",
            "+-------+-----------------+------+------------------+------------------+------------------+------------+---------+--------------+------------------+------------------+--------------+-------------------+\n",
            "\n"
          ]
        }
      ]
    },
    {
      "cell_type": "code",
      "source": [
        "df.select('gender').distinct().collect()"
      ],
      "metadata": {
        "colab": {
          "base_uri": "https://localhost:8080/"
        },
        "id": "R00zP_ceEZod",
        "outputId": "9961e02b-8f80-4aff-dc62-949bf501b728"
      },
      "execution_count": 14,
      "outputs": [
        {
          "output_type": "execute_result",
          "data": {
            "text/plain": [
              "[Row(gender='Female'), Row(gender='Other'), Row(gender='Male')]"
            ]
          },
          "metadata": {},
          "execution_count": 14
        }
      ]
    },
    {
      "cell_type": "markdown",
      "source": [
        "# Target Distribution"
      ],
      "metadata": {
        "id": "iTGMAgKh1f8w"
      }
    },
    {
      "cell_type": "code",
      "source": [
        "df.groupby('stroke').count().show()"
      ],
      "metadata": {
        "colab": {
          "base_uri": "https://localhost:8080/"
        },
        "id": "nlu3XAUI1CrC",
        "outputId": "61a3d2c0-8979-49db-fd00-6cb90b34d1fd"
      },
      "execution_count": 15,
      "outputs": [
        {
          "output_type": "stream",
          "name": "stdout",
          "text": [
            "+------+-----+\n",
            "|stroke|count|\n",
            "+------+-----+\n",
            "|     1|  249|\n",
            "|     0| 4861|\n",
            "+------+-----+\n",
            "\n"
          ]
        }
      ]
    },
    {
      "cell_type": "code",
      "source": [
        "df.groupby('stroke').agg(\n",
        "    (f.count('stroke')).alias('count'),\n",
        "    (f.count('stroke') / df.count()).alias('percentage')*100\n",
        ").show()"
      ],
      "metadata": {
        "colab": {
          "base_uri": "https://localhost:8080/"
        },
        "id": "06AqWKfX3XCt",
        "outputId": "9306b4c8-6d0f-4bb0-d644-0e55d15a80b8"
      },
      "execution_count": 16,
      "outputs": [
        {
          "output_type": "stream",
          "name": "stdout",
          "text": [
            "+------+-----+--------------------------------------------+\n",
            "|stroke|count|((count(stroke) / 5110) AS percentage * 100)|\n",
            "+------+-----+--------------------------------------------+\n",
            "|     1|  249|                            4.87279843444227|\n",
            "|     0| 4861|                           95.12720156555773|\n",
            "+------+-----+--------------------------------------------+\n",
            "\n"
          ]
        }
      ]
    },
    {
      "cell_type": "markdown",
      "source": [
        "From this we can see that it is a clearly imbalanced dataset, where the 95 % of target data belong to 1 class. So In this case mostly our Prediction model will be biased and inaccurate. \n",
        "\n",
        "There are different stratergies to handling it. We will look it later."
      ],
      "metadata": {
        "id": "5zSuv9NM18Nk"
      }
    },
    {
      "cell_type": "code",
      "source": [
        "df.describe().show()"
      ],
      "metadata": {
        "colab": {
          "base_uri": "https://localhost:8080/"
        },
        "id": "20hmOzUW1JvS",
        "outputId": "d89f051c-8ba7-43ff-cba2-11eab78c433d"
      },
      "execution_count": 17,
      "outputs": [
        {
          "output_type": "stream",
          "name": "stdout",
          "text": [
            "+-------+-----------------+------+------------------+------------------+------------------+------------+---------+--------------+------------------+------------------+--------------+-------------------+\n",
            "|summary|               id|gender|               age|      hypertension|     heart_disease|ever_married|work_type|Residence_type| avg_glucose_level|               bmi|smoking_status|             stroke|\n",
            "+-------+-----------------+------+------------------+------------------+------------------+------------+---------+--------------+------------------+------------------+--------------+-------------------+\n",
            "|  count|             5110|  5110|              5110|              5110|              5110|        5110|     5110|          5110|              5110|              5110|          5110|               5110|\n",
            "|   mean|36517.82935420744|  null| 43.21526418786693|0.0974559686888454| 43.21526418786693|        null|     null|          null|0.0974559686888454| 43.21526418786693|          null| 0.0487279843444227|\n",
            "| stddev|21161.72162482715|  null|22.633865752854746| 0.296606674233791|22.633865752854746|        null|     null|          null| 0.296606674233791|22.633865752854746|          null|0.21531985698023753|\n",
            "|    min|            10018|Female|                 0|                 0|                 0|          No| Govt_job|         Rural|               0.0|                 0|       Unknown|                  0|\n",
            "|    max|             9995| Other|                82|                 1|                82|         Yes| children|         Urban|               1.0|                82|        smokes|                  1|\n",
            "+-------+-----------------+------+------------------+------------------+------------------+------------+---------+--------------+------------------+------------------+--------------+-------------------+\n",
            "\n"
          ]
        }
      ]
    },
    {
      "cell_type": "code",
      "source": [
        "# creating a temp view for eecuting sql queries"
      ],
      "metadata": {
        "id": "_53Oo-gz5_Tl"
      },
      "execution_count": 18,
      "outputs": []
    },
    {
      "cell_type": "code",
      "source": [
        "df.createOrReplaceTempView(\"data\")"
      ],
      "metadata": {
        "id": "NdUtOsxy6M5b"
      },
      "execution_count": 19,
      "outputs": []
    },
    {
      "cell_type": "markdown",
      "source": [
        "# checking influence of work type in Stroke"
      ],
      "metadata": {
        "id": "M9gtQF4p6iiU"
      }
    },
    {
      "cell_type": "code",
      "source": [],
      "metadata": {
        "id": "fYubAgGm6jSM"
      },
      "execution_count": 19,
      "outputs": []
    },
    {
      "cell_type": "code",
      "source": [
        "# query to find the number of in work type who have stroke\n",
        "spark.sql('''SELECT work_type, COUNT(work_type) as work_type_count,\n",
        "COUNT(work_type) *100 / (\n",
        "SELECT count(work_type) from data WHERE stroke == 1\n",
        ")\n",
        "\n",
        " FROM data WHERE stroke == 1 GROUP BY work_type ORDER BY COUNT(work_type) DESC''').show()\n",
        "\n"
      ],
      "metadata": {
        "colab": {
          "base_uri": "https://localhost:8080/"
        },
        "id": "flaH-VotHYjN",
        "outputId": "9ee2e510-2c51-4fcf-d34a-f5d60794d5ed"
      },
      "execution_count": 20,
      "outputs": [
        {
          "output_type": "stream",
          "name": "stdout",
          "text": [
            "+-------------+---------------+---------------------------------------------+\n",
            "|    work_type|work_type_count|((count(work_type) * 100) / scalarsubquery())|\n",
            "+-------------+---------------+---------------------------------------------+\n",
            "|      Private|            149|                            59.83935742971887|\n",
            "|Self-employed|             65|                           26.104417670682732|\n",
            "|     Govt_job|             33|                            13.25301204819277|\n",
            "|     children|              2|                           0.8032128514056225|\n",
            "+-------------+---------------+---------------------------------------------+\n",
            "\n"
          ]
        }
      ]
    },
    {
      "cell_type": "markdown",
      "source": [],
      "metadata": {
        "id": "vzOng2AS9ejm"
      }
    },
    {
      "cell_type": "code",
      "source": [
        "# query to find the number of in work type who have not stroke\n",
        "spark.sql('''SELECT work_type, COUNT(work_type) as work_type_count,\n",
        "COUNT(work_type) *100 / (\n",
        "SELECT count(work_type) from data WHERE stroke == 0\n",
        ")\n",
        "\n",
        " FROM data WHERE stroke == 0 GROUP BY work_type ORDER BY COUNT(work_type) DESC''').show()\n",
        "\n"
      ],
      "metadata": {
        "colab": {
          "base_uri": "https://localhost:8080/"
        },
        "id": "hTcCi4Lv6jO6",
        "outputId": "a90f35ba-fe33-4479-f1c2-7c2f52520e2e"
      },
      "execution_count": 21,
      "outputs": [
        {
          "output_type": "stream",
          "name": "stdout",
          "text": [
            "+-------------+---------------+---------------------------------------------+\n",
            "|    work_type|work_type_count|((count(work_type) * 100) / scalarsubquery())|\n",
            "+-------------+---------------+---------------------------------------------+\n",
            "|      Private|           2776|                            57.10759103065213|\n",
            "|Self-employed|            754|                            15.51121168483851|\n",
            "|     children|            685|                            14.09175066858671|\n",
            "|     Govt_job|            624|                           12.836864842624975|\n",
            "| Never_worked|             22|                          0.45258177329767535|\n",
            "+-------------+---------------+---------------------------------------------+\n",
            "\n"
          ]
        }
      ]
    },
    {
      "cell_type": "code",
      "source": [
        "spark.sql('''SELECT work_type, COUNT(work_type) as work_type_count,\n",
        "\n",
        "COUNT(work_type) *100 / (\n",
        "SELECT count(work_type) from data \n",
        ")\n",
        "\n",
        " FROM data \n",
        "WHERE stroke == 0 GROUP BY work_type \n",
        "ORDER BY COUNT(work_type) DESC''').show()"
      ],
      "metadata": {
        "colab": {
          "base_uri": "https://localhost:8080/"
        },
        "id": "9u_bGw7bF04k",
        "outputId": "2d7dedc6-d7e6-4f3d-eae7-74696cae0088"
      },
      "execution_count": 22,
      "outputs": [
        {
          "output_type": "stream",
          "name": "stdout",
          "text": [
            "+-------------+---------------+---------------------------------------------+\n",
            "|    work_type|work_type_count|((count(work_type) * 100) / scalarsubquery())|\n",
            "+-------------+---------------+---------------------------------------------+\n",
            "|      Private|           2776|                           54.324853228962816|\n",
            "|Self-employed|            754|                           14.755381604696673|\n",
            "|     children|            685|                           13.405088062622308|\n",
            "|     Govt_job|            624|                           12.211350293542074|\n",
            "| Never_worked|             22|                          0.43052837573385516|\n",
            "+-------------+---------------+---------------------------------------------+\n",
            "\n"
          ]
        }
      ]
    },
    {
      "cell_type": "markdown",
      "source": [
        "from this we can say that Most People who get stroke are having work type Private anD self-Employed"
      ],
      "metadata": {
        "id": "efqoSnjsBJNU"
      }
    },
    {
      "cell_type": "markdown",
      "source": [
        "# Gender with Target"
      ],
      "metadata": {
        "id": "2mvAmav2Bs0O"
      }
    },
    {
      "cell_type": "code",
      "source": [
        "df_gen=spark.sql('''select gender , count(gender) as gender_count, \n",
        "count(gender)  / (select count(gender) \n",
        "from data where stroke==1)*100 as percentage from data\n",
        "where stroke==1  group by gender''').toPandas()"
      ],
      "metadata": {
        "id": "I3oIpB_1KHmT"
      },
      "execution_count": 23,
      "outputs": []
    },
    {
      "cell_type": "code",
      "source": [
        "df_gen"
      ],
      "metadata": {
        "colab": {
          "base_uri": "https://localhost:8080/",
          "height": 112
        },
        "id": "lbzKBLHVKQQi",
        "outputId": "c5b06f73-6823-4de7-f686-47fcfec8896c"
      },
      "execution_count": 24,
      "outputs": [
        {
          "output_type": "execute_result",
          "data": {
            "text/plain": [
              "   gender  gender_count  percentage\n",
              "0  Female           141   56.626506\n",
              "1    Male           108   43.373494"
            ],
            "text/html": [
              "\n",
              "  <div id=\"df-9f518376-202f-49c9-bbc2-aaaa07e6d086\">\n",
              "    <div class=\"colab-df-container\">\n",
              "      <div>\n",
              "<style scoped>\n",
              "    .dataframe tbody tr th:only-of-type {\n",
              "        vertical-align: middle;\n",
              "    }\n",
              "\n",
              "    .dataframe tbody tr th {\n",
              "        vertical-align: top;\n",
              "    }\n",
              "\n",
              "    .dataframe thead th {\n",
              "        text-align: right;\n",
              "    }\n",
              "</style>\n",
              "<table border=\"1\" class=\"dataframe\">\n",
              "  <thead>\n",
              "    <tr style=\"text-align: right;\">\n",
              "      <th></th>\n",
              "      <th>gender</th>\n",
              "      <th>gender_count</th>\n",
              "      <th>percentage</th>\n",
              "    </tr>\n",
              "  </thead>\n",
              "  <tbody>\n",
              "    <tr>\n",
              "      <th>0</th>\n",
              "      <td>Female</td>\n",
              "      <td>141</td>\n",
              "      <td>56.626506</td>\n",
              "    </tr>\n",
              "    <tr>\n",
              "      <th>1</th>\n",
              "      <td>Male</td>\n",
              "      <td>108</td>\n",
              "      <td>43.373494</td>\n",
              "    </tr>\n",
              "  </tbody>\n",
              "</table>\n",
              "</div>\n",
              "      <button class=\"colab-df-convert\" onclick=\"convertToInteractive('df-9f518376-202f-49c9-bbc2-aaaa07e6d086')\"\n",
              "              title=\"Convert this dataframe to an interactive table.\"\n",
              "              style=\"display:none;\">\n",
              "        \n",
              "  <svg xmlns=\"http://www.w3.org/2000/svg\" height=\"24px\"viewBox=\"0 0 24 24\"\n",
              "       width=\"24px\">\n",
              "    <path d=\"M0 0h24v24H0V0z\" fill=\"none\"/>\n",
              "    <path d=\"M18.56 5.44l.94 2.06.94-2.06 2.06-.94-2.06-.94-.94-2.06-.94 2.06-2.06.94zm-11 1L8.5 8.5l.94-2.06 2.06-.94-2.06-.94L8.5 2.5l-.94 2.06-2.06.94zm10 10l.94 2.06.94-2.06 2.06-.94-2.06-.94-.94-2.06-.94 2.06-2.06.94z\"/><path d=\"M17.41 7.96l-1.37-1.37c-.4-.4-.92-.59-1.43-.59-.52 0-1.04.2-1.43.59L10.3 9.45l-7.72 7.72c-.78.78-.78 2.05 0 2.83L4 21.41c.39.39.9.59 1.41.59.51 0 1.02-.2 1.41-.59l7.78-7.78 2.81-2.81c.8-.78.8-2.07 0-2.86zM5.41 20L4 18.59l7.72-7.72 1.47 1.35L5.41 20z\"/>\n",
              "  </svg>\n",
              "      </button>\n",
              "      \n",
              "  <style>\n",
              "    .colab-df-container {\n",
              "      display:flex;\n",
              "      flex-wrap:wrap;\n",
              "      gap: 12px;\n",
              "    }\n",
              "\n",
              "    .colab-df-convert {\n",
              "      background-color: #E8F0FE;\n",
              "      border: none;\n",
              "      border-radius: 50%;\n",
              "      cursor: pointer;\n",
              "      display: none;\n",
              "      fill: #1967D2;\n",
              "      height: 32px;\n",
              "      padding: 0 0 0 0;\n",
              "      width: 32px;\n",
              "    }\n",
              "\n",
              "    .colab-df-convert:hover {\n",
              "      background-color: #E2EBFA;\n",
              "      box-shadow: 0px 1px 2px rgba(60, 64, 67, 0.3), 0px 1px 3px 1px rgba(60, 64, 67, 0.15);\n",
              "      fill: #174EA6;\n",
              "    }\n",
              "\n",
              "    [theme=dark] .colab-df-convert {\n",
              "      background-color: #3B4455;\n",
              "      fill: #D2E3FC;\n",
              "    }\n",
              "\n",
              "    [theme=dark] .colab-df-convert:hover {\n",
              "      background-color: #434B5C;\n",
              "      box-shadow: 0px 1px 3px 1px rgba(0, 0, 0, 0.15);\n",
              "      filter: drop-shadow(0px 1px 2px rgba(0, 0, 0, 0.3));\n",
              "      fill: #FFFFFF;\n",
              "    }\n",
              "  </style>\n",
              "\n",
              "      <script>\n",
              "        const buttonEl =\n",
              "          document.querySelector('#df-9f518376-202f-49c9-bbc2-aaaa07e6d086 button.colab-df-convert');\n",
              "        buttonEl.style.display =\n",
              "          google.colab.kernel.accessAllowed ? 'block' : 'none';\n",
              "\n",
              "        async function convertToInteractive(key) {\n",
              "          const element = document.querySelector('#df-9f518376-202f-49c9-bbc2-aaaa07e6d086');\n",
              "          const dataTable =\n",
              "            await google.colab.kernel.invokeFunction('convertToInteractive',\n",
              "                                                     [key], {});\n",
              "          if (!dataTable) return;\n",
              "\n",
              "          const docLinkHtml = 'Like what you see? Visit the ' +\n",
              "            '<a target=\"_blank\" href=https://colab.research.google.com/notebooks/data_table.ipynb>data table notebook</a>'\n",
              "            + ' to learn more about interactive tables.';\n",
              "          element.innerHTML = '';\n",
              "          dataTable['output_type'] = 'display_data';\n",
              "          await google.colab.output.renderOutput(dataTable, element);\n",
              "          const docLink = document.createElement('div');\n",
              "          docLink.innerHTML = docLinkHtml;\n",
              "          element.appendChild(docLink);\n",
              "        }\n",
              "      </script>\n",
              "    </div>\n",
              "  </div>\n",
              "  "
            ]
          },
          "metadata": {},
          "execution_count": 24
        }
      ]
    },
    {
      "cell_type": "code",
      "source": [
        "sns.barplot(data=df_gen, x=\"gender\", y=\"percentage\" )"
      ],
      "metadata": {
        "colab": {
          "base_uri": "https://localhost:8080/",
          "height": 296
        },
        "id": "jCnel_wIK8fJ",
        "outputId": "c102d4e6-5b1c-4a2e-d34a-704f0dc22fa1"
      },
      "execution_count": 25,
      "outputs": [
        {
          "output_type": "execute_result",
          "data": {
            "text/plain": [
              "<matplotlib.axes._subplots.AxesSubplot at 0x7ff404a44ed0>"
            ]
          },
          "metadata": {},
          "execution_count": 25
        },
        {
          "output_type": "display_data",
          "data": {
            "text/plain": [
              "<Figure size 432x288 with 1 Axes>"
            ],
            "image/png": "[encoded data removed]"
          },
          "metadata": {
            "needs_background": "light"
          }
        }
      ]
    },
    {
      "cell_type": "code",
      "source": [
        "df.show(1)"
      ],
      "metadata": {
        "colab": {
          "base_uri": "https://localhost:8080/"
        },
        "id": "ozVugNIEM8zG",
        "outputId": "e18fa58f-bc05-474e-e630-2b8ac62aec1d"
      },
      "execution_count": 26,
      "outputs": [
        {
          "output_type": "stream",
          "name": "stdout",
          "text": [
            "+----+------+---+------------+-------------+------------+---------+--------------+-----------------+---+---------------+------+\n",
            "|  id|gender|age|hypertension|heart_disease|ever_married|work_type|Residence_type|avg_glucose_level|bmi| smoking_status|stroke|\n",
            "+----+------+---+------------+-------------+------------+---------+--------------+-----------------+---+---------------+------+\n",
            "|9046|  Male| 67|           0|           67|         Yes|  Private|         Urban|              0.0| 67|formerly smoked|     1|\n",
            "+----+------+---+------------+-------------+------------+---------+--------------+-----------------+---+---------------+------+\n",
            "only showing top 1 row\n",
            "\n"
          ]
        }
      ]
    },
    {
      "cell_type": "markdown",
      "source": [
        "# Checking the influence of Stroke after age 50"
      ],
      "metadata": {
        "id": "XQuM0emdLwJF"
      }
    },
    {
      "cell_type": "code",
      "source": [
        "spark.sql('''select count(age) *100 / (select count(age) from data where stroke==1)as percentage\n",
        "from data where stroke== 1 and age >=50 ''').show()"
      ],
      "metadata": {
        "colab": {
          "base_uri": "https://localhost:8080/"
        },
        "id": "8Q7jNe6rLNiQ",
        "outputId": "5a5b8b05-58ca-4cb9-f2d7-135d885c79f9"
      },
      "execution_count": 27,
      "outputs": [
        {
          "output_type": "stream",
          "name": "stdout",
          "text": [
            "+-----------------+\n",
            "|       percentage|\n",
            "+-----------------+\n",
            "|91.96787148594377|\n",
            "+-----------------+\n",
            "\n"
          ]
        }
      ]
    },
    {
      "cell_type": "code",
      "source": [],
      "metadata": {
        "id": "kN59JGOwTdCH"
      },
      "execution_count": 27,
      "outputs": []
    },
    {
      "cell_type": "markdown",
      "source": [
        "from here we can see that after age 50 91% people are having a chance of getting stroke"
      ],
      "metadata": {
        "id": "8EqgFw2MQ_jk"
      }
    },
    {
      "cell_type": "markdown",
      "source": [],
      "metadata": {
        "id": "yLLELT6kTe3k"
      }
    },
    {
      "cell_type": "code",
      "source": [
        "df.describe().show()"
      ],
      "metadata": {
        "colab": {
          "base_uri": "https://localhost:8080/"
        },
        "id": "6-glPv-xTfW-",
        "outputId": "762008d9-e56d-4cc0-83fa-49f399a48d32"
      },
      "execution_count": 28,
      "outputs": [
        {
          "output_type": "stream",
          "name": "stdout",
          "text": [
            "+-------+-----------------+------+------------------+------------------+------------------+------------+---------+--------------+------------------+------------------+--------------+-------------------+\n",
            "|summary|               id|gender|               age|      hypertension|     heart_disease|ever_married|work_type|Residence_type| avg_glucose_level|               bmi|smoking_status|             stroke|\n",
            "+-------+-----------------+------+------------------+------------------+------------------+------------+---------+--------------+------------------+------------------+--------------+-------------------+\n",
            "|  count|             5110|  5110|              5110|              5110|              5110|        5110|     5110|          5110|              5110|              5110|          5110|               5110|\n",
            "|   mean|36517.82935420744|  null| 43.21526418786693|0.0974559686888454| 43.21526418786693|        null|     null|          null|0.0974559686888454| 43.21526418786693|          null| 0.0487279843444227|\n",
            "| stddev|21161.72162482715|  null|22.633865752854746| 0.296606674233791|22.633865752854746|        null|     null|          null| 0.296606674233791|22.633865752854746|          null|0.21531985698023753|\n",
            "|    min|            10018|Female|                 0|                 0|                 0|          No| Govt_job|         Rural|               0.0|                 0|       Unknown|                  0|\n",
            "|    max|             9995| Other|                82|                 1|                82|         Yes| children|         Urban|               1.0|                82|        smokes|                  1|\n",
            "+-------+-----------------+------+------------------+------------------+------------------+------------+---------+--------------+------------------+------------------+--------------+-------------------+\n",
            "\n"
          ]
        }
      ]
    },
    {
      "cell_type": "code",
      "source": [
        "\n",
        "# Find count for empty, None, Null, Nan with string literals.\n",
        "from pyspark.sql.functions import col,isnan,when,count\n",
        "df2 = df.select([count(when(col(c).contains('None') | \\\n",
        "                            col(c).contains('NULL') | \\\n",
        "                            col(c).contains('N/A') | \\\n",
        "                            \n",
        "                            col(c).contains('Unknown') | \\\n",
        "\n",
        "                            (col(c) == '' ) | \\\n",
        "                            col(c).isNull() | \\\n",
        "                            isnan(c), c \n",
        "                           )).alias(c)\n",
        "                    for c in df.columns])\n",
        "df2.show()"
      ],
      "metadata": {
        "colab": {
          "base_uri": "https://localhost:8080/"
        },
        "id": "hO-Xy9YtNo_d",
        "outputId": "90ba7462-1023-4280-e91c-1e8272835463"
      },
      "execution_count": 29,
      "outputs": [
        {
          "output_type": "stream",
          "name": "stdout",
          "text": [
            "+---+------+---+------------+-------------+------------+---------+--------------+-----------------+---+--------------+------+\n",
            "| id|gender|age|hypertension|heart_disease|ever_married|work_type|Residence_type|avg_glucose_level|bmi|smoking_status|stroke|\n",
            "+---+------+---+------------+-------------+------------+---------+--------------+-----------------+---+--------------+------+\n",
            "|  0|     0|  0|           0|            0|           0|        0|             0|                0|  0|          1544|     0|\n",
            "+---+------+---+------------+-------------+------------+---------+--------------+-----------------+---+--------------+------+\n",
            "\n"
          ]
        }
      ]
    },
    {
      "cell_type": "markdown",
      "source": [
        "# filling Missing Values"
      ],
      "metadata": {
        "id": "0uw6-ew2VdRt"
      }
    },
    {
      "cell_type": "code",
      "source": [
        "df.count()"
      ],
      "metadata": {
        "colab": {
          "base_uri": "https://localhost:8080/"
        },
        "id": "5lIggJkYOKVT",
        "outputId": "81556b3a-7bb9-4d48-c418-010c19133853"
      },
      "execution_count": 30,
      "outputs": [
        {
          "output_type": "execute_result",
          "data": {
            "text/plain": [
              "5110"
            ]
          },
          "metadata": {},
          "execution_count": 30
        }
      ]
    },
    {
      "cell_type": "code",
      "source": [
        "df=df.replace(['Unknown','N/A'],None)\n"
      ],
      "metadata": {
        "id": "cTSsDjr7XKcs"
      },
      "execution_count": 31,
      "outputs": []
    },
    {
      "cell_type": "markdown",
      "source": [
        "df.show("
      ],
      "metadata": {
        "id": "wdvueVuDY4dV"
      }
    },
    {
      "cell_type": "code",
      "source": [],
      "metadata": {
        "id": "-65mtrc-Y6vs"
      },
      "execution_count": 31,
      "outputs": []
    },
    {
      "cell_type": "code",
      "source": [
        "# for cat column weare fillinf them bu mode"
      ],
      "metadata": {
        "id": "IW-1xBT2VrBL"
      },
      "execution_count": 32,
      "outputs": []
    },
    {
      "cell_type": "code",
      "source": [
        "sm_mode=df.groupby(\"smoking_status\").count().orderBy(\"count\", ascending=False).first()[0]"
      ],
      "metadata": {
        "id": "aI59sRVXMSLb"
      },
      "execution_count": 33,
      "outputs": []
    },
    {
      "cell_type": "code",
      "source": [
        "df.show(5)"
      ],
      "metadata": {
        "colab": {
          "base_uri": "https://localhost:8080/"
        },
        "id": "nvSiKbkZfHv4",
        "outputId": "bea4701f-8f9b-4869-dd83-d9fe7f775eda"
      },
      "execution_count": 34,
      "outputs": [
        {
          "output_type": "stream",
          "name": "stdout",
          "text": [
            "+-----+------+---+------------+-------------+------------+-------------+--------------+-----------------+---+---------------+------+\n",
            "|   id|gender|age|hypertension|heart_disease|ever_married|    work_type|Residence_type|avg_glucose_level|bmi| smoking_status|stroke|\n",
            "+-----+------+---+------------+-------------+------------+-------------+--------------+-----------------+---+---------------+------+\n",
            "| 9046|  Male| 67|           0|           67|         Yes|      Private|         Urban|              0.0| 67|formerly smoked|     1|\n",
            "|51676|Female| 61|           0|           61|         Yes|Self-employed|         Rural|              0.0| 61|   never smoked|     1|\n",
            "|31112|  Male| 80|           0|           80|         Yes|      Private|         Rural|              0.0| 80|   never smoked|     1|\n",
            "|60182|Female| 49|           0|           49|         Yes|      Private|         Urban|              0.0| 49|         smokes|     1|\n",
            "| 1665|Female| 79|           1|           79|         Yes|Self-employed|         Rural|              1.0| 79|   never smoked|     1|\n",
            "+-----+------+---+------------+-------------+------------+-------------+--------------+-----------------+---+---------------+------+\n",
            "only showing top 5 rows\n",
            "\n"
          ]
        }
      ]
    },
    {
      "cell_type": "code",
      "source": [
        "\n"
      ],
      "metadata": {
        "id": "xdnZMXkjffhT"
      },
      "execution_count": 34,
      "outputs": []
    },
    {
      "cell_type": "code",
      "source": [
        "df.printSchema()"
      ],
      "metadata": {
        "colab": {
          "base_uri": "https://localhost:8080/"
        },
        "id": "IohALI4lfCxA",
        "outputId": "a3193afd-a23d-44f2-fc54-94e35b0dc120"
      },
      "execution_count": 35,
      "outputs": [
        {
          "output_type": "stream",
          "name": "stdout",
          "text": [
            "root\n",
            " |-- id: string (nullable = true)\n",
            " |-- gender: string (nullable = true)\n",
            " |-- age: integer (nullable = true)\n",
            " |-- hypertension: integer (nullable = true)\n",
            " |-- heart_disease: integer (nullable = true)\n",
            " |-- ever_married: string (nullable = true)\n",
            " |-- work_type: string (nullable = true)\n",
            " |-- Residence_type: string (nullable = true)\n",
            " |-- avg_glucose_level: float (nullable = true)\n",
            " |-- bmi: integer (nullable = true)\n",
            " |-- smoking_status: string (nullable = true)\n",
            " |-- stroke: integer (nullable = true)\n",
            "\n"
          ]
        }
      ]
    },
    {
      "cell_type": "code",
      "source": [
        "mean_bmi=df.select(f.mean('bmi')).toPandas()[\"avg(bmi)\"][0]"
      ],
      "metadata": {
        "id": "yUTgIPzAeeZE"
      },
      "execution_count": 36,
      "outputs": []
    },
    {
      "cell_type": "code",
      "source": [
        "df=df.na.fill(value=sm_mode,subset=[\"smoking_status\"])\n",
        "df=df.na.fill(value=mean_bmi,subset=[\"bmi\"])"
      ],
      "metadata": {
        "id": "-HTCSwFnNvop"
      },
      "execution_count": 37,
      "outputs": []
    },
    {
      "cell_type": "code",
      "source": [
        "df.show()"
      ],
      "metadata": {
        "colab": {
          "base_uri": "https://localhost:8080/"
        },
        "id": "Z9xdJoPseMmB",
        "outputId": "42e0b5ff-e0a2-466d-b077-dbc499c3d920"
      },
      "execution_count": 38,
      "outputs": [
        {
          "output_type": "stream",
          "name": "stdout",
          "text": [
            "+-----+------+---+------------+-------------+------------+-------------+--------------+-----------------+---+---------------+------+\n",
            "|   id|gender|age|hypertension|heart_disease|ever_married|    work_type|Residence_type|avg_glucose_level|bmi| smoking_status|stroke|\n",
            "+-----+------+---+------------+-------------+------------+-------------+--------------+-----------------+---+---------------+------+\n",
            "| 9046|  Male| 67|           0|           67|         Yes|      Private|         Urban|              0.0| 67|formerly smoked|     1|\n",
            "|51676|Female| 61|           0|           61|         Yes|Self-employed|         Rural|              0.0| 61|   never smoked|     1|\n",
            "|31112|  Male| 80|           0|           80|         Yes|      Private|         Rural|              0.0| 80|   never smoked|     1|\n",
            "|60182|Female| 49|           0|           49|         Yes|      Private|         Urban|              0.0| 49|         smokes|     1|\n",
            "| 1665|Female| 79|           1|           79|         Yes|Self-employed|         Rural|              1.0| 79|   never smoked|     1|\n",
            "|56669|  Male| 81|           0|           81|         Yes|      Private|         Urban|              0.0| 81|formerly smoked|     1|\n",
            "|53882|  Male| 74|           1|           74|         Yes|      Private|         Rural|              1.0| 74|   never smoked|     1|\n",
            "|10434|Female| 69|           0|           69|          No|      Private|         Urban|              0.0| 69|   never smoked|     1|\n",
            "|27419|Female| 59|           0|           59|         Yes|      Private|         Rural|              0.0| 59|   never smoked|     1|\n",
            "|60491|Female| 78|           0|           78|         Yes|      Private|         Urban|              0.0| 78|   never smoked|     1|\n",
            "|12109|Female| 81|           1|           81|         Yes|      Private|         Rural|              1.0| 81|   never smoked|     1|\n",
            "|12095|Female| 61|           0|           61|         Yes|     Govt_job|         Rural|              0.0| 61|         smokes|     1|\n",
            "|12175|Female| 54|           0|           54|         Yes|      Private|         Urban|              0.0| 54|         smokes|     1|\n",
            "| 8213|  Male| 78|           0|           78|         Yes|      Private|         Urban|              0.0| 78|   never smoked|     1|\n",
            "| 5317|Female| 79|           0|           79|         Yes|      Private|         Urban|              0.0| 79|   never smoked|     1|\n",
            "|58202|Female| 50|           1|           50|         Yes|Self-employed|         Rural|              1.0| 50|   never smoked|     1|\n",
            "|56112|  Male| 64|           0|           64|         Yes|      Private|         Urban|              0.0| 64|         smokes|     1|\n",
            "|34120|  Male| 75|           1|           75|         Yes|      Private|         Urban|              1.0| 75|         smokes|     1|\n",
            "|27458|Female| 60|           0|           60|          No|      Private|         Urban|              0.0| 60|   never smoked|     1|\n",
            "|25226|  Male| 57|           0|           57|          No|     Govt_job|         Urban|              0.0| 57|   never smoked|     1|\n",
            "+-----+------+---+------------+-------------+------------+-------------+--------------+-----------------+---+---------------+------+\n",
            "only showing top 20 rows\n",
            "\n"
          ]
        }
      ]
    },
    {
      "cell_type": "code",
      "source": [
        "df = df.drop('id')"
      ],
      "metadata": {
        "id": "TRc3Og7-eVJA"
      },
      "execution_count": 39,
      "outputs": []
    },
    {
      "cell_type": "code",
      "source": [
        "cat_col=[\"gender\",\"ever_married\",\"work_type\",\"Residence_type\",\"smoking_status\"]\n",
        "num_col=[\"age\",\"hypertension\",\"heart_disease\",\"avg_glucose_level\",\"bmi\"]"
      ],
      "metadata": {
        "id": "hpeIppVp4qY_"
      },
      "execution_count": 40,
      "outputs": []
    },
    {
      "cell_type": "markdown",
      "source": [
        "# Handling Categorical Columns"
      ],
      "metadata": {
        "id": "esbvUQQTn7Z8"
      }
    },
    {
      "cell_type": "code",
      "source": [
        "# indexing all categorical columns in the dataset\n",
        "from pyspark.ml.feature import StringIndexer\n",
        "indexer1 = StringIndexer(inputCol=\"gender\", outputCol=\"genderIndex\")\n",
        "indexer2 = StringIndexer(inputCol=\"ever_married\", outputCol=\"ever_marriedIndex\")\n",
        "indexer3 = StringIndexer(inputCol=\"work_type\", outputCol=\"work_typeIndex\")\n",
        "indexer4 = StringIndexer(inputCol=\"Residence_type\", outputCol=\"Residence_typeIndex\")\n",
        "indexer5 = StringIndexer(inputCol=\"smoking_status\", outputCol=\"smoking_statusIndex\")"
      ],
      "metadata": {
        "id": "NgcnsOVVn-eD"
      },
      "execution_count": 41,
      "outputs": []
    },
    {
      "cell_type": "code",
      "source": [
        "# One Hot Encoder\n",
        "encoder = OneHotEncoder(inputCols=[\"genderIndex\",\"ever_marriedIndex\",\"work_typeIndex\",\"Residence_typeIndex\",\"smoking_statusIndex\"],\n",
        "                                 outputCols=[\"genderVec\",\"ever_marriedVec\",\"work_typeVec\",\"Residence_typeVec\",\"smoking_statusVec\"])"
      ],
      "metadata": {
        "id": "WpXt1PCboMGR"
      },
      "execution_count": 42,
      "outputs": []
    },
    {
      "cell_type": "code",
      "source": [
        "assembler = VectorAssembler(inputCols=['genderVec',\n",
        " 'age',\n",
        " 'hypertension',\n",
        " 'heart_disease',\n",
        " 'ever_marriedVec',\n",
        " 'work_typeVec',\n",
        " 'Residence_typeVec',\n",
        " 'avg_glucose_level',\n",
        " 'bmi',\n",
        " 'smoking_statusVec'],outputCol='features')"
      ],
      "metadata": {
        "id": "ZqeuBiAJpNsh"
      },
      "execution_count": 43,
      "outputs": []
    },
    {
      "cell_type": "code",
      "source": [
        "from pyspark.ml import Pipeline"
      ],
      "metadata": {
        "id": "YUOAg2n8sY9L"
      },
      "execution_count": 44,
      "outputs": []
    },
    {
      "cell_type": "code",
      "source": [
        "cols= df.columns"
      ],
      "metadata": {
        "id": "Ik_Jbek5wjFD"
      },
      "execution_count": 45,
      "outputs": []
    },
    {
      "cell_type": "code",
      "source": [],
      "metadata": {
        "id": "8bjii0UzuuLF"
      },
      "execution_count": 45,
      "outputs": []
    },
    {
      "cell_type": "code",
      "source": [
        "df.show(5)"
      ],
      "metadata": {
        "colab": {
          "base_uri": "https://localhost:8080/"
        },
        "id": "iYNI6I0Q6hf1",
        "outputId": "cd1133bf-45a9-4a2b-829e-56a2b106de43"
      },
      "execution_count": 46,
      "outputs": [
        {
          "output_type": "stream",
          "name": "stdout",
          "text": [
            "+------+---+------------+-------------+------------+-------------+--------------+-----------------+---+---------------+------+\n",
            "|gender|age|hypertension|heart_disease|ever_married|    work_type|Residence_type|avg_glucose_level|bmi| smoking_status|stroke|\n",
            "+------+---+------------+-------------+------------+-------------+--------------+-----------------+---+---------------+------+\n",
            "|  Male| 67|           0|           67|         Yes|      Private|         Urban|              0.0| 67|formerly smoked|     1|\n",
            "|Female| 61|           0|           61|         Yes|Self-employed|         Rural|              0.0| 61|   never smoked|     1|\n",
            "|  Male| 80|           0|           80|         Yes|      Private|         Rural|              0.0| 80|   never smoked|     1|\n",
            "|Female| 49|           0|           49|         Yes|      Private|         Urban|              0.0| 49|         smokes|     1|\n",
            "|Female| 79|           1|           79|         Yes|Self-employed|         Rural|              1.0| 79|   never smoked|     1|\n",
            "+------+---+------------+-------------+------------+-------------+--------------+-----------------+---+---------------+------+\n",
            "only showing top 5 rows\n",
            "\n"
          ]
        }
      ]
    },
    {
      "cell_type": "code",
      "source": [
        "stages=[]"
      ],
      "metadata": {
        "id": "_2oTNb5858fc"
      },
      "execution_count": 47,
      "outputs": []
    },
    {
      "cell_type": "code",
      "source": [
        "categoricalColumns = [\"gender\",\"ever_married\", \"work_type\", \"Residence_type\",\"smoking_status\"]\n",
        "for categoricalCol in categoricalColumns:\n",
        "    stringIndexer = StringIndexer(inputCol = categoricalCol, outputCol = categoricalCol + 'Index')\n",
        "    encoder = OneHotEncoder(inputCols=[stringIndexer.getOutputCol()],outputCols=[categoricalCol + \"classVec\"])\n",
        "    stages += [stringIndexer, encoder]\n",
        "numericCols = [\"age\", \"hypertension\",\"heart_disease\",\"avg_glucose_level\",\"bmi\"]\n",
        "assemblerInputs= [c + \"classVec\" for c in categoricalColumns] + numericCols \n",
        "assembler = VectorAssembler(inputCols = assemblerInputs,outputCol=\"features\")\n",
        "stages += [assembler]\n",
        "pipeline = Pipeline(stages = stages)\n",
        "pipelineModel = pipeline.fit(df)\n",
        "df_encoded = pipelineModel.transform(df)\n",
        "selectCols = ['features'] + cols\n",
        "df_encoded = df_encoded.select(selectCols)"
      ],
      "metadata": {
        "id": "EXOd2TfW58j4"
      },
      "execution_count": 48,
      "outputs": []
    },
    {
      "cell_type": "code",
      "source": [
        "df_encoded.show()"
      ],
      "metadata": {
        "colab": {
          "base_uri": "https://localhost:8080/"
        },
        "id": "CW3atO-c58o0",
        "outputId": "abf0104c-ee76-4264-a684-0a4886e7be73"
      },
      "execution_count": 49,
      "outputs": [
        {
          "output_type": "stream",
          "name": "stdout",
          "text": [
            "+--------------------+------+---+------------+-------------+------------+-------------+--------------+-----------------+---+---------------+------+\n",
            "|            features|gender|age|hypertension|heart_disease|ever_married|    work_type|Residence_type|avg_glucose_level|bmi| smoking_status|stroke|\n",
            "+--------------------+------+---+------------+-------------+------------+-------------+--------------+-----------------+---+---------------+------+\n",
            "|(15,[1,2,3,7,9,10...|  Male| 67|           0|           67|         Yes|      Private|         Urban|              0.0| 67|formerly smoked|     1|\n",
            "|(15,[0,2,4,8,10,1...|Female| 61|           0|           61|         Yes|Self-employed|         Rural|              0.0| 61|   never smoked|     1|\n",
            "|(15,[1,2,3,8,10,1...|  Male| 80|           0|           80|         Yes|      Private|         Rural|              0.0| 80|   never smoked|     1|\n",
            "|(15,[0,2,3,7,10,1...|Female| 49|           0|           49|         Yes|      Private|         Urban|              0.0| 49|         smokes|     1|\n",
            "|[1.0,0.0,1.0,0.0,...|Female| 79|           1|           79|         Yes|Self-employed|         Rural|              1.0| 79|   never smoked|     1|\n",
            "|(15,[1,2,3,7,9,10...|  Male| 81|           0|           81|         Yes|      Private|         Urban|              0.0| 81|formerly smoked|     1|\n",
            "|[0.0,1.0,1.0,1.0,...|  Male| 74|           1|           74|         Yes|      Private|         Rural|              1.0| 74|   never smoked|     1|\n",
            "|(15,[0,3,7,8,10,1...|Female| 69|           0|           69|          No|      Private|         Urban|              0.0| 69|   never smoked|     1|\n",
            "|(15,[0,2,3,8,10,1...|Female| 59|           0|           59|         Yes|      Private|         Rural|              0.0| 59|   never smoked|     1|\n",
            "|(15,[0,2,3,7,8,10...|Female| 78|           0|           78|         Yes|      Private|         Urban|              0.0| 78|   never smoked|     1|\n",
            "|[1.0,0.0,1.0,1.0,...|Female| 81|           1|           81|         Yes|      Private|         Rural|              1.0| 81|   never smoked|     1|\n",
            "|(15,[0,2,6,10,12,...|Female| 61|           0|           61|         Yes|     Govt_job|         Rural|              0.0| 61|         smokes|     1|\n",
            "|(15,[0,2,3,7,10,1...|Female| 54|           0|           54|         Yes|      Private|         Urban|              0.0| 54|         smokes|     1|\n",
            "|(15,[1,2,3,7,8,10...|  Male| 78|           0|           78|         Yes|      Private|         Urban|              0.0| 78|   never smoked|     1|\n",
            "|(15,[0,2,3,7,8,10...|Female| 79|           0|           79|         Yes|      Private|         Urban|              0.0| 79|   never smoked|     1|\n",
            "|[1.0,0.0,1.0,0.0,...|Female| 50|           1|           50|         Yes|Self-employed|         Rural|              1.0| 50|   never smoked|     1|\n",
            "|(15,[1,2,3,7,10,1...|  Male| 64|           0|           64|         Yes|      Private|         Urban|              0.0| 64|         smokes|     1|\n",
            "|[0.0,1.0,1.0,1.0,...|  Male| 75|           1|           75|         Yes|      Private|         Urban|              1.0| 75|         smokes|     1|\n",
            "|(15,[0,3,7,8,10,1...|Female| 60|           0|           60|          No|      Private|         Urban|              0.0| 60|   never smoked|     1|\n",
            "|(15,[1,6,7,8,10,1...|  Male| 57|           0|           57|          No|     Govt_job|         Urban|              0.0| 57|   never smoked|     1|\n",
            "+--------------------+------+---+------------+-------------+------------+-------------+--------------+-----------------+---+---------------+------+\n",
            "only showing top 20 rows\n",
            "\n"
          ]
        }
      ]
    },
    {
      "cell_type": "code",
      "source": [],
      "metadata": {
        "id": "fxsH6MjD58uE"
      },
      "execution_count": 49,
      "outputs": []
    },
    {
      "cell_type": "code",
      "source": [],
      "metadata": {
        "id": "0e-cc9mo58yR"
      },
      "execution_count": 49,
      "outputs": []
    },
    {
      "cell_type": "code",
      "source": [],
      "metadata": {
        "id": "apRmuZk8AGce"
      },
      "execution_count": 49,
      "outputs": []
    },
    {
      "cell_type": "code",
      "source": [],
      "metadata": {
        "id": "CxFGiNHHAVrN"
      },
      "execution_count": 49,
      "outputs": []
    },
    {
      "cell_type": "markdown",
      "source": [
        "***bold text***"
      ],
      "metadata": {
        "id": "h1h9vPEOtT7i"
      }
    },
    {
      "cell_type": "code",
      "source": [
        "df_encoded.show()"
      ],
      "metadata": {
        "colab": {
          "base_uri": "https://localhost:8080/"
        },
        "id": "Lk01s68mvnIH",
        "outputId": "d210eb5a-7936-4487-a7f1-459e2ef9c10d"
      },
      "execution_count": 50,
      "outputs": [
        {
          "output_type": "stream",
          "name": "stdout",
          "text": [
            "+--------------------+------+---+------------+-------------+------------+-------------+--------------+-----------------+---+---------------+------+\n",
            "|            features|gender|age|hypertension|heart_disease|ever_married|    work_type|Residence_type|avg_glucose_level|bmi| smoking_status|stroke|\n",
            "+--------------------+------+---+------------+-------------+------------+-------------+--------------+-----------------+---+---------------+------+\n",
            "|(15,[1,2,3,7,9,10...|  Male| 67|           0|           67|         Yes|      Private|         Urban|              0.0| 67|formerly smoked|     1|\n",
            "|(15,[0,2,4,8,10,1...|Female| 61|           0|           61|         Yes|Self-employed|         Rural|              0.0| 61|   never smoked|     1|\n",
            "|(15,[1,2,3,8,10,1...|  Male| 80|           0|           80|         Yes|      Private|         Rural|              0.0| 80|   never smoked|     1|\n",
            "|(15,[0,2,3,7,10,1...|Female| 49|           0|           49|         Yes|      Private|         Urban|              0.0| 49|         smokes|     1|\n",
            "|[1.0,0.0,1.0,0.0,...|Female| 79|           1|           79|         Yes|Self-employed|         Rural|              1.0| 79|   never smoked|     1|\n",
            "|(15,[1,2,3,7,9,10...|  Male| 81|           0|           81|         Yes|      Private|         Urban|              0.0| 81|formerly smoked|     1|\n",
            "|[0.0,1.0,1.0,1.0,...|  Male| 74|           1|           74|         Yes|      Private|         Rural|              1.0| 74|   never smoked|     1|\n",
            "|(15,[0,3,7,8,10,1...|Female| 69|           0|           69|          No|      Private|         Urban|              0.0| 69|   never smoked|     1|\n",
            "|(15,[0,2,3,8,10,1...|Female| 59|           0|           59|         Yes|      Private|         Rural|              0.0| 59|   never smoked|     1|\n",
            "|(15,[0,2,3,7,8,10...|Female| 78|           0|           78|         Yes|      Private|         Urban|              0.0| 78|   never smoked|     1|\n",
            "|[1.0,0.0,1.0,1.0,...|Female| 81|           1|           81|         Yes|      Private|         Rural|              1.0| 81|   never smoked|     1|\n",
            "|(15,[0,2,6,10,12,...|Female| 61|           0|           61|         Yes|     Govt_job|         Rural|              0.0| 61|         smokes|     1|\n",
            "|(15,[0,2,3,7,10,1...|Female| 54|           0|           54|         Yes|      Private|         Urban|              0.0| 54|         smokes|     1|\n",
            "|(15,[1,2,3,7,8,10...|  Male| 78|           0|           78|         Yes|      Private|         Urban|              0.0| 78|   never smoked|     1|\n",
            "|(15,[0,2,3,7,8,10...|Female| 79|           0|           79|         Yes|      Private|         Urban|              0.0| 79|   never smoked|     1|\n",
            "|[1.0,0.0,1.0,0.0,...|Female| 50|           1|           50|         Yes|Self-employed|         Rural|              1.0| 50|   never smoked|     1|\n",
            "|(15,[1,2,3,7,10,1...|  Male| 64|           0|           64|         Yes|      Private|         Urban|              0.0| 64|         smokes|     1|\n",
            "|[0.0,1.0,1.0,1.0,...|  Male| 75|           1|           75|         Yes|      Private|         Urban|              1.0| 75|         smokes|     1|\n",
            "|(15,[0,3,7,8,10,1...|Female| 60|           0|           60|          No|      Private|         Urban|              0.0| 60|   never smoked|     1|\n",
            "|(15,[1,6,7,8,10,1...|  Male| 57|           0|           57|          No|     Govt_job|         Urban|              0.0| 57|   never smoked|     1|\n",
            "+--------------------+------+---+------------+-------------+------------+-------------+--------------+-----------------+---+---------------+------+\n",
            "only showing top 20 rows\n",
            "\n"
          ]
        }
      ]
    },
    {
      "cell_type": "markdown",
      "source": [
        "# Train Test Split"
      ],
      "metadata": {
        "id": "ijGmTcovtUGT"
      }
    },
    {
      "cell_type": "code",
      "source": [
        "train , test = df_encoded.randomSplit([0.70,0.30],seed=99)\n",
        "print(\"There are %d training examples and %d test examples\"%(train.count(), test.count()))"
      ],
      "metadata": {
        "colab": {
          "base_uri": "https://localhost:8080/"
        },
        "id": "djFMVk9RsHLq",
        "outputId": "f1da152b-d9aa-45af-d1c1-37f571280977"
      },
      "execution_count": 51,
      "outputs": [
        {
          "output_type": "stream",
          "name": "stdout",
          "text": [
            "There are 3595 training examples and 1515 test examples\n"
          ]
        }
      ]
    },
    {
      "cell_type": "markdown",
      "source": [
        "Baseline Model"
      ],
      "metadata": {
        "id": "-CKFz9UAqT49"
      }
    },
    {
      "cell_type": "markdown",
      "source": [
        "# Logistic Regression"
      ],
      "metadata": {
        "id": "lKfEuxcLyR2M"
      }
    },
    {
      "cell_type": "code",
      "source": [
        "from pyspark.ml.classification import LogisticRegression\n",
        "lr = LogisticRegression(featuresCol='features',labelCol='stroke')\n",
        "model_lr= lr.fit(train)\n",
        "lr_pred = model_lr.transform(test)\n",
        "\n"
      ],
      "metadata": {
        "id": "Vyue0HLXp0hw"
      },
      "execution_count": 52,
      "outputs": []
    },
    {
      "cell_type": "markdown",
      "source": [
        "Evaluation"
      ],
      "metadata": {
        "id": "cu4yEZxrFpnN"
      }
    },
    {
      "cell_type": "code",
      "source": [
        "from pyspark.ml.evaluation import MulticlassClassificationEvaluator\n",
        "# Select (prediction, true label) and compute test error\n",
        "acc_evaluator = MulticlassClassificationEvaluator(labelCol=\"stroke\", predictionCol=\"prediction\", metricName=\"accuracy\")\n",
        "f1_eval= MulticlassClassificationEvaluator(labelCol=\"stroke\", predictionCol=\"prediction\", metricName=\"f1\")\n",
        "prec_eval= MulticlassClassificationEvaluator(labelCol=\"stroke\", predictionCol=\"prediction\", metricName=\"weightedPrecision\")\n",
        "recall_eval= MulticlassClassificationEvaluator(labelCol=\"stroke\", predictionCol=\"prediction\", metricName=\"weightedRecall\")\n",
        "\n",
        "\n"
      ],
      "metadata": {
        "id": "Bz81bNGes7bg"
      },
      "execution_count": 53,
      "outputs": []
    },
    {
      "cell_type": "code",
      "source": [
        "# Logistric Regression Evaluaion\n",
        "lr_acc = acc_evaluator.evaluate(lr_pred)\n",
        "lr_f1= f1_eval.evaluate(lr_pred)\n",
        "lr_prec = prec_eval.evaluate(lr_pred)\n",
        "lr_recall=recall_eval.evaluate(lr_pred)\n",
        "\n",
        "\n",
        "print('Logistic Regression Accuracy: {0:2.2f}%'.format(lr_acc*100))\n",
        "print('Logistic Regression F1 score of: {}'.format(lr_f1))\n",
        "print('Logistic Regression Precision score : {}'.format(lr_prec))\n",
        "print('Logistic Regression Recall score of: {}'.format(lr_recall))"
      ],
      "metadata": {
        "colab": {
          "base_uri": "https://localhost:8080/"
        },
        "id": "fD76NPQpzCOg",
        "outputId": "e93597f8-c795-4589-f246-9843e22ff4e8"
      },
      "execution_count": 54,
      "outputs": [
        {
          "output_type": "stream",
          "name": "stdout",
          "text": [
            "Logistic Regression Accuracy: 95.51%\n",
            "Logistic Regression F1 score of: 0.9331884842771921\n",
            "Logistic Regression Precision score : 0.9122456404056247\n",
            "Logistic Regression Recall score of: 0.9551155115511551\n"
          ]
        }
      ]
    },
    {
      "cell_type": "code",
      "source": [],
      "metadata": {
        "id": "3oYYFqjwzUt4"
      },
      "execution_count": 54,
      "outputs": []
    },
    {
      "cell_type": "code",
      "source": [],
      "metadata": {
        "id": "PBpMzRUoA17T"
      },
      "execution_count": 54,
      "outputs": []
    },
    {
      "cell_type": "markdown",
      "source": [
        "# Decision Tree"
      ],
      "metadata": {
        "id": "4_3TKENk05ER"
      }
    },
    {
      "cell_type": "code",
      "source": [
        "from pyspark.ml.classification import DecisionTreeClassifier\n",
        "\n",
        "dt = DecisionTreeClassifier(featuresCol = 'features', labelCol = 'stroke')\n",
        "dtModel = dt.fit(train)\n",
        "dtPreds = dtModel.transform(test)\n",
        "dtc_predictions = dtModel.transform(test)"
      ],
      "metadata": {
        "id": "xCjAlFog0fnA"
      },
      "execution_count": 55,
      "outputs": []
    },
    {
      "cell_type": "code",
      "source": [
        "# Logistric Regression Evaluaion\n",
        "dt_acc = acc_evaluator.evaluate(dtc_predictions)\n",
        "dt_f1= f1_eval.evaluate(dtc_predictions)\n",
        "dt_prec = prec_eval.evaluate(dtc_predictions)\n",
        "dt_recall=recall_eval.evaluate(dtc_predictions)\n",
        "\n",
        "\n",
        "print('Decision Tree Accuracy: {0:2.2f}%'.format(dt_acc*100))\n",
        "print('Decision Tree F1 score of: {}'.format(dt_f1))\n",
        "print('Decision Tree Precision score : {}'.format(dt_prec))\n",
        "print('Decision Tree Recall score of: {}'.format(dt_recall))"
      ],
      "metadata": {
        "colab": {
          "base_uri": "https://localhost:8080/"
        },
        "id": "bBNcsZIO0tdq",
        "outputId": "49856fd3-a2d4-4a75-ae7c-e9cb8c48cc8b"
      },
      "execution_count": 56,
      "outputs": [
        {
          "output_type": "stream",
          "name": "stdout",
          "text": [
            "Decision Tree Accuracy: 95.25%\n",
            "Decision Tree F1 score of: 0.931867263805488\n",
            "Decision Tree Precision score : 0.9121321529902825\n",
            "Decision Tree Recall score of: 0.9524752475247524\n"
          ]
        }
      ]
    },
    {
      "cell_type": "code",
      "source": [],
      "metadata": {
        "id": "jut7rCnx1MW4"
      },
      "execution_count": 56,
      "outputs": []
    },
    {
      "cell_type": "markdown",
      "source": [
        "# Random Forest\n"
      ],
      "metadata": {
        "id": "G1LhyWJwKmQj"
      }
    },
    {
      "cell_type": "code",
      "source": [
        "from pyspark.ml.classification import RandomForestClassifier\n",
        "rf = RandomForestClassifier(featuresCol = 'features', labelCol = 'stroke')\n",
        "rfModel = rf.fit(train)\n",
        "rfPreds = rfModel.transform(test)\n"
      ],
      "metadata": {
        "id": "dcvNErwh5j6o"
      },
      "execution_count": 57,
      "outputs": []
    },
    {
      "cell_type": "code",
      "source": [
        "rf_acc = acc_evaluator.evaluate(rfPreds)\n",
        "rf_f1= f1_eval.evaluate(rfPreds)\n",
        "rf_prec = prec_eval.evaluate(rfPreds)\n",
        "rf_recall=recall_eval.evaluate(rfPreds)\n",
        "\n",
        "\n",
        "print('Random Forest Accuracy: {0:2.2f}%'.format(rf_acc*100))\n",
        "print('Random Forest F1 score of: {}'.format(rf_f1))\n",
        "print('Random Forest Precision score : {}'.format(rf_prec))\n",
        "print('Random Forest Recall score of: {}'.format(rf_recall))"
      ],
      "metadata": {
        "colab": {
          "base_uri": "https://localhost:8080/"
        },
        "id": "b8uHH8rb5uDX",
        "outputId": "b6656997-143d-4bf1-af9b-5fcb14dd53d1"
      },
      "execution_count": 58,
      "outputs": [
        {
          "output_type": "stream",
          "name": "stdout",
          "text": [
            "Random Forest Accuracy: 95.51%\n",
            "Random Forest F1 score of: 0.9331884842771921\n",
            "Random Forest Precision score : 0.9122456404056247\n",
            "Random Forest Recall score of: 0.9551155115511551\n"
          ]
        }
      ]
    },
    {
      "cell_type": "code",
      "source": [
        "\n"
      ],
      "metadata": {
        "id": "_0qJus-XKorF"
      },
      "execution_count": 58,
      "outputs": []
    },
    {
      "cell_type": "markdown",
      "source": [
        "# Gradient Boosting"
      ],
      "metadata": {
        "id": "KOaz9vghKrJc"
      }
    },
    {
      "cell_type": "code",
      "source": [
        "from pyspark.ml.classification import GBTClassifier"
      ],
      "metadata": {
        "id": "-BOfWrPf-V_3"
      },
      "execution_count": 59,
      "outputs": []
    },
    {
      "cell_type": "code",
      "source": [
        "gb = GBTClassifier(featuresCol = 'features', labelCol = 'stroke')\n",
        "gbModel = gb.fit(train)\n",
        "gbPreds = gbModel.transform(test)"
      ],
      "metadata": {
        "id": "lPpKLcgM5yKo"
      },
      "execution_count": 60,
      "outputs": []
    },
    {
      "cell_type": "code",
      "source": [
        "gb_acc = acc_evaluator.evaluate(gbPreds)\n",
        "gb_f1= f1_eval.evaluate(gbPreds)\n",
        "gb_prec = prec_eval.evaluate(gbPreds)\n",
        "gb_recall=recall_eval.evaluate(gbPreds)\n",
        "\n",
        "\n",
        "print('Gradient Boosting Accuracy: {0:2.2f}%'.format(gb_acc*100))\n",
        "print('Gradient Boosting F1 score of: {}'.format(gb_f1))\n",
        "print('Gradient Boosting Precision score : {}'.format(gb_prec))\n",
        "print('Gradient Recall score of: {}'.format(gb_recall))"
      ],
      "metadata": {
        "id": "P6Y-fJwV-fC_",
        "outputId": "5764abfa-ed4f-4fd4-d5b2-1d2766efb693",
        "colab": {
          "base_uri": "https://localhost:8080/"
        }
      },
      "execution_count": 61,
      "outputs": [
        {
          "output_type": "stream",
          "name": "stdout",
          "text": [
            "Gradient Boosting Accuracy: 95.18%\n",
            "Gradient Boosting F1 score of: 0.9315364001736663\n",
            "Gradient Boosting Precision score : 0.9121036871899111\n",
            "Gradient Recall score of: 0.9518151815181518\n"
          ]
        }
      ]
    },
    {
      "cell_type": "markdown",
      "source": [
        "# Linear SVC"
      ],
      "metadata": {
        "id": "EcVTdYhSMV1E"
      }
    },
    {
      "cell_type": "code",
      "source": [],
      "metadata": {
        "id": "C-sPgoqUMUJ1"
      },
      "execution_count": 61,
      "outputs": []
    },
    {
      "cell_type": "code",
      "source": [
        "from pyspark.ml.classification import LinearSVC"
      ],
      "metadata": {
        "id": "0Ei4MB82KWPu"
      },
      "execution_count": 62,
      "outputs": []
    },
    {
      "cell_type": "code",
      "source": [
        "svc = LinearSVC(featuresCol = 'features', labelCol = 'stroke')\n",
        "svcModel = svc.fit(train)\n",
        "svcPreds = svcModel.transform(test)"
      ],
      "metadata": {
        "id": "S79WbU7uLn8u"
      },
      "execution_count": 63,
      "outputs": []
    },
    {
      "cell_type": "code",
      "source": [
        "svc_acc = acc_evaluator.evaluate(svcPreds)\n",
        "svc_f1= f1_eval.evaluate(svcPreds)\n",
        "svc_prec = prec_eval.evaluate(svcPreds)\n",
        "svc_recall=recall_eval.evaluate(svcPreds)\n",
        "\n",
        "\n",
        "print('Linear SVC Accuracy: {0:2.2f}%'.format(svc_acc*100))\n",
        "print('Linear SVC  F1 score of: {}'.format(svc_f1))\n",
        "print('Linear SVC  Precision score : {}'.format(svc_prec))\n",
        "print('Linear Recall score of: {}'.format(svc_recall))"
      ],
      "metadata": {
        "id": "r78Xoj7XL47O",
        "outputId": "162803df-f250-4ec9-807d-70b64a0b64d2",
        "colab": {
          "base_uri": "https://localhost:8080/"
        }
      },
      "execution_count": 66,
      "outputs": [
        {
          "output_type": "stream",
          "name": "stdout",
          "text": [
            "Linear SVC Accuracy: 95.51%\n",
            "Linear SVC  F1 score of: 0.9331884842771921\n",
            "Linear SVC  Precision score : 0.9122456404056247\n",
            "Linear Recall score of: 0.9551155115511551\n"
          ]
        }
      ]
    },
    {
      "cell_type": "markdown",
      "source": [
        "Our Dataset was imbalanced but we have applied 5 baseline machine algorithms and evaluated them and come to a conclusion that All Algorithms are performing we can similar accuracy but Random Forest and LInear Support Vector Machine did the best and did the tie."
      ],
      "metadata": {
        "id": "ywq9fI1kPYpb"
      }
    },
    {
      "cell_type": "code",
      "source": [],
      "metadata": {
        "id": "BWV7nPbRMFv3"
      },
      "execution_count": 64,
      "outputs": []
    }
  ]
}