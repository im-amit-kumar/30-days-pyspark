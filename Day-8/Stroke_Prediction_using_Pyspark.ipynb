{
  "cells": [
    {
      "cell_type": "code",
      "execution_count": 1,
      "metadata": {
        "colab": {
          "base_uri": "https://localhost:8080/"
        },
        "id": "3SZQLkRVqA4Y",
        "outputId": "126e38a0-8437-49d1-c343-e1ef78b2e451"
      },
      "outputs": [
        {
          "output_type": "stream",
          "name": "stdout",
          "text": [
            "Mounted at /content/gdrive\n"
          ]
        }
      ],
      "source": [
        "from google.colab import drive\n",
        "drive.mount(\"/content/gdrive\", force_remount=True)"
      ]
    },
    {
      "cell_type": "code",
      "execution_count": 2,
      "metadata": {
        "colab": {
          "base_uri": "https://localhost:8080/"
        },
        "id": "MklP2D56vbsd",
        "outputId": "5bc2ce36-6221-4ca3-a619-76f8b27b2e56"
      },
      "outputs": [
        {
          "output_type": "stream",
          "name": "stdout",
          "text": [
            "/content/gdrive/MyDrive/pyspark/Stroke_Prediction\n"
          ]
        }
      ],
      "source": [
        "cd /content/gdrive/MyDrive/pyspark/Stroke_Prediction"
      ]
    },
    {
      "cell_type": "code",
      "execution_count": 3,
      "metadata": {
        "colab": {
          "base_uri": "https://localhost:8080/"
        },
        "id": "au1-YdQdyUx2",
        "outputId": "7d327127-c139-4346-8fe9-c1d1f916c184"
      },
      "outputs": [
        {
          "output_type": "stream",
          "name": "stdout",
          "text": [
            "Looking in indexes: https://pypi.org/simple, https://us-python.pkg.dev/colab-wheels/public/simple/\n",
            "Requirement already satisfied: pyspark in /usr/local/lib/python3.7/dist-packages (3.3.0)\n",
            "Requirement already satisfied: py4j==0.10.9.5 in /usr/local/lib/python3.7/dist-packages (from pyspark) (0.10.9.5)\n"
          ]
        }
      ],
      "source": [
        "!pip install pyspark"
      ]
    },
    {
      "cell_type": "code",
      "execution_count": 4,
      "metadata": {
        "id": "vpnGqpmHwkLG"
      },
      "outputs": [],
      "source": [
        "from pyspark.sql import SparkSession\n",
        "import pyspark.sql as sparksql\n",
        "import pyspark.sql.functions as f\n",
        "from pyspark.sql.window import Window\n",
        "import matplotlib.pyplot as plt\n",
        "import seaborn as sns\n",
        "import numpy as np\n",
        "import pandas as pd\n",
        "from pyspark.ml.feature import StringIndexer\n",
        "from pyspark.ml.feature import OneHotEncoder\n",
        "from pyspark.ml.feature import VectorAssembler"
      ]
    },
    {
      "cell_type": "code",
      "execution_count": 5,
      "metadata": {
        "id": "Ab-oVUk4y4xO"
      },
      "outputs": [],
      "source": [
        "spark = SparkSession.builder.getOrCreate()"
      ]
    },
    {
      "cell_type": "code",
      "execution_count": 6,
      "metadata": {
        "id": "iFiDSjQ7yTTk"
      },
      "outputs": [],
      "source": [
        "df = spark.read.csv(\"/content/gdrive/MyDrive/pyspark/Stroke_Prediction/healthcare-dataset-stroke-data.csv\",header=True)"
      ]
    },
    {
      "cell_type": "markdown",
      "metadata": {
        "id": "ZThWMF6azgH2"
      },
      "source": [
        "# Eda"
      ]
    },
    {
      "cell_type": "code",
      "execution_count": 7,
      "metadata": {
        "id": "SVGFQE75y2rj",
        "colab": {
          "base_uri": "https://localhost:8080/"
        },
        "outputId": "fa5404b3-f598-4e61-ac50-b13f0731feb4"
      },
      "outputs": [
        {
          "output_type": "stream",
          "name": "stdout",
          "text": [
            "+-----+------+---+------------+-------------+------------+-------------+--------------+-----------------+----+---------------+------+\n",
            "|   id|gender|age|hypertension|heart_disease|ever_married|    work_type|Residence_type|avg_glucose_level| bmi| smoking_status|stroke|\n",
            "+-----+------+---+------------+-------------+------------+-------------+--------------+-----------------+----+---------------+------+\n",
            "| 9046|  Male| 67|           0|            1|         Yes|      Private|         Urban|           228.69|36.6|formerly smoked|     1|\n",
            "|51676|Female| 61|           0|            0|         Yes|Self-employed|         Rural|           202.21| N/A|   never smoked|     1|\n",
            "|31112|  Male| 80|           0|            1|         Yes|      Private|         Rural|           105.92|32.5|   never smoked|     1|\n",
            "|60182|Female| 49|           0|            0|         Yes|      Private|         Urban|           171.23|34.4|         smokes|     1|\n",
            "| 1665|Female| 79|           1|            0|         Yes|Self-employed|         Rural|           174.12|  24|   never smoked|     1|\n",
            "|56669|  Male| 81|           0|            0|         Yes|      Private|         Urban|           186.21|  29|formerly smoked|     1|\n",
            "|53882|  Male| 74|           1|            1|         Yes|      Private|         Rural|            70.09|27.4|   never smoked|     1|\n",
            "|10434|Female| 69|           0|            0|          No|      Private|         Urban|            94.39|22.8|   never smoked|     1|\n",
            "|27419|Female| 59|           0|            0|         Yes|      Private|         Rural|            76.15| N/A|        Unknown|     1|\n",
            "|60491|Female| 78|           0|            0|         Yes|      Private|         Urban|            58.57|24.2|        Unknown|     1|\n",
            "|12109|Female| 81|           1|            0|         Yes|      Private|         Rural|            80.43|29.7|   never smoked|     1|\n",
            "|12095|Female| 61|           0|            1|         Yes|     Govt_job|         Rural|           120.46|36.8|         smokes|     1|\n",
            "|12175|Female| 54|           0|            0|         Yes|      Private|         Urban|           104.51|27.3|         smokes|     1|\n",
            "| 8213|  Male| 78|           0|            1|         Yes|      Private|         Urban|           219.84| N/A|        Unknown|     1|\n",
            "| 5317|Female| 79|           0|            1|         Yes|      Private|         Urban|           214.09|28.2|   never smoked|     1|\n",
            "|58202|Female| 50|           1|            0|         Yes|Self-employed|         Rural|           167.41|30.9|   never smoked|     1|\n",
            "|56112|  Male| 64|           0|            1|         Yes|      Private|         Urban|           191.61|37.5|         smokes|     1|\n",
            "|34120|  Male| 75|           1|            0|         Yes|      Private|         Urban|           221.29|25.8|         smokes|     1|\n",
            "|27458|Female| 60|           0|            0|          No|      Private|         Urban|            89.22|37.8|   never smoked|     1|\n",
            "|25226|  Male| 57|           0|            1|          No|     Govt_job|         Urban|           217.08| N/A|        Unknown|     1|\n",
            "+-----+------+---+------------+-------------+------------+-------------+--------------+-----------------+----+---------------+------+\n",
            "only showing top 20 rows\n",
            "\n"
          ]
        }
      ],
      "source": [
        "df.show()"
      ]
    },
    {
      "cell_type": "code",
      "execution_count": 8,
      "metadata": {
        "id": "v-pL87x23Z2c"
      },
      "outputs": [],
      "source": [
        "cat_col=[\"gender\",\"ever_married\",\"work_type\",\"Residence_type\",\"smoking_status\"]\n",
        "num_col=[\"age\",\"hypertension\",\"heart_disease\",\"avg_glucose_level\",\"bmi\"]"
      ]
    },
    {
      "cell_type": "code",
      "execution_count": 9,
      "metadata": {
        "id": "XLagHTn4zkEz",
        "colab": {
          "base_uri": "https://localhost:8080/"
        },
        "outputId": "55b0e322-eba9-491c-8e83-2ab0008fdb91"
      },
      "outputs": [
        {
          "output_type": "stream",
          "name": "stdout",
          "text": [
            "root\n",
            " |-- id: string (nullable = true)\n",
            " |-- gender: string (nullable = true)\n",
            " |-- age: string (nullable = true)\n",
            " |-- hypertension: string (nullable = true)\n",
            " |-- heart_disease: string (nullable = true)\n",
            " |-- ever_married: string (nullable = true)\n",
            " |-- work_type: string (nullable = true)\n",
            " |-- Residence_type: string (nullable = true)\n",
            " |-- avg_glucose_level: string (nullable = true)\n",
            " |-- bmi: string (nullable = true)\n",
            " |-- smoking_status: string (nullable = true)\n",
            " |-- stroke: string (nullable = true)\n",
            "\n"
          ]
        }
      ],
      "source": [
        "df.printSchema()"
      ]
    },
    {
      "cell_type": "code",
      "execution_count": 10,
      "metadata": {
        "id": "Lc02MS1W0wpT",
        "colab": {
          "base_uri": "https://localhost:8080/"
        },
        "outputId": "b7ee219d-54b7-4e43-81fb-7514a4945dff"
      },
      "outputs": [
        {
          "output_type": "execute_result",
          "data": {
            "text/plain": [
              "[('id', 'string'),\n",
              " ('gender', 'string'),\n",
              " ('age', 'string'),\n",
              " ('hypertension', 'string'),\n",
              " ('heart_disease', 'string'),\n",
              " ('ever_married', 'string'),\n",
              " ('work_type', 'string'),\n",
              " ('Residence_type', 'string'),\n",
              " ('avg_glucose_level', 'string'),\n",
              " ('bmi', 'string'),\n",
              " ('smoking_status', 'string'),\n",
              " ('stroke', 'string')]"
            ]
          },
          "metadata": {},
          "execution_count": 10
        }
      ],
      "source": [
        "df.dtypes"
      ]
    },
    {
      "cell_type": "code",
      "execution_count": 11,
      "metadata": {
        "id": "X5GKlrJynkt1"
      },
      "outputs": [],
      "source": [
        "# casting\n",
        "df = df.withColumn(\"age\",df.age.cast(\"int\"))\n",
        "df = df.withColumn(\"hypertension\",df.hypertension.cast(\"int\"))\n",
        "\n",
        "df = df.withColumn(\"heart_disease\",df.age.cast(\"int\"))\n",
        "df = df.withColumn(\"avg_glucose_level\",df.hypertension.cast(\"float\"))\n",
        "\n",
        "df = df.withColumn(\"bmi\",df.age.cast(\"int\"))\n",
        "df = df.withColumn(\"stroke\",df.stroke.cast(\"int\"))"
      ]
    },
    {
      "cell_type": "code",
      "execution_count": 12,
      "metadata": {
        "id": "kmtEeUs902Vq",
        "colab": {
          "base_uri": "https://localhost:8080/",
          "height": 250
        },
        "outputId": "08c2454e-6d42-486d-d486-f3952b951ecf"
      },
      "outputs": [
        {
          "output_type": "execute_result",
          "data": {
            "text/plain": [
              "      id  gender  age  hypertension  heart_disease ever_married  \\\n",
              "0   9046    Male   67             0             67          Yes   \n",
              "1  51676  Female   61             0             61          Yes   \n",
              "2  31112    Male   80             0             80          Yes   \n",
              "3  60182  Female   49             0             49          Yes   \n",
              "4   1665  Female   79             1             79          Yes   \n",
              "\n",
              "       work_type Residence_type  avg_glucose_level  bmi   smoking_status  \\\n",
              "0        Private          Urban                0.0   67  formerly smoked   \n",
              "1  Self-employed          Rural                0.0   61     never smoked   \n",
              "2        Private          Rural                0.0   80     never smoked   \n",
              "3        Private          Urban                0.0   49           smokes   \n",
              "4  Self-employed          Rural                1.0   79     never smoked   \n",
              "\n",
              "   stroke  \n",
              "0       1  \n",
              "1       1  \n",
              "2       1  \n",
              "3       1  \n",
              "4       1  "
            ],
            "text/html": [
              "\n",
              "  <div id=\"df-4808b52b-789a-48ca-aa89-046dd8cd9b5f\">\n",
              "    <div class=\"colab-df-container\">\n",
              "      <div>\n",
              "<style scoped>\n",
              "    .dataframe tbody tr th:only-of-type {\n",
              "        vertical-align: middle;\n",
              "    }\n",
              "\n",
              "    .dataframe tbody tr th {\n",
              "        vertical-align: top;\n",
              "    }\n",
              "\n",
              "    .dataframe thead th {\n",
              "        text-align: right;\n",
              "    }\n",
              "</style>\n",
              "<table border=\"1\" class=\"dataframe\">\n",
              "  <thead>\n",
              "    <tr style=\"text-align: right;\">\n",
              "      <th></th>\n",
              "      <th>id</th>\n",
              "      <th>gender</th>\n",
              "      <th>age</th>\n",
              "      <th>hypertension</th>\n",
              "      <th>heart_disease</th>\n",
              "      <th>ever_married</th>\n",
              "      <th>work_type</th>\n",
              "      <th>Residence_type</th>\n",
              "      <th>avg_glucose_level</th>\n",
              "      <th>bmi</th>\n",
              "      <th>smoking_status</th>\n",
              "      <th>stroke</th>\n",
              "    </tr>\n",
              "  </thead>\n",
              "  <tbody>\n",
              "    <tr>\n",
              "      <th>0</th>\n",
              "      <td>9046</td>\n",
              "      <td>Male</td>\n",
              "      <td>67</td>\n",
              "      <td>0</td>\n",
              "      <td>67</td>\n",
              "      <td>Yes</td>\n",
              "      <td>Private</td>\n",
              "      <td>Urban</td>\n",
              "      <td>0.0</td>\n",
              "      <td>67</td>\n",
              "      <td>formerly smoked</td>\n",
              "      <td>1</td>\n",
              "    </tr>\n",
              "    <tr>\n",
              "      <th>1</th>\n",
              "      <td>51676</td>\n",
              "      <td>Female</td>\n",
              "      <td>61</td>\n",
              "      <td>0</td>\n",
              "      <td>61</td>\n",
              "      <td>Yes</td>\n",
              "      <td>Self-employed</td>\n",
              "      <td>Rural</td>\n",
              "      <td>0.0</td>\n",
              "      <td>61</td>\n",
              "      <td>never smoked</td>\n",
              "      <td>1</td>\n",
              "    </tr>\n",
              "    <tr>\n",
              "      <th>2</th>\n",
              "      <td>31112</td>\n",
              "      <td>Male</td>\n",
              "      <td>80</td>\n",
              "      <td>0</td>\n",
              "      <td>80</td>\n",
              "      <td>Yes</td>\n",
              "      <td>Private</td>\n",
              "      <td>Rural</td>\n",
              "      <td>0.0</td>\n",
              "      <td>80</td>\n",
              "      <td>never smoked</td>\n",
              "      <td>1</td>\n",
              "    </tr>\n",
              "    <tr>\n",
              "      <th>3</th>\n",
              "      <td>60182</td>\n",
              "      <td>Female</td>\n",
              "      <td>49</td>\n",
              "      <td>0</td>\n",
              "      <td>49</td>\n",
              "      <td>Yes</td>\n",
              "      <td>Private</td>\n",
              "      <td>Urban</td>\n",
              "      <td>0.0</td>\n",
              "      <td>49</td>\n",
              "      <td>smokes</td>\n",
              "      <td>1</td>\n",
              "    </tr>\n",
              "    <tr>\n",
              "      <th>4</th>\n",
              "      <td>1665</td>\n",
              "      <td>Female</td>\n",
              "      <td>79</td>\n",
              "      <td>1</td>\n",
              "      <td>79</td>\n",
              "      <td>Yes</td>\n",
              "      <td>Self-employed</td>\n",
              "      <td>Rural</td>\n",
              "      <td>1.0</td>\n",
              "      <td>79</td>\n",
              "      <td>never smoked</td>\n",
              "      <td>1</td>\n",
              "    </tr>\n",
              "  </tbody>\n",
              "</table>\n",
              "</div>\n",
              "      <button class=\"colab-df-convert\" onclick=\"convertToInteractive('df-4808b52b-789a-48ca-aa89-046dd8cd9b5f')\"\n",
              "              title=\"Convert this dataframe to an interactive table.\"\n",
              "              style=\"display:none;\">\n",
              "        \n",
              "  <svg xmlns=\"http://www.w3.org/2000/svg\" height=\"24px\"viewBox=\"0 0 24 24\"\n",
              "       width=\"24px\">\n",
              "    <path d=\"M0 0h24v24H0V0z\" fill=\"none\"/>\n",
              "    <path d=\"M18.56 5.44l.94 2.06.94-2.06 2.06-.94-2.06-.94-.94-2.06-.94 2.06-2.06.94zm-11 1L8.5 8.5l.94-2.06 2.06-.94-2.06-.94L8.5 2.5l-.94 2.06-2.06.94zm10 10l.94 2.06.94-2.06 2.06-.94-2.06-.94-.94-2.06-.94 2.06-2.06.94z\"/><path d=\"M17.41 7.96l-1.37-1.37c-.4-.4-.92-.59-1.43-.59-.52 0-1.04.2-1.43.59L10.3 9.45l-7.72 7.72c-.78.78-.78 2.05 0 2.83L4 21.41c.39.39.9.59 1.41.59.51 0 1.02-.2 1.41-.59l7.78-7.78 2.81-2.81c.8-.78.8-2.07 0-2.86zM5.41 20L4 18.59l7.72-7.72 1.47 1.35L5.41 20z\"/>\n",
              "  </svg>\n",
              "      </button>\n",
              "      \n",
              "  <style>\n",
              "    .colab-df-container {\n",
              "      display:flex;\n",
              "      flex-wrap:wrap;\n",
              "      gap: 12px;\n",
              "    }\n",
              "\n",
              "    .colab-df-convert {\n",
              "      background-color: #E8F0FE;\n",
              "      border: none;\n",
              "      border-radius: 50%;\n",
              "      cursor: pointer;\n",
              "      display: none;\n",
              "      fill: #1967D2;\n",
              "      height: 32px;\n",
              "      padding: 0 0 0 0;\n",
              "      width: 32px;\n",
              "    }\n",
              "\n",
              "    .colab-df-convert:hover {\n",
              "      background-color: #E2EBFA;\n",
              "      box-shadow: 0px 1px 2px rgba(60, 64, 67, 0.3), 0px 1px 3px 1px rgba(60, 64, 67, 0.15);\n",
              "      fill: #174EA6;\n",
              "    }\n",
              "\n",
              "    [theme=dark] .colab-df-convert {\n",
              "      background-color: #3B4455;\n",
              "      fill: #D2E3FC;\n",
              "    }\n",
              "\n",
              "    [theme=dark] .colab-df-convert:hover {\n",
              "      background-color: #434B5C;\n",
              "      box-shadow: 0px 1px 3px 1px rgba(0, 0, 0, 0.15);\n",
              "      filter: drop-shadow(0px 1px 2px rgba(0, 0, 0, 0.3));\n",
              "      fill: #FFFFFF;\n",
              "    }\n",
              "  </style>\n",
              "\n",
              "      <script>\n",
              "        const buttonEl =\n",
              "          document.querySelector('#df-4808b52b-789a-48ca-aa89-046dd8cd9b5f button.colab-df-convert');\n",
              "        buttonEl.style.display =\n",
              "          google.colab.kernel.accessAllowed ? 'block' : 'none';\n",
              "\n",
              "        async function convertToInteractive(key) {\n",
              "          const element = document.querySelector('#df-4808b52b-789a-48ca-aa89-046dd8cd9b5f');\n",
              "          const dataTable =\n",
              "            await google.colab.kernel.invokeFunction('convertToInteractive',\n",
              "                                                     [key], {});\n",
              "          if (!dataTable) return;\n",
              "\n",
              "          const docLinkHtml = 'Like what you see? Visit the ' +\n",
              "            '<a target=\"_blank\" href=https://colab.research.google.com/notebooks/data_table.ipynb>data table notebook</a>'\n",
              "            + ' to learn more about interactive tables.';\n",
              "          element.innerHTML = '';\n",
              "          dataTable['output_type'] = 'display_data';\n",
              "          await google.colab.output.renderOutput(dataTable, element);\n",
              "          const docLink = document.createElement('div');\n",
              "          docLink.innerHTML = docLinkHtml;\n",
              "          element.appendChild(docLink);\n",
              "        }\n",
              "      </script>\n",
              "    </div>\n",
              "  </div>\n",
              "  "
            ]
          },
          "metadata": {},
          "execution_count": 12
        }
      ],
      "source": [
        "df.toPandas().head(5)"
      ]
    },
    {
      "cell_type": "code",
      "execution_count": 13,
      "metadata": {
        "colab": {
          "base_uri": "https://localhost:8080/"
        },
        "id": "iXCuj8kw046S",
        "outputId": "b6bc7f7b-2a36-47be-b1ff-95b2e18c745e"
      },
      "outputs": [
        {
          "output_type": "stream",
          "name": "stdout",
          "text": [
            "+-------+-----------------+------+------------------+------------------+------------------+------------+---------+--------------+------------------+------------------+--------------+-------------------+\n",
            "|summary|               id|gender|               age|      hypertension|     heart_disease|ever_married|work_type|Residence_type| avg_glucose_level|               bmi|smoking_status|             stroke|\n",
            "+-------+-----------------+------+------------------+------------------+------------------+------------+---------+--------------+------------------+------------------+--------------+-------------------+\n",
            "|  count|             5110|  5110|              5110|              5110|              5110|        5110|     5110|          5110|              5110|              5110|          5110|               5110|\n",
            "|   mean|36517.82935420744|  null| 43.21526418786693|0.0974559686888454| 43.21526418786693|        null|     null|          null|0.0974559686888454| 43.21526418786693|          null| 0.0487279843444227|\n",
            "| stddev|21161.72162482715|  null|22.633865752854746| 0.296606674233791|22.633865752854746|        null|     null|          null| 0.296606674233791|22.633865752854746|          null|0.21531985698023753|\n",
            "|    min|            10018|Female|                 0|                 0|                 0|          No| Govt_job|         Rural|               0.0|                 0|       Unknown|                  0|\n",
            "|    max|             9995| Other|                82|                 1|                82|         Yes| children|         Urban|               1.0|                82|        smokes|                  1|\n",
            "+-------+-----------------+------+------------------+------------------+------------------+------------+---------+--------------+------------------+------------------+--------------+-------------------+\n",
            "\n"
          ]
        }
      ],
      "source": [
        "df.describe().show()"
      ]
    },
    {
      "cell_type": "code",
      "execution_count": 14,
      "metadata": {
        "colab": {
          "base_uri": "https://localhost:8080/"
        },
        "id": "R00zP_ceEZod",
        "outputId": "b6f152c5-fb75-49d4-8138-a16e51d209c5"
      },
      "outputs": [
        {
          "output_type": "execute_result",
          "data": {
            "text/plain": [
              "[Row(gender='Female'), Row(gender='Other'), Row(gender='Male')]"
            ]
          },
          "metadata": {},
          "execution_count": 14
        }
      ],
      "source": [
        "df.select('gender').distinct().collect()"
      ]
    },
    {
      "cell_type": "markdown",
      "metadata": {
        "id": "iTGMAgKh1f8w"
      },
      "source": [
        "# Target Distribution"
      ]
    },
    {
      "cell_type": "code",
      "execution_count": 15,
      "metadata": {
        "colab": {
          "base_uri": "https://localhost:8080/"
        },
        "id": "nlu3XAUI1CrC",
        "outputId": "c2067b8a-8c81-40f6-e9b6-cee4338acaf5"
      },
      "outputs": [
        {
          "output_type": "stream",
          "name": "stdout",
          "text": [
            "+------+-----+\n",
            "|stroke|count|\n",
            "+------+-----+\n",
            "|     1|  249|\n",
            "|     0| 4861|\n",
            "+------+-----+\n",
            "\n"
          ]
        }
      ],
      "source": [
        "df.groupby('stroke').count().show()"
      ]
    },
    {
      "cell_type": "code",
      "execution_count": 16,
      "metadata": {
        "colab": {
          "base_uri": "https://localhost:8080/"
        },
        "id": "06AqWKfX3XCt",
        "outputId": "82c67dde-617a-47a1-8b1a-babc3c2e9239"
      },
      "outputs": [
        {
          "output_type": "stream",
          "name": "stdout",
          "text": [
            "+------+-----+--------------------------------------------+\n",
            "|stroke|count|((count(stroke) / 5110) AS percentage * 100)|\n",
            "+------+-----+--------------------------------------------+\n",
            "|     1|  249|                            4.87279843444227|\n",
            "|     0| 4861|                           95.12720156555773|\n",
            "+------+-----+--------------------------------------------+\n",
            "\n"
          ]
        }
      ],
      "source": [
        "df.groupby('stroke').agg(\n",
        "    (f.count('stroke')).alias('count'),\n",
        "    (f.count('stroke') / df.count()).alias('percentage')*100\n",
        ").show()"
      ]
    },
    {
      "cell_type": "markdown",
      "metadata": {
        "id": "5zSuv9NM18Nk"
      },
      "source": [
        "From this we can see that it is a clearly imbalanced dataset, where the 95 % of target data belong to 1 class. So In this case mostly our Prediction model will be biased and inaccurate. \n",
        "\n",
        "There are different stratergies to handling it. We will look it later."
      ]
    },
    {
      "cell_type": "code",
      "execution_count": 17,
      "metadata": {
        "colab": {
          "base_uri": "https://localhost:8080/"
        },
        "id": "20hmOzUW1JvS",
        "outputId": "bfc20823-b467-4557-d6e6-94858e8efb50"
      },
      "outputs": [
        {
          "output_type": "stream",
          "name": "stdout",
          "text": [
            "+-------+-----------------+------+------------------+------------------+------------------+------------+---------+--------------+------------------+------------------+--------------+-------------------+\n",
            "|summary|               id|gender|               age|      hypertension|     heart_disease|ever_married|work_type|Residence_type| avg_glucose_level|               bmi|smoking_status|             stroke|\n",
            "+-------+-----------------+------+------------------+------------------+------------------+------------+---------+--------------+------------------+------------------+--------------+-------------------+\n",
            "|  count|             5110|  5110|              5110|              5110|              5110|        5110|     5110|          5110|              5110|              5110|          5110|               5110|\n",
            "|   mean|36517.82935420744|  null| 43.21526418786693|0.0974559686888454| 43.21526418786693|        null|     null|          null|0.0974559686888454| 43.21526418786693|          null| 0.0487279843444227|\n",
            "| stddev|21161.72162482715|  null|22.633865752854746| 0.296606674233791|22.633865752854746|        null|     null|          null| 0.296606674233791|22.633865752854746|          null|0.21531985698023753|\n",
            "|    min|            10018|Female|                 0|                 0|                 0|          No| Govt_job|         Rural|               0.0|                 0|       Unknown|                  0|\n",
            "|    max|             9995| Other|                82|                 1|                82|         Yes| children|         Urban|               1.0|                82|        smokes|                  1|\n",
            "+-------+-----------------+------+------------------+------------------+------------------+------------+---------+--------------+------------------+------------------+--------------+-------------------+\n",
            "\n"
          ]
        }
      ],
      "source": [
        "df.describe().show()"
      ]
    },
    {
      "cell_type": "code",
      "execution_count": 18,
      "metadata": {
        "id": "_53Oo-gz5_Tl"
      },
      "outputs": [],
      "source": [
        "# creating a temp view for eecuting sql queries"
      ]
    },
    {
      "cell_type": "code",
      "execution_count": 19,
      "metadata": {
        "id": "NdUtOsxy6M5b"
      },
      "outputs": [],
      "source": [
        "df.createOrReplaceTempView(\"data\")"
      ]
    },
    {
      "cell_type": "markdown",
      "metadata": {
        "id": "M9gtQF4p6iiU"
      },
      "source": [
        "# checking influence of work type in Stroke"
      ]
    },
    {
      "cell_type": "code",
      "execution_count": 19,
      "metadata": {
        "id": "fYubAgGm6jSM"
      },
      "outputs": [],
      "source": []
    },
    {
      "cell_type": "code",
      "execution_count": 20,
      "metadata": {
        "colab": {
          "base_uri": "https://localhost:8080/"
        },
        "id": "flaH-VotHYjN",
        "outputId": "6befacef-7614-4f8a-f5eb-68dcb1e8cb6d"
      },
      "outputs": [
        {
          "output_type": "stream",
          "name": "stdout",
          "text": [
            "+-------------+---------------+---------------------------------------------+\n",
            "|    work_type|work_type_count|((count(work_type) * 100) / scalarsubquery())|\n",
            "+-------------+---------------+---------------------------------------------+\n",
            "|      Private|            149|                            59.83935742971887|\n",
            "|Self-employed|             65|                           26.104417670682732|\n",
            "|     Govt_job|             33|                            13.25301204819277|\n",
            "|     children|              2|                           0.8032128514056225|\n",
            "+-------------+---------------+---------------------------------------------+\n",
            "\n"
          ]
        }
      ],
      "source": [
        "# query to find the number of in work type who have stroke\n",
        "spark.sql('''SELECT work_type, COUNT(work_type) as work_type_count,\n",
        "COUNT(work_type) *100 / (\n",
        "SELECT count(work_type) from data WHERE stroke == 1\n",
        ")\n",
        "\n",
        " FROM data WHERE stroke == 1 GROUP BY work_type ORDER BY COUNT(work_type) DESC''').show()\n",
        "\n"
      ]
    },
    {
      "cell_type": "markdown",
      "metadata": {
        "id": "vzOng2AS9ejm"
      },
      "source": []
    },
    {
      "cell_type": "code",
      "execution_count": 21,
      "metadata": {
        "colab": {
          "base_uri": "https://localhost:8080/"
        },
        "id": "hTcCi4Lv6jO6",
        "outputId": "b96eeb7e-8015-424f-b7be-e068278c73d8"
      },
      "outputs": [
        {
          "output_type": "stream",
          "name": "stdout",
          "text": [
            "+-------------+---------------+---------------------------------------------+\n",
            "|    work_type|work_type_count|((count(work_type) * 100) / scalarsubquery())|\n",
            "+-------------+---------------+---------------------------------------------+\n",
            "|      Private|           2776|                            57.10759103065213|\n",
            "|Self-employed|            754|                            15.51121168483851|\n",
            "|     children|            685|                            14.09175066858671|\n",
            "|     Govt_job|            624|                           12.836864842624975|\n",
            "| Never_worked|             22|                          0.45258177329767535|\n",
            "+-------------+---------------+---------------------------------------------+\n",
            "\n"
          ]
        }
      ],
      "source": [
        "# query to find the number of in work type who have not stroke\n",
        "spark.sql('''SELECT work_type, COUNT(work_type) as work_type_count,\n",
        "COUNT(work_type) *100 / (\n",
        "SELECT count(work_type) from data WHERE stroke == 0\n",
        ")\n",
        "\n",
        " FROM data WHERE stroke == 0 GROUP BY work_type ORDER BY COUNT(work_type) DESC''').show()\n",
        "\n"
      ]
    },
    {
      "cell_type": "code",
      "execution_count": 22,
      "metadata": {
        "colab": {
          "base_uri": "https://localhost:8080/"
        },
        "id": "9u_bGw7bF04k",
        "outputId": "cb51b855-997e-4150-9605-d1c63cfad9a1"
      },
      "outputs": [
        {
          "output_type": "stream",
          "name": "stdout",
          "text": [
            "+-------------+---------------+---------------------------------------------+\n",
            "|    work_type|work_type_count|((count(work_type) * 100) / scalarsubquery())|\n",
            "+-------------+---------------+---------------------------------------------+\n",
            "|      Private|           2776|                           54.324853228962816|\n",
            "|Self-employed|            754|                           14.755381604696673|\n",
            "|     children|            685|                           13.405088062622308|\n",
            "|     Govt_job|            624|                           12.211350293542074|\n",
            "| Never_worked|             22|                          0.43052837573385516|\n",
            "+-------------+---------------+---------------------------------------------+\n",
            "\n"
          ]
        }
      ],
      "source": [
        "spark.sql('''SELECT work_type, COUNT(work_type) as work_type_count,\n",
        "\n",
        "COUNT(work_type) *100 / (\n",
        "SELECT count(work_type) from data \n",
        ")\n",
        "\n",
        " FROM data \n",
        "WHERE stroke == 0 GROUP BY work_type \n",
        "ORDER BY COUNT(work_type) DESC''').show()"
      ]
    },
    {
      "cell_type": "markdown",
      "metadata": {
        "id": "efqoSnjsBJNU"
      },
      "source": [
        "from this we can say that Most People who get stroke are having work type Private anD self-Employed"
      ]
    },
    {
      "cell_type": "markdown",
      "metadata": {
        "id": "2mvAmav2Bs0O"
      },
      "source": [
        "# Gender with Target"
      ]
    },
    {
      "cell_type": "code",
      "execution_count": 23,
      "metadata": {
        "id": "I3oIpB_1KHmT"
      },
      "outputs": [],
      "source": [
        "df_gen=spark.sql('''select gender , count(gender) as gender_count, \n",
        "count(gender)  / (select count(gender) \n",
        "from data where stroke==1)*100 as percentage from data\n",
        "where stroke==1  group by gender''').toPandas()"
      ]
    },
    {
      "cell_type": "code",
      "execution_count": 24,
      "metadata": {
        "colab": {
          "base_uri": "https://localhost:8080/",
          "height": 112
        },
        "id": "lbzKBLHVKQQi",
        "outputId": "b8d61382-7c8a-47f9-906a-40d7a86302ae"
      },
      "outputs": [
        {
          "output_type": "execute_result",
          "data": {
            "text/plain": [
              "   gender  gender_count  percentage\n",
              "0  Female           141   56.626506\n",
              "1    Male           108   43.373494"
            ],
            "text/html": [
              "\n",
              "  <div id=\"df-d9608f17-0c70-45fe-aae5-d4db0d69e8da\">\n",
              "    <div class=\"colab-df-container\">\n",
              "      <div>\n",
              "<style scoped>\n",
              "    .dataframe tbody tr th:only-of-type {\n",
              "        vertical-align: middle;\n",
              "    }\n",
              "\n",
              "    .dataframe tbody tr th {\n",
              "        vertical-align: top;\n",
              "    }\n",
              "\n",
              "    .dataframe thead th {\n",
              "        text-align: right;\n",
              "    }\n",
              "</style>\n",
              "<table border=\"1\" class=\"dataframe\">\n",
              "  <thead>\n",
              "    <tr style=\"text-align: right;\">\n",
              "      <th></th>\n",
              "      <th>gender</th>\n",
              "      <th>gender_count</th>\n",
              "      <th>percentage</th>\n",
              "    </tr>\n",
              "  </thead>\n",
              "  <tbody>\n",
              "    <tr>\n",
              "      <th>0</th>\n",
              "      <td>Female</td>\n",
              "      <td>141</td>\n",
              "      <td>56.626506</td>\n",
              "    </tr>\n",
              "    <tr>\n",
              "      <th>1</th>\n",
              "      <td>Male</td>\n",
              "      <td>108</td>\n",
              "      <td>43.373494</td>\n",
              "    </tr>\n",
              "  </tbody>\n",
              "</table>\n",
              "</div>\n",
              "      <button class=\"colab-df-convert\" onclick=\"convertToInteractive('df-d9608f17-0c70-45fe-aae5-d4db0d69e8da')\"\n",
              "              title=\"Convert this dataframe to an interactive table.\"\n",
              "              style=\"display:none;\">\n",
              "        \n",
              "  <svg xmlns=\"http://www.w3.org/2000/svg\" height=\"24px\"viewBox=\"0 0 24 24\"\n",
              "       width=\"24px\">\n",
              "    <path d=\"M0 0h24v24H0V0z\" fill=\"none\"/>\n",
              "    <path d=\"M18.56 5.44l.94 2.06.94-2.06 2.06-.94-2.06-.94-.94-2.06-.94 2.06-2.06.94zm-11 1L8.5 8.5l.94-2.06 2.06-.94-2.06-.94L8.5 2.5l-.94 2.06-2.06.94zm10 10l.94 2.06.94-2.06 2.06-.94-2.06-.94-.94-2.06-.94 2.06-2.06.94z\"/><path d=\"M17.41 7.96l-1.37-1.37c-.4-.4-.92-.59-1.43-.59-.52 0-1.04.2-1.43.59L10.3 9.45l-7.72 7.72c-.78.78-.78 2.05 0 2.83L4 21.41c.39.39.9.59 1.41.59.51 0 1.02-.2 1.41-.59l7.78-7.78 2.81-2.81c.8-.78.8-2.07 0-2.86zM5.41 20L4 18.59l7.72-7.72 1.47 1.35L5.41 20z\"/>\n",
              "  </svg>\n",
              "      </button>\n",
              "      \n",
              "  <style>\n",
              "    .colab-df-container {\n",
              "      display:flex;\n",
              "      flex-wrap:wrap;\n",
              "      gap: 12px;\n",
              "    }\n",
              "\n",
              "    .colab-df-convert {\n",
              "      background-color: #E8F0FE;\n",
              "      border: none;\n",
              "      border-radius: 50%;\n",
              "      cursor: pointer;\n",
              "      display: none;\n",
              "      fill: #1967D2;\n",
              "      height: 32px;\n",
              "      padding: 0 0 0 0;\n",
              "      width: 32px;\n",
              "    }\n",
              "\n",
              "    .colab-df-convert:hover {\n",
              "      background-color: #E2EBFA;\n",
              "      box-shadow: 0px 1px 2px rgba(60, 64, 67, 0.3), 0px 1px 3px 1px rgba(60, 64, 67, 0.15);\n",
              "      fill: #174EA6;\n",
              "    }\n",
              "\n",
              "    [theme=dark] .colab-df-convert {\n",
              "      background-color: #3B4455;\n",
              "      fill: #D2E3FC;\n",
              "    }\n",
              "\n",
              "    [theme=dark] .colab-df-convert:hover {\n",
              "      background-color: #434B5C;\n",
              "      box-shadow: 0px 1px 3px 1px rgba(0, 0, 0, 0.15);\n",
              "      filter: drop-shadow(0px 1px 2px rgba(0, 0, 0, 0.3));\n",
              "      fill: #FFFFFF;\n",
              "    }\n",
              "  </style>\n",
              "\n",
              "      <script>\n",
              "        const buttonEl =\n",
              "          document.querySelector('#df-d9608f17-0c70-45fe-aae5-d4db0d69e8da button.colab-df-convert');\n",
              "        buttonEl.style.display =\n",
              "          google.colab.kernel.accessAllowed ? 'block' : 'none';\n",
              "\n",
              "        async function convertToInteractive(key) {\n",
              "          const element = document.querySelector('#df-d9608f17-0c70-45fe-aae5-d4db0d69e8da');\n",
              "          const dataTable =\n",
              "            await google.colab.kernel.invokeFunction('convertToInteractive',\n",
              "                                                     [key], {});\n",
              "          if (!dataTable) return;\n",
              "\n",
              "          const docLinkHtml = 'Like what you see? Visit the ' +\n",
              "            '<a target=\"_blank\" href=https://colab.research.google.com/notebooks/data_table.ipynb>data table notebook</a>'\n",
              "            + ' to learn more about interactive tables.';\n",
              "          element.innerHTML = '';\n",
              "          dataTable['output_type'] = 'display_data';\n",
              "          await google.colab.output.renderOutput(dataTable, element);\n",
              "          const docLink = document.createElement('div');\n",
              "          docLink.innerHTML = docLinkHtml;\n",
              "          element.appendChild(docLink);\n",
              "        }\n",
              "      </script>\n",
              "    </div>\n",
              "  </div>\n",
              "  "
            ]
          },
          "metadata": {},
          "execution_count": 24
        }
      ],
      "source": [
        "df_gen"
      ]
    },
    {
      "cell_type": "code",
      "execution_count": 25,
      "metadata": {
        "colab": {
          "base_uri": "https://localhost:8080/",
          "height": 296
        },
        "id": "jCnel_wIK8fJ",
        "outputId": "56aa22f9-f414-4c60-991e-f715ededc079"
      },
      "outputs": [
        {
          "output_type": "execute_result",
          "data": {
            "text/plain": [
              "<matplotlib.axes._subplots.AxesSubplot at 0x7f835dd9b5d0>"
            ]
          },
          "metadata": {},
          "execution_count": 25
        },
        {
          "output_type": "display_data",
          "data": {
            "text/plain": [
              "<Figure size 432x288 with 1 Axes>"
            ],
            "image/png": "[encoded data removed]"
          },
          "metadata": {
            "needs_background": "light"
          }
        }
      ],
      "source": [
        "sns.barplot(data=df_gen, x=\"gender\", y=\"percentage\" )"
      ]
    },
    {
      "cell_type": "code",
      "execution_count": 26,
      "metadata": {
        "colab": {
          "base_uri": "https://localhost:8080/"
        },
        "id": "ozVugNIEM8zG",
        "outputId": "1181c4a9-d666-4ef6-dfaf-8b4504e6482f"
      },
      "outputs": [
        {
          "output_type": "stream",
          "name": "stdout",
          "text": [
            "+----+------+---+------------+-------------+------------+---------+--------------+-----------------+---+---------------+------+\n",
            "|  id|gender|age|hypertension|heart_disease|ever_married|work_type|Residence_type|avg_glucose_level|bmi| smoking_status|stroke|\n",
            "+----+------+---+------------+-------------+------------+---------+--------------+-----------------+---+---------------+------+\n",
            "|9046|  Male| 67|           0|           67|         Yes|  Private|         Urban|              0.0| 67|formerly smoked|     1|\n",
            "+----+------+---+------------+-------------+------------+---------+--------------+-----------------+---+---------------+------+\n",
            "only showing top 1 row\n",
            "\n"
          ]
        }
      ],
      "source": [
        "df.show(1)"
      ]
    },
    {
      "cell_type": "markdown",
      "metadata": {
        "id": "XQuM0emdLwJF"
      },
      "source": [
        "# Checking the influence of Stroke after age 50"
      ]
    },
    {
      "cell_type": "code",
      "execution_count": 27,
      "metadata": {
        "colab": {
          "base_uri": "https://localhost:8080/"
        },
        "id": "8Q7jNe6rLNiQ",
        "outputId": "f15ce26a-3075-4d38-edf3-2595f7e324e9"
      },
      "outputs": [
        {
          "output_type": "stream",
          "name": "stdout",
          "text": [
            "+-----------------+\n",
            "|       percentage|\n",
            "+-----------------+\n",
            "|91.96787148594377|\n",
            "+-----------------+\n",
            "\n"
          ]
        }
      ],
      "source": [
        "spark.sql('''select count(age) *100 / (select count(age) from data where stroke==1)as percentage\n",
        "from data where stroke== 1 and age >=50 ''').show()"
      ]
    },
    {
      "cell_type": "code",
      "execution_count": 27,
      "metadata": {
        "id": "kN59JGOwTdCH"
      },
      "outputs": [],
      "source": []
    },
    {
      "cell_type": "markdown",
      "metadata": {
        "id": "8EqgFw2MQ_jk"
      },
      "source": [
        "from here we can see that after age 50 91% people are having a chance of getting stroke"
      ]
    },
    {
      "cell_type": "markdown",
      "metadata": {
        "id": "yLLELT6kTe3k"
      },
      "source": []
    },
    {
      "cell_type": "code",
      "execution_count": 28,
      "metadata": {
        "colab": {
          "base_uri": "https://localhost:8080/"
        },
        "id": "6-glPv-xTfW-",
        "outputId": "c2871b28-8cc1-4a7f-a0f8-b26f63f86553"
      },
      "outputs": [
        {
          "output_type": "stream",
          "name": "stdout",
          "text": [
            "+-------+-----------------+------+------------------+------------------+------------------+------------+---------+--------------+------------------+------------------+--------------+-------------------+\n",
            "|summary|               id|gender|               age|      hypertension|     heart_disease|ever_married|work_type|Residence_type| avg_glucose_level|               bmi|smoking_status|             stroke|\n",
            "+-------+-----------------+------+------------------+------------------+------------------+------------+---------+--------------+------------------+------------------+--------------+-------------------+\n",
            "|  count|             5110|  5110|              5110|              5110|              5110|        5110|     5110|          5110|              5110|              5110|          5110|               5110|\n",
            "|   mean|36517.82935420744|  null| 43.21526418786693|0.0974559686888454| 43.21526418786693|        null|     null|          null|0.0974559686888454| 43.21526418786693|          null| 0.0487279843444227|\n",
            "| stddev|21161.72162482715|  null|22.633865752854746| 0.296606674233791|22.633865752854746|        null|     null|          null| 0.296606674233791|22.633865752854746|          null|0.21531985698023753|\n",
            "|    min|            10018|Female|                 0|                 0|                 0|          No| Govt_job|         Rural|               0.0|                 0|       Unknown|                  0|\n",
            "|    max|             9995| Other|                82|                 1|                82|         Yes| children|         Urban|               1.0|                82|        smokes|                  1|\n",
            "+-------+-----------------+------+------------------+------------------+------------------+------------+---------+--------------+------------------+------------------+--------------+-------------------+\n",
            "\n"
          ]
        }
      ],
      "source": [
        "df.describe().show()"
      ]
    },
    {
      "cell_type": "code",
      "execution_count": 29,
      "metadata": {
        "colab": {
          "base_uri": "https://localhost:8080/"
        },
        "id": "hO-Xy9YtNo_d",
        "outputId": "53cfdbdb-c0be-42ea-cb56-cd37b59ca082"
      },
      "outputs": [
        {
          "output_type": "stream",
          "name": "stdout",
          "text": [
            "+---+------+---+------------+-------------+------------+---------+--------------+-----------------+---+--------------+------+\n",
            "| id|gender|age|hypertension|heart_disease|ever_married|work_type|Residence_type|avg_glucose_level|bmi|smoking_status|stroke|\n",
            "+---+------+---+------------+-------------+------------+---------+--------------+-----------------+---+--------------+------+\n",
            "|  0|     0|  0|           0|            0|           0|        0|             0|                0|  0|          1544|     0|\n",
            "+---+------+---+------------+-------------+------------+---------+--------------+-----------------+---+--------------+------+\n",
            "\n"
          ]
        }
      ],
      "source": [
        "\n",
        "# Find count for empty, None, Null, Nan with string literals.\n",
        "from pyspark.sql.functions import col,isnan,when,count\n",
        "df2 = df.select([count(when(col(c).contains('None') | \\\n",
        "                            col(c).contains('NULL') | \\\n",
        "                            col(c).contains('N/A') | \\\n",
        "                            \n",
        "                            col(c).contains('Unknown') | \\\n",
        "\n",
        "                            (col(c) == '' ) | \\\n",
        "                            col(c).isNull() | \\\n",
        "                            isnan(c), c \n",
        "                           )).alias(c)\n",
        "                    for c in df.columns])\n",
        "df2.show()"
      ]
    },
    {
      "cell_type": "markdown",
      "metadata": {
        "id": "0uw6-ew2VdRt"
      },
      "source": [
        "# filling Missing Values"
      ]
    },
    {
      "cell_type": "code",
      "execution_count": 30,
      "metadata": {
        "colab": {
          "base_uri": "https://localhost:8080/"
        },
        "id": "5lIggJkYOKVT",
        "outputId": "4d7abc75-d56f-4596-f8cd-433e18ee172a"
      },
      "outputs": [
        {
          "output_type": "execute_result",
          "data": {
            "text/plain": [
              "5110"
            ]
          },
          "metadata": {},
          "execution_count": 30
        }
      ],
      "source": [
        "df.count()"
      ]
    },
    {
      "cell_type": "code",
      "execution_count": 31,
      "metadata": {
        "id": "cTSsDjr7XKcs"
      },
      "outputs": [],
      "source": [
        "df=df.replace(['Unknown','N/A'],None)\n"
      ]
    },
    {
      "cell_type": "markdown",
      "metadata": {
        "id": "wdvueVuDY4dV"
      },
      "source": [
        "df.show("
      ]
    },
    {
      "cell_type": "code",
      "execution_count": 31,
      "metadata": {
        "id": "-65mtrc-Y6vs"
      },
      "outputs": [],
      "source": []
    },
    {
      "cell_type": "code",
      "execution_count": 32,
      "metadata": {
        "id": "IW-1xBT2VrBL"
      },
      "outputs": [],
      "source": [
        "# for cat column weare fillinf them bu mode"
      ]
    },
    {
      "cell_type": "code",
      "execution_count": 33,
      "metadata": {
        "id": "aI59sRVXMSLb"
      },
      "outputs": [],
      "source": [
        "sm_mode=df.groupby(\"smoking_status\").count().orderBy(\"count\", ascending=False).first()[0]"
      ]
    },
    {
      "cell_type": "code",
      "execution_count": 34,
      "metadata": {
        "colab": {
          "base_uri": "https://localhost:8080/"
        },
        "id": "nvSiKbkZfHv4",
        "outputId": "616147d1-c29f-47bd-ddfa-45a260a619af"
      },
      "outputs": [
        {
          "output_type": "stream",
          "name": "stdout",
          "text": [
            "+-----+------+---+------------+-------------+------------+-------------+--------------+-----------------+---+---------------+------+\n",
            "|   id|gender|age|hypertension|heart_disease|ever_married|    work_type|Residence_type|avg_glucose_level|bmi| smoking_status|stroke|\n",
            "+-----+------+---+------------+-------------+------------+-------------+--------------+-----------------+---+---------------+------+\n",
            "| 9046|  Male| 67|           0|           67|         Yes|      Private|         Urban|              0.0| 67|formerly smoked|     1|\n",
            "|51676|Female| 61|           0|           61|         Yes|Self-employed|         Rural|              0.0| 61|   never smoked|     1|\n",
            "|31112|  Male| 80|           0|           80|         Yes|      Private|         Rural|              0.0| 80|   never smoked|     1|\n",
            "|60182|Female| 49|           0|           49|         Yes|      Private|         Urban|              0.0| 49|         smokes|     1|\n",
            "| 1665|Female| 79|           1|           79|         Yes|Self-employed|         Rural|              1.0| 79|   never smoked|     1|\n",
            "+-----+------+---+------------+-------------+------------+-------------+--------------+-----------------+---+---------------+------+\n",
            "only showing top 5 rows\n",
            "\n"
          ]
        }
      ],
      "source": [
        "df.show(5)"
      ]
    },
    {
      "cell_type": "code",
      "execution_count": 34,
      "metadata": {
        "id": "xdnZMXkjffhT"
      },
      "outputs": [],
      "source": [
        "\n"
      ]
    },
    {
      "cell_type": "code",
      "execution_count": 35,
      "metadata": {
        "colab": {
          "base_uri": "https://localhost:8080/"
        },
        "id": "IohALI4lfCxA",
        "outputId": "0912b262-a6ca-416f-fc88-a7dd24c782b1"
      },
      "outputs": [
        {
          "output_type": "stream",
          "name": "stdout",
          "text": [
            "root\n",
            " |-- id: string (nullable = true)\n",
            " |-- gender: string (nullable = true)\n",
            " |-- age: integer (nullable = true)\n",
            " |-- hypertension: integer (nullable = true)\n",
            " |-- heart_disease: integer (nullable = true)\n",
            " |-- ever_married: string (nullable = true)\n",
            " |-- work_type: string (nullable = true)\n",
            " |-- Residence_type: string (nullable = true)\n",
            " |-- avg_glucose_level: float (nullable = true)\n",
            " |-- bmi: integer (nullable = true)\n",
            " |-- smoking_status: string (nullable = true)\n",
            " |-- stroke: integer (nullable = true)\n",
            "\n"
          ]
        }
      ],
      "source": [
        "df.printSchema()"
      ]
    },
    {
      "cell_type": "code",
      "execution_count": 36,
      "metadata": {
        "id": "yUTgIPzAeeZE"
      },
      "outputs": [],
      "source": [
        "mean_bmi=df.select(f.mean('bmi')).toPandas()[\"avg(bmi)\"][0]"
      ]
    },
    {
      "cell_type": "code",
      "execution_count": 37,
      "metadata": {
        "id": "-HTCSwFnNvop"
      },
      "outputs": [],
      "source": [
        "df=df.na.fill(value=sm_mode,subset=[\"smoking_status\"])\n",
        "df=df.na.fill(value=mean_bmi,subset=[\"bmi\"])"
      ]
    },
    {
      "cell_type": "code",
      "execution_count": 38,
      "metadata": {
        "colab": {
          "base_uri": "https://localhost:8080/"
        },
        "id": "Z9xdJoPseMmB",
        "outputId": "e5216e6c-1d66-470c-e1ae-95668add29ee"
      },
      "outputs": [
        {
          "output_type": "stream",
          "name": "stdout",
          "text": [
            "+-----+------+---+------------+-------------+------------+-------------+--------------+-----------------+---+---------------+------+\n",
            "|   id|gender|age|hypertension|heart_disease|ever_married|    work_type|Residence_type|avg_glucose_level|bmi| smoking_status|stroke|\n",
            "+-----+------+---+------------+-------------+------------+-------------+--------------+-----------------+---+---------------+------+\n",
            "| 9046|  Male| 67|           0|           67|         Yes|      Private|         Urban|              0.0| 67|formerly smoked|     1|\n",
            "|51676|Female| 61|           0|           61|         Yes|Self-employed|         Rural|              0.0| 61|   never smoked|     1|\n",
            "|31112|  Male| 80|           0|           80|         Yes|      Private|         Rural|              0.0| 80|   never smoked|     1|\n",
            "|60182|Female| 49|           0|           49|         Yes|      Private|         Urban|              0.0| 49|         smokes|     1|\n",
            "| 1665|Female| 79|           1|           79|         Yes|Self-employed|         Rural|              1.0| 79|   never smoked|     1|\n",
            "|56669|  Male| 81|           0|           81|         Yes|      Private|         Urban|              0.0| 81|formerly smoked|     1|\n",
            "|53882|  Male| 74|           1|           74|         Yes|      Private|         Rural|              1.0| 74|   never smoked|     1|\n",
            "|10434|Female| 69|           0|           69|          No|      Private|         Urban|              0.0| 69|   never smoked|     1|\n",
            "|27419|Female| 59|           0|           59|         Yes|      Private|         Rural|              0.0| 59|   never smoked|     1|\n",
            "|60491|Female| 78|           0|           78|         Yes|      Private|         Urban|              0.0| 78|   never smoked|     1|\n",
            "|12109|Female| 81|           1|           81|         Yes|      Private|         Rural|              1.0| 81|   never smoked|     1|\n",
            "|12095|Female| 61|           0|           61|         Yes|     Govt_job|         Rural|              0.0| 61|         smokes|     1|\n",
            "|12175|Female| 54|           0|           54|         Yes|      Private|         Urban|              0.0| 54|         smokes|     1|\n",
            "| 8213|  Male| 78|           0|           78|         Yes|      Private|         Urban|              0.0| 78|   never smoked|     1|\n",
            "| 5317|Female| 79|           0|           79|         Yes|      Private|         Urban|              0.0| 79|   never smoked|     1|\n",
            "|58202|Female| 50|           1|           50|         Yes|Self-employed|         Rural|              1.0| 50|   never smoked|     1|\n",
            "|56112|  Male| 64|           0|           64|         Yes|      Private|         Urban|              0.0| 64|         smokes|     1|\n",
            "|34120|  Male| 75|           1|           75|         Yes|      Private|         Urban|              1.0| 75|         smokes|     1|\n",
            "|27458|Female| 60|           0|           60|          No|      Private|         Urban|              0.0| 60|   never smoked|     1|\n",
            "|25226|  Male| 57|           0|           57|          No|     Govt_job|         Urban|              0.0| 57|   never smoked|     1|\n",
            "+-----+------+---+------------+-------------+------------+-------------+--------------+-----------------+---+---------------+------+\n",
            "only showing top 20 rows\n",
            "\n"
          ]
        }
      ],
      "source": [
        "df.show()"
      ]
    },
    {
      "cell_type": "code",
      "execution_count": 39,
      "metadata": {
        "id": "TRc3Og7-eVJA"
      },
      "outputs": [],
      "source": [
        "df = df.drop('id')"
      ]
    },
    {
      "cell_type": "code",
      "execution_count": 39,
      "metadata": {
        "id": "hpeIppVp4qY_"
      },
      "outputs": [],
      "source": []
    },
    {
      "cell_type": "markdown",
      "metadata": {
        "id": "esbvUQQTn7Z8"
      },
      "source": [
        "# Handling Categorical Columns"
      ]
    },
    {
      "cell_type": "code",
      "execution_count": 40,
      "metadata": {
        "id": "YUOAg2n8sY9L"
      },
      "outputs": [],
      "source": [
        "from pyspark.ml import Pipeline"
      ]
    },
    {
      "cell_type": "code",
      "execution_count": 41,
      "metadata": {
        "id": "Ik_Jbek5wjFD"
      },
      "outputs": [],
      "source": [
        "cols= df.columns"
      ]
    },
    {
      "cell_type": "code",
      "execution_count": 41,
      "metadata": {
        "id": "8bjii0UzuuLF"
      },
      "outputs": [],
      "source": []
    },
    {
      "cell_type": "code",
      "execution_count": 42,
      "metadata": {
        "colab": {
          "base_uri": "https://localhost:8080/"
        },
        "id": "iYNI6I0Q6hf1",
        "outputId": "e0410027-cc39-4a42-d943-7120c7e22e92"
      },
      "outputs": [
        {
          "output_type": "stream",
          "name": "stdout",
          "text": [
            "+------+---+------------+-------------+------------+-------------+--------------+-----------------+---+---------------+------+\n",
            "|gender|age|hypertension|heart_disease|ever_married|    work_type|Residence_type|avg_glucose_level|bmi| smoking_status|stroke|\n",
            "+------+---+------------+-------------+------------+-------------+--------------+-----------------+---+---------------+------+\n",
            "|  Male| 67|           0|           67|         Yes|      Private|         Urban|              0.0| 67|formerly smoked|     1|\n",
            "|Female| 61|           0|           61|         Yes|Self-employed|         Rural|              0.0| 61|   never smoked|     1|\n",
            "|  Male| 80|           0|           80|         Yes|      Private|         Rural|              0.0| 80|   never smoked|     1|\n",
            "|Female| 49|           0|           49|         Yes|      Private|         Urban|              0.0| 49|         smokes|     1|\n",
            "|Female| 79|           1|           79|         Yes|Self-employed|         Rural|              1.0| 79|   never smoked|     1|\n",
            "+------+---+------------+-------------+------------+-------------+--------------+-----------------+---+---------------+------+\n",
            "only showing top 5 rows\n",
            "\n"
          ]
        }
      ],
      "source": [
        "df.show(5)"
      ]
    },
    {
      "cell_type": "code",
      "execution_count": 43,
      "metadata": {
        "id": "_2oTNb5858fc"
      },
      "outputs": [],
      "source": [
        "stages=[]"
      ]
    },
    {
      "cell_type": "code",
      "execution_count": 44,
      "metadata": {
        "id": "EXOd2TfW58j4"
      },
      "outputs": [],
      "source": [
        "categoricalColumns = [\"gender\",\"ever_married\", \"work_type\", \"Residence_type\",\"smoking_status\"]\n",
        "for categoricalCol in categoricalColumns:\n",
        "    stringIndexer = StringIndexer(inputCol = categoricalCol, outputCol = categoricalCol + 'Index')\n",
        "    encoder = OneHotEncoder(inputCols=[stringIndexer.getOutputCol()],outputCols=[categoricalCol + \"classVec\"])\n",
        "    stages += [stringIndexer, encoder]\n",
        "numericCols = [\"age\", \"hypertension\",\"heart_disease\",\"avg_glucose_level\",\"bmi\"]\n",
        "assemblerInputs= [c + \"classVec\" for c in categoricalColumns] + numericCols \n",
        "assembler = VectorAssembler(inputCols = assemblerInputs,outputCol=\"features\")\n",
        "stages += [assembler]\n",
        "pipeline = Pipeline(stages = stages)\n",
        "pipelineModel = pipeline.fit(df)\n",
        "df_encoded = pipelineModel.transform(df)\n",
        "selectCols = ['features'] + cols\n",
        "df_encoded = df_encoded.select(selectCols)"
      ]
    },
    {
      "cell_type": "code",
      "execution_count": 45,
      "metadata": {
        "colab": {
          "base_uri": "https://localhost:8080/"
        },
        "id": "CW3atO-c58o0",
        "outputId": "703217c3-2348-4b2d-a4ae-ceaa715c8170"
      },
      "outputs": [
        {
          "output_type": "stream",
          "name": "stdout",
          "text": [
            "+--------------------+------+---+------------+-------------+------------+-------------+--------------+-----------------+---+---------------+------+\n",
            "|            features|gender|age|hypertension|heart_disease|ever_married|    work_type|Residence_type|avg_glucose_level|bmi| smoking_status|stroke|\n",
            "+--------------------+------+---+------------+-------------+------------+-------------+--------------+-----------------+---+---------------+------+\n",
            "|(15,[1,2,3,7,9,10...|  Male| 67|           0|           67|         Yes|      Private|         Urban|              0.0| 67|formerly smoked|     1|\n",
            "|(15,[0,2,4,8,10,1...|Female| 61|           0|           61|         Yes|Self-employed|         Rural|              0.0| 61|   never smoked|     1|\n",
            "|(15,[1,2,3,8,10,1...|  Male| 80|           0|           80|         Yes|      Private|         Rural|              0.0| 80|   never smoked|     1|\n",
            "|(15,[0,2,3,7,10,1...|Female| 49|           0|           49|         Yes|      Private|         Urban|              0.0| 49|         smokes|     1|\n",
            "|[1.0,0.0,1.0,0.0,...|Female| 79|           1|           79|         Yes|Self-employed|         Rural|              1.0| 79|   never smoked|     1|\n",
            "|(15,[1,2,3,7,9,10...|  Male| 81|           0|           81|         Yes|      Private|         Urban|              0.0| 81|formerly smoked|     1|\n",
            "|[0.0,1.0,1.0,1.0,...|  Male| 74|           1|           74|         Yes|      Private|         Rural|              1.0| 74|   never smoked|     1|\n",
            "|(15,[0,3,7,8,10,1...|Female| 69|           0|           69|          No|      Private|         Urban|              0.0| 69|   never smoked|     1|\n",
            "|(15,[0,2,3,8,10,1...|Female| 59|           0|           59|         Yes|      Private|         Rural|              0.0| 59|   never smoked|     1|\n",
            "|(15,[0,2,3,7,8,10...|Female| 78|           0|           78|         Yes|      Private|         Urban|              0.0| 78|   never smoked|     1|\n",
            "|[1.0,0.0,1.0,1.0,...|Female| 81|           1|           81|         Yes|      Private|         Rural|              1.0| 81|   never smoked|     1|\n",
            "|(15,[0,2,6,10,12,...|Female| 61|           0|           61|         Yes|     Govt_job|         Rural|              0.0| 61|         smokes|     1|\n",
            "|(15,[0,2,3,7,10,1...|Female| 54|           0|           54|         Yes|      Private|         Urban|              0.0| 54|         smokes|     1|\n",
            "|(15,[1,2,3,7,8,10...|  Male| 78|           0|           78|         Yes|      Private|         Urban|              0.0| 78|   never smoked|     1|\n",
            "|(15,[0,2,3,7,8,10...|Female| 79|           0|           79|         Yes|      Private|         Urban|              0.0| 79|   never smoked|     1|\n",
            "|[1.0,0.0,1.0,0.0,...|Female| 50|           1|           50|         Yes|Self-employed|         Rural|              1.0| 50|   never smoked|     1|\n",
            "|(15,[1,2,3,7,10,1...|  Male| 64|           0|           64|         Yes|      Private|         Urban|              0.0| 64|         smokes|     1|\n",
            "|[0.0,1.0,1.0,1.0,...|  Male| 75|           1|           75|         Yes|      Private|         Urban|              1.0| 75|         smokes|     1|\n",
            "|(15,[0,3,7,8,10,1...|Female| 60|           0|           60|          No|      Private|         Urban|              0.0| 60|   never smoked|     1|\n",
            "|(15,[1,6,7,8,10,1...|  Male| 57|           0|           57|          No|     Govt_job|         Urban|              0.0| 57|   never smoked|     1|\n",
            "+--------------------+------+---+------------+-------------+------------+-------------+--------------+-----------------+---+---------------+------+\n",
            "only showing top 20 rows\n",
            "\n"
          ]
        }
      ],
      "source": [
        "df_encoded.show()"
      ]
    },
    {
      "cell_type": "code",
      "execution_count": 45,
      "metadata": {
        "id": "CxFGiNHHAVrN"
      },
      "outputs": [],
      "source": []
    },
    {
      "cell_type": "markdown",
      "metadata": {
        "id": "h1h9vPEOtT7i"
      },
      "source": [
        "***bold text***"
      ]
    },
    {
      "cell_type": "code",
      "execution_count": 46,
      "metadata": {
        "colab": {
          "base_uri": "https://localhost:8080/"
        },
        "id": "Lk01s68mvnIH",
        "outputId": "e69f714c-bafa-4744-9b86-2133c66afd4a"
      },
      "outputs": [
        {
          "output_type": "stream",
          "name": "stdout",
          "text": [
            "+--------------------+------+---+------------+-------------+------------+-------------+--------------+-----------------+---+---------------+------+\n",
            "|            features|gender|age|hypertension|heart_disease|ever_married|    work_type|Residence_type|avg_glucose_level|bmi| smoking_status|stroke|\n",
            "+--------------------+------+---+------------+-------------+------------+-------------+--------------+-----------------+---+---------------+------+\n",
            "|(15,[1,2,3,7,9,10...|  Male| 67|           0|           67|         Yes|      Private|         Urban|              0.0| 67|formerly smoked|     1|\n",
            "|(15,[0,2,4,8,10,1...|Female| 61|           0|           61|         Yes|Self-employed|         Rural|              0.0| 61|   never smoked|     1|\n",
            "|(15,[1,2,3,8,10,1...|  Male| 80|           0|           80|         Yes|      Private|         Rural|              0.0| 80|   never smoked|     1|\n",
            "|(15,[0,2,3,7,10,1...|Female| 49|           0|           49|         Yes|      Private|         Urban|              0.0| 49|         smokes|     1|\n",
            "|[1.0,0.0,1.0,0.0,...|Female| 79|           1|           79|         Yes|Self-employed|         Rural|              1.0| 79|   never smoked|     1|\n",
            "|(15,[1,2,3,7,9,10...|  Male| 81|           0|           81|         Yes|      Private|         Urban|              0.0| 81|formerly smoked|     1|\n",
            "|[0.0,1.0,1.0,1.0,...|  Male| 74|           1|           74|         Yes|      Private|         Rural|              1.0| 74|   never smoked|     1|\n",
            "|(15,[0,3,7,8,10,1...|Female| 69|           0|           69|          No|      Private|         Urban|              0.0| 69|   never smoked|     1|\n",
            "|(15,[0,2,3,8,10,1...|Female| 59|           0|           59|         Yes|      Private|         Rural|              0.0| 59|   never smoked|     1|\n",
            "|(15,[0,2,3,7,8,10...|Female| 78|           0|           78|         Yes|      Private|         Urban|              0.0| 78|   never smoked|     1|\n",
            "|[1.0,0.0,1.0,1.0,...|Female| 81|           1|           81|         Yes|      Private|         Rural|              1.0| 81|   never smoked|     1|\n",
            "|(15,[0,2,6,10,12,...|Female| 61|           0|           61|         Yes|     Govt_job|         Rural|              0.0| 61|         smokes|     1|\n",
            "|(15,[0,2,3,7,10,1...|Female| 54|           0|           54|         Yes|      Private|         Urban|              0.0| 54|         smokes|     1|\n",
            "|(15,[1,2,3,7,8,10...|  Male| 78|           0|           78|         Yes|      Private|         Urban|              0.0| 78|   never smoked|     1|\n",
            "|(15,[0,2,3,7,8,10...|Female| 79|           0|           79|         Yes|      Private|         Urban|              0.0| 79|   never smoked|     1|\n",
            "|[1.0,0.0,1.0,0.0,...|Female| 50|           1|           50|         Yes|Self-employed|         Rural|              1.0| 50|   never smoked|     1|\n",
            "|(15,[1,2,3,7,10,1...|  Male| 64|           0|           64|         Yes|      Private|         Urban|              0.0| 64|         smokes|     1|\n",
            "|[0.0,1.0,1.0,1.0,...|  Male| 75|           1|           75|         Yes|      Private|         Urban|              1.0| 75|         smokes|     1|\n",
            "|(15,[0,3,7,8,10,1...|Female| 60|           0|           60|          No|      Private|         Urban|              0.0| 60|   never smoked|     1|\n",
            "|(15,[1,6,7,8,10,1...|  Male| 57|           0|           57|          No|     Govt_job|         Urban|              0.0| 57|   never smoked|     1|\n",
            "+--------------------+------+---+------------+-------------+------------+-------------+--------------+-----------------+---+---------------+------+\n",
            "only showing top 20 rows\n",
            "\n"
          ]
        }
      ],
      "source": [
        "df_encoded.show()"
      ]
    },
    {
      "cell_type": "markdown",
      "metadata": {
        "id": "ijGmTcovtUGT"
      },
      "source": [
        "# Train Test Split"
      ]
    },
    {
      "cell_type": "code",
      "execution_count": 47,
      "metadata": {
        "colab": {
          "base_uri": "https://localhost:8080/"
        },
        "id": "djFMVk9RsHLq",
        "outputId": "ccf21db0-3126-4a6b-da21-0080a36f14a8"
      },
      "outputs": [
        {
          "output_type": "stream",
          "name": "stdout",
          "text": [
            "There are 3595 training examples and 1515 test examples\n"
          ]
        }
      ],
      "source": [
        "train , test = df_encoded.randomSplit([0.70,0.30],seed=99)\n",
        "print(\"There are %d training examples and %d test examples\"%(train.count(), test.count()))"
      ]
    },
    {
      "cell_type": "markdown",
      "metadata": {
        "id": "-CKFz9UAqT49"
      },
      "source": [
        "# Base Model"
      ]
    },
    {
      "cell_type": "markdown",
      "metadata": {
        "id": "lKfEuxcLyR2M"
      },
      "source": [
        "# Logistic Regression"
      ]
    },
    {
      "cell_type": "code",
      "execution_count": 48,
      "metadata": {
        "id": "Vyue0HLXp0hw"
      },
      "outputs": [],
      "source": [
        "from pyspark.ml.classification import LogisticRegression\n",
        "lr = LogisticRegression(featuresCol='features',labelCol='stroke')\n",
        "model_lr= lr.fit(train)\n",
        "lr_pred = model_lr.transform(test)\n",
        "\n"
      ]
    },
    {
      "cell_type": "markdown",
      "metadata": {
        "id": "cu4yEZxrFpnN"
      },
      "source": [
        "Evaluation"
      ]
    },
    {
      "cell_type": "code",
      "execution_count": 49,
      "metadata": {
        "id": "Bz81bNGes7bg"
      },
      "outputs": [],
      "source": [
        "from pyspark.ml.evaluation import MulticlassClassificationEvaluator\n",
        "# Select (prediction, true label) and compute test error\n",
        "acc_evaluator = MulticlassClassificationEvaluator(labelCol=\"stroke\", predictionCol=\"prediction\", metricName=\"accuracy\")\n",
        "f1_eval= MulticlassClassificationEvaluator(labelCol=\"stroke\", predictionCol=\"prediction\", metricName=\"f1\")\n",
        "prec_eval= MulticlassClassificationEvaluator(labelCol=\"stroke\", predictionCol=\"prediction\", metricName=\"weightedPrecision\")\n",
        "recall_eval= MulticlassClassificationEvaluator(labelCol=\"stroke\", predictionCol=\"prediction\", metricName=\"weightedRecall\")\n",
        "\n",
        "\n"
      ]
    },
    {
      "cell_type": "code",
      "execution_count": 50,
      "metadata": {
        "colab": {
          "base_uri": "https://localhost:8080/"
        },
        "id": "fD76NPQpzCOg",
        "outputId": "d2d85b59-1efc-497a-e200-3d5091ba495e"
      },
      "outputs": [
        {
          "output_type": "stream",
          "name": "stdout",
          "text": [
            "Logistic Regression Accuracy: 95.51%\n",
            "Logistic Regression F1 score of: 0.9331884842771921\n",
            "Logistic Regression Precision score : 0.9122456404056247\n",
            "Logistic Regression Recall score of: 0.9551155115511551\n"
          ]
        }
      ],
      "source": [
        "# Logistric Regression Evaluaion\n",
        "lr_acc = acc_evaluator.evaluate(lr_pred)\n",
        "lr_f1= f1_eval.evaluate(lr_pred)\n",
        "lr_prec = prec_eval.evaluate(lr_pred)\n",
        "lr_recall=recall_eval.evaluate(lr_pred)\n",
        "\n",
        "\n",
        "print('Logistic Regression Accuracy: {0:2.2f}%'.format(lr_acc*100))\n",
        "print('Logistic Regression F1 score of: {}'.format(lr_f1))\n",
        "print('Logistic Regression Precision score : {}'.format(lr_prec))\n",
        "print('Logistic Regression Recall score of: {}'.format(lr_recall))"
      ]
    },
    {
      "cell_type": "code",
      "execution_count": 50,
      "metadata": {
        "id": "3oYYFqjwzUt4"
      },
      "outputs": [],
      "source": []
    },
    {
      "cell_type": "code",
      "execution_count": 50,
      "metadata": {
        "id": "PBpMzRUoA17T"
      },
      "outputs": [],
      "source": []
    },
    {
      "cell_type": "markdown",
      "metadata": {
        "id": "4_3TKENk05ER"
      },
      "source": [
        "# Decision Tree"
      ]
    },
    {
      "cell_type": "code",
      "execution_count": 51,
      "metadata": {
        "id": "xCjAlFog0fnA"
      },
      "outputs": [],
      "source": [
        "from pyspark.ml.classification import DecisionTreeClassifier\n",
        "\n",
        "dt = DecisionTreeClassifier(featuresCol = 'features', labelCol = 'stroke')\n",
        "dtModel = dt.fit(train)\n",
        "dtPreds = dtModel.transform(test)\n",
        "dtc_predictions = dtModel.transform(test)"
      ]
    },
    {
      "cell_type": "code",
      "execution_count": 52,
      "metadata": {
        "colab": {
          "base_uri": "https://localhost:8080/"
        },
        "id": "bBNcsZIO0tdq",
        "outputId": "d8bb6ec1-f26e-4afd-804a-418afae9df61"
      },
      "outputs": [
        {
          "output_type": "stream",
          "name": "stdout",
          "text": [
            "Decision Tree Accuracy: 95.25%\n",
            "Decision Tree F1 score of: 0.931867263805488\n",
            "Decision Tree Precision score : 0.9121321529902825\n",
            "Decision Tree Recall score of: 0.9524752475247524\n"
          ]
        }
      ],
      "source": [
        "# Logistric Regression Evaluaion\n",
        "dt_acc = acc_evaluator.evaluate(dtc_predictions)\n",
        "dt_f1= f1_eval.evaluate(dtc_predictions)\n",
        "dt_prec = prec_eval.evaluate(dtc_predictions)\n",
        "dt_recall=recall_eval.evaluate(dtc_predictions)\n",
        "\n",
        "\n",
        "print('Decision Tree Accuracy: {0:2.2f}%'.format(dt_acc*100))\n",
        "print('Decision Tree F1 score of: {}'.format(dt_f1))\n",
        "print('Decision Tree Precision score : {}'.format(dt_prec))\n",
        "print('Decision Tree Recall score of: {}'.format(dt_recall))"
      ]
    },
    {
      "cell_type": "code",
      "execution_count": 52,
      "metadata": {
        "id": "jut7rCnx1MW4"
      },
      "outputs": [],
      "source": []
    },
    {
      "cell_type": "markdown",
      "metadata": {
        "id": "G1LhyWJwKmQj"
      },
      "source": [
        "# Random Forest\n"
      ]
    },
    {
      "cell_type": "code",
      "execution_count": 53,
      "metadata": {
        "id": "dcvNErwh5j6o"
      },
      "outputs": [],
      "source": [
        "from pyspark.ml.classification import RandomForestClassifier\n",
        "rf = RandomForestClassifier(featuresCol = 'features', labelCol = 'stroke')\n",
        "rfModel = rf.fit(train)\n",
        "rfPreds = rfModel.transform(test)\n"
      ]
    },
    {
      "cell_type": "code",
      "execution_count": 54,
      "metadata": {
        "colab": {
          "base_uri": "https://localhost:8080/"
        },
        "id": "b8uHH8rb5uDX",
        "outputId": "1bec9806-608d-4967-e402-c9c481f727e3"
      },
      "outputs": [
        {
          "output_type": "stream",
          "name": "stdout",
          "text": [
            "Random Forest Accuracy: 95.51%\n",
            "Random Forest F1 score of: 0.9331884842771921\n",
            "Random Forest Precision score : 0.9122456404056247\n",
            "Random Forest Recall score of: 0.9551155115511551\n"
          ]
        }
      ],
      "source": [
        "rf_acc = acc_evaluator.evaluate(rfPreds)\n",
        "rf_f1= f1_eval.evaluate(rfPreds)\n",
        "rf_prec = prec_eval.evaluate(rfPreds)\n",
        "rf_recall=recall_eval.evaluate(rfPreds)\n",
        "\n",
        "\n",
        "print('Random Forest Accuracy: {0:2.2f}%'.format(rf_acc*100))\n",
        "print('Random Forest F1 score of: {}'.format(rf_f1))\n",
        "print('Random Forest Precision score : {}'.format(rf_prec))\n",
        "print('Random Forest Recall score of: {}'.format(rf_recall))"
      ]
    },
    {
      "cell_type": "code",
      "execution_count": 54,
      "metadata": {
        "id": "_0qJus-XKorF"
      },
      "outputs": [],
      "source": [
        "\n"
      ]
    },
    {
      "cell_type": "markdown",
      "metadata": {
        "id": "KOaz9vghKrJc"
      },
      "source": [
        "# Gradient Boosting"
      ]
    },
    {
      "cell_type": "code",
      "execution_count": 55,
      "metadata": {
        "id": "-BOfWrPf-V_3"
      },
      "outputs": [],
      "source": [
        "from pyspark.ml.classification import GBTClassifier"
      ]
    },
    {
      "cell_type": "code",
      "execution_count": 56,
      "metadata": {
        "id": "lPpKLcgM5yKo"
      },
      "outputs": [],
      "source": [
        "gb = GBTClassifier(featuresCol = 'features', labelCol = 'stroke')\n",
        "gbModel = gb.fit(train)\n",
        "gbPreds = gbModel.transform(test)"
      ]
    },
    {
      "cell_type": "code",
      "execution_count": 57,
      "metadata": {
        "colab": {
          "base_uri": "https://localhost:8080/"
        },
        "id": "P6Y-fJwV-fC_",
        "outputId": "365f3a1b-e88e-4add-facb-f025340bd487"
      },
      "outputs": [
        {
          "output_type": "stream",
          "name": "stdout",
          "text": [
            "Gradient Boosting Accuracy: 95.18%\n",
            "Gradient Boosting F1 score of: 0.9315364001736663\n",
            "Gradient Boosting Precision score : 0.9121036871899111\n",
            "Gradient Recall score of: 0.9518151815181518\n"
          ]
        }
      ],
      "source": [
        "gb_acc = acc_evaluator.evaluate(gbPreds)\n",
        "gb_f1= f1_eval.evaluate(gbPreds)\n",
        "gb_prec = prec_eval.evaluate(gbPreds)\n",
        "gb_recall=recall_eval.evaluate(gbPreds)\n",
        "\n",
        "\n",
        "print('Gradient Boosting Accuracy: {0:2.2f}%'.format(gb_acc*100))\n",
        "print('Gradient Boosting F1 score of: {}'.format(gb_f1))\n",
        "print('Gradient Boosting Precision score : {}'.format(gb_prec))\n",
        "print('Gradient Recall score of: {}'.format(gb_recall))"
      ]
    },
    {
      "cell_type": "markdown",
      "metadata": {
        "id": "EcVTdYhSMV1E"
      },
      "source": [
        "# Linear SVC"
      ]
    },
    {
      "cell_type": "code",
      "execution_count": 57,
      "metadata": {
        "id": "C-sPgoqUMUJ1"
      },
      "outputs": [],
      "source": []
    },
    {
      "cell_type": "code",
      "execution_count": 58,
      "metadata": {
        "id": "0Ei4MB82KWPu"
      },
      "outputs": [],
      "source": [
        "from pyspark.ml.classification import LinearSVC"
      ]
    },
    {
      "cell_type": "code",
      "execution_count": 59,
      "metadata": {
        "id": "S79WbU7uLn8u"
      },
      "outputs": [],
      "source": [
        "svc = LinearSVC(featuresCol = 'features', labelCol = 'stroke')\n",
        "svcModel = svc.fit(train)\n",
        "svcPreds = svcModel.transform(test)"
      ]
    },
    {
      "cell_type": "code",
      "execution_count": 60,
      "metadata": {
        "colab": {
          "base_uri": "https://localhost:8080/"
        },
        "id": "r78Xoj7XL47O",
        "outputId": "97a0c122-5c44-41d8-a8e4-895baab7f91f"
      },
      "outputs": [
        {
          "output_type": "stream",
          "name": "stdout",
          "text": [
            "Linear SVC Accuracy: 95.51%\n",
            "Linear SVC  F1 score of: 0.9331884842771921\n",
            "Linear SVC  Precision score : 0.9122456404056247\n",
            "Linear Recall score of: 0.9551155115511551\n"
          ]
        }
      ],
      "source": [
        "svc_acc = acc_evaluator.evaluate(svcPreds)\n",
        "svc_f1= f1_eval.evaluate(svcPreds)\n",
        "svc_prec = prec_eval.evaluate(svcPreds)\n",
        "svc_recall=recall_eval.evaluate(svcPreds)\n",
        "\n",
        "\n",
        "print('Linear SVC Accuracy: {0:2.2f}%'.format(svc_acc*100))\n",
        "print('Linear SVC  F1 score of: {}'.format(svc_f1))\n",
        "print('Linear SVC  Precision score : {}'.format(svc_prec))\n",
        "print('Linear Recall score of: {}'.format(svc_recall))"
      ]
    },
    {
      "cell_type": "markdown",
      "metadata": {
        "id": "ywq9fI1kPYpb"
      },
      "source": [
        "Our Dataset was imbalanced but we have applied 5 baseline machine algorithms and evaluated them and come to a conclusion that All Algorithms are performing we can similar accuracy but Random Forest and LInear Support Vector Machine did the best and did the tie."
      ]
    },
    {
      "cell_type": "code",
      "execution_count": 60,
      "metadata": {
        "id": "BWV7nPbRMFv3"
      },
      "outputs": [],
      "source": []
    }
  ],
  "metadata": {
    "colab": {
      "collapsed_sections": [],
      "provenance": []
    },
    "kernelspec": {
      "display_name": "Python 3",
      "name": "python3"
    },
    "language_info": {
      "name": "python"
    }
  },
  "nbformat": 4,
  "nbformat_minor": 0
}